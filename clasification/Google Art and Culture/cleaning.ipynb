{
 "cells": [
  {
   "cell_type": "code",
   "execution_count": 34,
   "id": "e4e4fe22",
   "metadata": {},
   "outputs": [],
   "source": [
    "import pandas as pd\n",
    "\n",
    "df = pd.read_excel('data/data_unpacked.xlsx')"
   ]
  },
  {
   "cell_type": "code",
   "execution_count": 64,
   "id": "c73a5ee1",
   "metadata": {},
   "outputs": [
    {
     "name": "stdout",
     "output_type": "stream",
     "text": [
      "----------\n"
     ]
    },
    {
     "name": "stderr",
     "output_type": "stream",
     "text": [
      "C:\\Users\\user\\AppData\\Local\\Temp\\ipykernel_24624\\1966221852.py:10: SettingWithCopyWarning: \n",
      "A value is trying to be set on a copy of a slice from a DataFrame.\n",
      "Try using .loc[row_indexer,col_indexer] = value instead\n",
      "\n",
      "See the caveats in the documentation: https://pandas.pydata.org/pandas-docs/stable/user_guide/indexing.html#returning-a-view-versus-a-copy\n",
      "  df2['new']=df.apply(join_creator_artist, axis=1)\n"
     ]
    },
    {
     "data": {
      "text/html": [
       "<div>\n",
       "<style scoped>\n",
       "    .dataframe tbody tr th:only-of-type {\n",
       "        vertical-align: middle;\n",
       "    }\n",
       "\n",
       "    .dataframe tbody tr th {\n",
       "        vertical-align: top;\n",
       "    }\n",
       "\n",
       "    .dataframe thead th {\n",
       "        text-align: right;\n",
       "    }\n",
       "</style>\n",
       "<table border=\"1\" class=\"dataframe\">\n",
       "  <thead>\n",
       "    <tr style=\"text-align: right;\">\n",
       "      <th></th>\n",
       "      <th>url</th>\n",
       "      <th>title</th>\n",
       "      <th>creator</th>\n",
       "      <th>created</th>\n",
       "      <th>artist</th>\n",
       "      <th>category</th>\n",
       "      <th>dimension</th>\n",
       "      <th>new</th>\n",
       "    </tr>\n",
       "  </thead>\n",
       "  <tbody>\n",
       "    <tr>\n",
       "      <th>0</th>\n",
       "      <td>https://lh3.googleusercontent.com/ci/ACqFvF1fa...</td>\n",
       "      <td>Girl with a Pearl Earring</td>\n",
       "      <td>Johannes Vermeer</td>\n",
       "      <td>c. 1665  (digitized by Madpixel)</td>\n",
       "      <td>artist</td>\n",
       "      <td>BLACK</td>\n",
       "      <td>44.5 x 38.1 cm</td>\n",
       "      <td>Johannes Vermeer</td>\n",
       "    </tr>\n",
       "    <tr>\n",
       "      <th>1</th>\n",
       "      <td>https://lh3.googleusercontent.com/IN4tL8PgTXxm...</td>\n",
       "      <td>American Gothic</td>\n",
       "      <td>Grant Wood (American, 1891-1942)</td>\n",
       "      <td>1930</td>\n",
       "      <td>Grant Wood (American, 1891-1942)</td>\n",
       "      <td>BLACK</td>\n",
       "      <td>78 × 65.3 cm (30 3/4 × 25 3/4 in.)</td>\n",
       "      <td>Grant Wood (American, 1891-1942)</td>\n",
       "    </tr>\n",
       "    <tr>\n",
       "      <th>2</th>\n",
       "      <td>https://lh3.googleusercontent.com/b6TOe8s5BtvR...</td>\n",
       "      <td>Luncheon on the Grass</td>\n",
       "      <td>NaN</td>\n",
       "      <td>1863</td>\n",
       "      <td>NaN</td>\n",
       "      <td>BLACK</td>\n",
       "      <td>208 x 264.5 cm</td>\n",
       "      <td>None</td>\n",
       "    </tr>\n",
       "    <tr>\n",
       "      <th>3</th>\n",
       "      <td>https://lh3.googleusercontent.com/ci/ACqFvF0Lo...</td>\n",
       "      <td>Lady with an Ermine</td>\n",
       "      <td>Leonardo da Vinci</td>\n",
       "      <td>NaN</td>\n",
       "      <td>NaN</td>\n",
       "      <td>BLACK</td>\n",
       "      <td>NaN</td>\n",
       "      <td>Leonardo da Vinci</td>\n",
       "    </tr>\n",
       "    <tr>\n",
       "      <th>4</th>\n",
       "      <td>https://lh3.googleusercontent.com/LRWEui8Dl47I...</td>\n",
       "      <td>John Quincy Adams</td>\n",
       "      <td>NaN</td>\n",
       "      <td>1858</td>\n",
       "      <td>George P.A. Healy</td>\n",
       "      <td>BLACK</td>\n",
       "      <td>w1193.8 x h1574.8 mm (without frame)</td>\n",
       "      <td>George P.A. Healy</td>\n",
       "    </tr>\n",
       "  </tbody>\n",
       "</table>\n",
       "</div>"
      ],
      "text/plain": [
       "                                                 url  \\\n",
       "0  https://lh3.googleusercontent.com/ci/ACqFvF1fa...   \n",
       "1  https://lh3.googleusercontent.com/IN4tL8PgTXxm...   \n",
       "2  https://lh3.googleusercontent.com/b6TOe8s5BtvR...   \n",
       "3  https://lh3.googleusercontent.com/ci/ACqFvF0Lo...   \n",
       "4  https://lh3.googleusercontent.com/LRWEui8Dl47I...   \n",
       "\n",
       "                        title                            creator  \\\n",
       "0   Girl with a Pearl Earring                   Johannes Vermeer   \n",
       "1             American Gothic   Grant Wood (American, 1891-1942)   \n",
       "2       Luncheon on the Grass                                NaN   \n",
       "3         Lady with an Ermine                  Leonardo da Vinci   \n",
       "4           John Quincy Adams                                NaN   \n",
       "\n",
       "                             created                             artist  \\\n",
       "0   c. 1665  (digitized by Madpixel)                             artist   \n",
       "1                               1930   Grant Wood (American, 1891-1942)   \n",
       "2                               1863                                NaN   \n",
       "3                                NaN                                NaN   \n",
       "4                               1858                  George P.A. Healy   \n",
       "\n",
       "  category                              dimension  \\\n",
       "0    BLACK                         44.5 x 38.1 cm   \n",
       "1    BLACK     78 × 65.3 cm (30 3/4 × 25 3/4 in.)   \n",
       "2    BLACK                         208 x 264.5 cm   \n",
       "3    BLACK                                    NaN   \n",
       "4    BLACK   w1193.8 x h1574.8 mm (without frame)   \n",
       "\n",
       "                                 new  \n",
       "0                   Johannes Vermeer  \n",
       "1   Grant Wood (American, 1891-1942)  \n",
       "2                               None  \n",
       "3                  Leonardo da Vinci  \n",
       "4                  George P.A. Healy  "
      ]
     },
     "execution_count": 64,
     "metadata": {},
     "output_type": "execute_result"
    }
   ],
   "source": [
    "def join_creator_artist(row):\n",
    "    if(not pd.isna(row['creator'])):\n",
    "        return row['creator']\n",
    "    if(not pd.isna(row['artist'])):\n",
    "        return row['artist']\n",
    "    return None\n",
    "\n",
    "df2 = df.iloc[0:10]\n",
    "#print(df2.head())\n",
    "df2['new']=df.apply(join_creator_artist, axis=1)\n",
    "print('----------')\n",
    "df2.head()"
   ]
  },
  {
   "cell_type": "code",
   "execution_count": 61,
   "id": "7670b1af",
   "metadata": {},
   "outputs": [
    {
     "data": {
      "text/plain": [
       "nan"
      ]
     },
     "execution_count": 61,
     "metadata": {},
     "output_type": "execute_result"
    }
   ],
   "source": [
    "df2.iloc[[4]]['creator'].values[0]"
   ]
  },
  {
   "cell_type": "code",
   "execution_count": 28,
   "id": "80840bfd",
   "metadata": {},
   "outputs": [
    {
     "name": "stdout",
     "output_type": "stream",
     "text": [
      "0    1\n",
      "1    2\n",
      "2    3\n",
      "3    4\n",
      "4    5\n",
      "dtype: object\n"
     ]
    }
   ],
   "source": [
    "import pandas as pd\n",
    "\n",
    "\n",
    "a = ['1','2','3',None,'5']\n",
    "b = ['1','2',None,'4','5']\n",
    "data = {'a':a, 'b':b}\n",
    "\n",
    "df = pd.DataFrame(data)\n",
    "df2=df.apply(lambda row:row['a'] or row['b'], axis=1)\n",
    "\n",
    "print(df2)"
   ]
  },
  {
   "cell_type": "code",
   "execution_count": null,
   "id": "e583c4c2",
   "metadata": {},
   "outputs": [],
   "source": []
  }
 ],
 "metadata": {
  "kernelspec": {
   "display_name": "Python 3 (ipykernel)",
   "language": "python",
   "name": "python3"
  },
  "language_info": {
   "codemirror_mode": {
    "name": "ipython",
    "version": 3
   },
   "file_extension": ".py",
   "mimetype": "text/x-python",
   "name": "python",
   "nbconvert_exporter": "python",
   "pygments_lexer": "ipython3",
   "version": "3.9.7"
  }
 },
 "nbformat": 4,
 "nbformat_minor": 5
}
