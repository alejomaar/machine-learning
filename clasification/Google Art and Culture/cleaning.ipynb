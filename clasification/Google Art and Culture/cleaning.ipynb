{
 "cells": [
  {
   "cell_type": "code",
   "execution_count": 89,
   "id": "f355946b",
   "metadata": {},
   "outputs": [],
   "source": [
    "#!pip install matplotlib"
   ]
  },
  {
   "cell_type": "code",
   "execution_count": 96,
   "id": "e4e4fe22",
   "metadata": {},
   "outputs": [],
   "source": [
    "import pandas as pd\n",
    "import matplotlib as plt\n",
    "df = pd.read_excel('data/data_unpacked.xlsx')"
   ]
  },
  {
   "cell_type": "markdown",
   "id": "6cd046c2",
   "metadata": {},
   "source": [
    "# 2. Data Understanding"
   ]
  },
  {
   "cell_type": "markdown",
   "id": "a22fbe3e",
   "metadata": {},
   "source": [
    "## 2.2 Describe data"
   ]
  },
  {
   "cell_type": "markdown",
   "id": "24008808",
   "metadata": {},
   "source": [
    "### Get some samples"
   ]
  },
  {
   "cell_type": "code",
   "execution_count": 97,
   "id": "1739e080",
   "metadata": {},
   "outputs": [
    {
     "data": {
      "text/html": [
       "<div>\n",
       "<style scoped>\n",
       "    .dataframe tbody tr th:only-of-type {\n",
       "        vertical-align: middle;\n",
       "    }\n",
       "\n",
       "    .dataframe tbody tr th {\n",
       "        vertical-align: top;\n",
       "    }\n",
       "\n",
       "    .dataframe thead th {\n",
       "        text-align: right;\n",
       "    }\n",
       "</style>\n",
       "<table border=\"1\" class=\"dataframe\">\n",
       "  <thead>\n",
       "    <tr style=\"text-align: right;\">\n",
       "      <th></th>\n",
       "      <th>url</th>\n",
       "      <th>title</th>\n",
       "      <th>creator</th>\n",
       "      <th>created</th>\n",
       "      <th>artist</th>\n",
       "      <th>category</th>\n",
       "      <th>dimension</th>\n",
       "    </tr>\n",
       "  </thead>\n",
       "  <tbody>\n",
       "    <tr>\n",
       "      <th>7888</th>\n",
       "      <td>https://lh3.googleusercontent.com/ci/ACqFvF313...</td>\n",
       "      <td>View of the Bosphorus as seen from Tarabya un...</td>\n",
       "      <td>Clara Barthold (Mayer)</td>\n",
       "      <td>Late 18th century</td>\n",
       "      <td>NaN</td>\n",
       "      <td>TEAL</td>\n",
       "      <td>46,5 x 68 cm.</td>\n",
       "    </tr>\n",
       "    <tr>\n",
       "      <th>573</th>\n",
       "      <td>https://lh3.googleusercontent.com/IxOsF69Ax8qp...</td>\n",
       "      <td>William Henry Harrison</td>\n",
       "      <td>NaN</td>\n",
       "      <td>1835</td>\n",
       "      <td>James Reid Lambdin</td>\n",
       "      <td>BLACK</td>\n",
       "      <td>w635 x h762 mm (without frame)</td>\n",
       "    </tr>\n",
       "    <tr>\n",
       "      <th>4201</th>\n",
       "      <td>https://lh3.googleusercontent.com/ci/ACqFvF19F...</td>\n",
       "      <td>Caves of Manacor</td>\n",
       "      <td>William Degouve de Nuncques</td>\n",
       "      <td>1901</td>\n",
       "      <td>NaN</td>\n",
       "      <td>GREEN</td>\n",
       "      <td>48.5 x 60.5 cm</td>\n",
       "    </tr>\n",
       "    <tr>\n",
       "      <th>6356</th>\n",
       "      <td>https://lh3.googleusercontent.com/ci/ACqFvF34K...</td>\n",
       "      <td>Fuga</td>\n",
       "      <td>Pérez Celis</td>\n",
       "      <td>1986</td>\n",
       "      <td>NaN</td>\n",
       "      <td>RED</td>\n",
       "      <td>24 x 30 in</td>\n",
       "    </tr>\n",
       "    <tr>\n",
       "      <th>3286</th>\n",
       "      <td>https://lh3.googleusercontent.com/ci/ACqFvF3j9...</td>\n",
       "      <td>Shylock and Jessica from the 'Merchant of Ven...</td>\n",
       "      <td>Gilbert Stuart Newton, 1794–1835, British</td>\n",
       "      <td>1830</td>\n",
       "      <td>NaN</td>\n",
       "      <td>BROWN</td>\n",
       "      <td>35 x 29 1/2 inches (88.9 x 74.9 cm)\\nFrame 45...</td>\n",
       "    </tr>\n",
       "  </tbody>\n",
       "</table>\n",
       "</div>"
      ],
      "text/plain": [
       "                                                    url  \\\n",
       "7888  https://lh3.googleusercontent.com/ci/ACqFvF313...   \n",
       "573   https://lh3.googleusercontent.com/IxOsF69Ax8qp...   \n",
       "4201  https://lh3.googleusercontent.com/ci/ACqFvF19F...   \n",
       "6356  https://lh3.googleusercontent.com/ci/ACqFvF34K...   \n",
       "3286  https://lh3.googleusercontent.com/ci/ACqFvF3j9...   \n",
       "\n",
       "                                                  title  \\\n",
       "7888   View of the Bosphorus as seen from Tarabya un...   \n",
       "573                              William Henry Harrison   \n",
       "4201                                   Caves of Manacor   \n",
       "6356                                               Fuga   \n",
       "3286   Shylock and Jessica from the 'Merchant of Ven...   \n",
       "\n",
       "                                         creator             created  \\\n",
       "7888                      Clara Barthold (Mayer)   Late 18th century   \n",
       "573                                          NaN                1835   \n",
       "4201                 William Degouve de Nuncques                1901   \n",
       "6356                                 Pérez Celis                1986   \n",
       "3286   Gilbert Stuart Newton, 1794–1835, British                1830   \n",
       "\n",
       "                   artist category  \\\n",
       "7888                  NaN     TEAL   \n",
       "573    James Reid Lambdin    BLACK   \n",
       "4201                  NaN    GREEN   \n",
       "6356                  NaN      RED   \n",
       "3286                  NaN    BROWN   \n",
       "\n",
       "                                              dimension  \n",
       "7888                                      46,5 x 68 cm.  \n",
       "573                      w635 x h762 mm (without frame)  \n",
       "4201                                     48.5 x 60.5 cm  \n",
       "6356                                         24 x 30 in  \n",
       "3286   35 x 29 1/2 inches (88.9 x 74.9 cm)\\nFrame 45...  "
      ]
     },
     "execution_count": 97,
     "metadata": {},
     "output_type": "execute_result"
    }
   ],
   "source": [
    "df.sample(5)"
   ]
  },
  {
   "cell_type": "markdown",
   "id": "8b6a37f3",
   "metadata": {},
   "source": [
    "### Check shape and columns"
   ]
  },
  {
   "cell_type": "code",
   "execution_count": 98,
   "id": "a4a993f0",
   "metadata": {},
   "outputs": [
    {
     "name": "stdout",
     "output_type": "stream",
     "text": [
      "shape (10282, 7) \n",
      "\n",
      "columns ['url', 'title', 'creator', 'created', 'artist', 'category', 'dimension'] \n",
      "\n"
     ]
    }
   ],
   "source": [
    "print('shape', df.shape,'\\n')\n",
    "print('columns', df.columns.to_list(),'\\n')"
   ]
  },
  {
   "cell_type": "markdown",
   "id": "a5f0643c",
   "metadata": {},
   "source": [
    "## 2.3 Explore data "
   ]
  },
  {
   "cell_type": "code",
   "execution_count": 99,
   "id": "52ad2f54",
   "metadata": {},
   "outputs": [
    {
     "name": "stdout",
     "output_type": "stream",
     "text": [
      "BLACK     1215\n",
      "BLUE      1215\n",
      "GREEN     1215\n",
      "TEAL      1215\n",
      "BROWN     1214\n",
      "WHITE     1124\n",
      "RED       1053\n",
      "YELLOW    1013\n",
      "ORANGE     811\n",
      "PURPLE     121\n",
      "PINK        86\n",
      "Name: category, dtype: int64\n"
     ]
    },
    {
     "data": {
      "text/plain": [
       "<AxesSubplot:>"
      ]
     },
     "execution_count": 99,
     "metadata": {},
     "output_type": "execute_result"
    },
    {
     "data": {
      "image/png": "[encoded data removed]",
      "text/plain": [
       "<Figure size 432x288 with 1 Axes>"
      ]
     },
     "metadata": {
      "needs_background": "light"
     },
     "output_type": "display_data"
    }
   ],
   "source": [
    "print(df['category'].value_counts())\n",
    "df['category'].value_counts().plot(kind='bar')"
   ]
  },
  {
   "cell_type": "markdown",
   "id": "da872a92",
   "metadata": {},
   "source": [
    "### 2.4 Verify data quality"
   ]
  },
  {
   "cell_type": "code",
   "execution_count": 77,
   "id": "b8aee822",
   "metadata": {},
   "outputs": [
    {
     "name": "stdout",
     "output_type": "stream",
     "text": [
      "Missing Values\n",
      "url             0\n",
      "title          10\n",
      "creator      1369\n",
      "created      2217\n",
      "artist       9805\n",
      "category        0\n",
      "dimension    1849\n",
      "dtype: int64 \n",
      "\n"
     ]
    }
   ],
   "source": [
    "print('Missing Values')\n",
    "print(df.isnull().sum(),'\\n')"
   ]
  },
  {
   "cell_type": "markdown",
   "id": "febe356c",
   "metadata": {},
   "source": [
    "### Check info"
   ]
  },
  {
   "cell_type": "code",
   "execution_count": 78,
   "id": "fcad31c5",
   "metadata": {},
   "outputs": [
    {
     "name": "stdout",
     "output_type": "stream",
     "text": [
      "<class 'pandas.core.frame.DataFrame'>\n",
      "RangeIndex: 10292 entries, 0 to 10291\n",
      "Data columns (total 7 columns):\n",
      " #   Column     Non-Null Count  Dtype \n",
      "---  ------     --------------  ----- \n",
      " 0   url        10292 non-null  object\n",
      " 1   title      10282 non-null  object\n",
      " 2   creator    8923 non-null   object\n",
      " 3   created    8075 non-null   object\n",
      " 4   artist     487 non-null    object\n",
      " 5   category   10292 non-null  object\n",
      " 6   dimension  8443 non-null   object\n",
      "dtypes: object(7)\n",
      "memory usage: 563.0+ KB\n"
     ]
    }
   ],
   "source": [
    "df.info()"
   ]
  },
  {
   "cell_type": "markdown",
   "id": "cb773cd3",
   "metadata": {},
   "source": [
    "# Clean Artist and Creator fields"
   ]
  },
  {
   "cell_type": "code",
   "execution_count": 64,
   "id": "069b3af5",
   "metadata": {
    "collapsed": true
   },
   "outputs": [
    {
     "name": "stdout",
     "output_type": "stream",
     "text": [
      "----------\n"
     ]
    },
    {
     "name": "stderr",
     "output_type": "stream",
     "text": [
      "C:\\Users\\user\\AppData\\Local\\Temp\\ipykernel_24624\\1966221852.py:10: SettingWithCopyWarning: \n",
      "A value is trying to be set on a copy of a slice from a DataFrame.\n",
      "Try using .loc[row_indexer,col_indexer] = value instead\n",
      "\n",
      "See the caveats in the documentation: https://pandas.pydata.org/pandas-docs/stable/user_guide/indexing.html#returning-a-view-versus-a-copy\n",
      "  df2['new']=df.apply(join_creator_artist, axis=1)\n"
     ]
    },
    {
     "data": {
      "text/html": [
       "<div>\n",
       "<style scoped>\n",
       "    .dataframe tbody tr th:only-of-type {\n",
       "        vertical-align: middle;\n",
       "    }\n",
       "\n",
       "    .dataframe tbody tr th {\n",
       "        vertical-align: top;\n",
       "    }\n",
       "\n",
       "    .dataframe thead th {\n",
       "        text-align: right;\n",
       "    }\n",
       "</style>\n",
       "<table border=\"1\" class=\"dataframe\">\n",
       "  <thead>\n",
       "    <tr style=\"text-align: right;\">\n",
       "      <th></th>\n",
       "      <th>url</th>\n",
       "      <th>title</th>\n",
       "      <th>creator</th>\n",
       "      <th>created</th>\n",
       "      <th>artist</th>\n",
       "      <th>category</th>\n",
       "      <th>dimension</th>\n",
       "      <th>new</th>\n",
       "    </tr>\n",
       "  </thead>\n",
       "  <tbody>\n",
       "    <tr>\n",
       "      <th>0</th>\n",
       "      <td>https://lh3.googleusercontent.com/ci/ACqFvF1fa...</td>\n",
       "      <td>Girl with a Pearl Earring</td>\n",
       "      <td>Johannes Vermeer</td>\n",
       "      <td>c. 1665  (digitized by Madpixel)</td>\n",
       "      <td>artist</td>\n",
       "      <td>BLACK</td>\n",
       "      <td>44.5 x 38.1 cm</td>\n",
       "      <td>Johannes Vermeer</td>\n",
       "    </tr>\n",
       "    <tr>\n",
       "      <th>1</th>\n",
       "      <td>https://lh3.googleusercontent.com/IN4tL8PgTXxm...</td>\n",
       "      <td>American Gothic</td>\n",
       "      <td>Grant Wood (American, 1891-1942)</td>\n",
       "      <td>1930</td>\n",
       "      <td>Grant Wood (American, 1891-1942)</td>\n",
       "      <td>BLACK</td>\n",
       "      <td>78 × 65.3 cm (30 3/4 × 25 3/4 in.)</td>\n",
       "      <td>Grant Wood (American, 1891-1942)</td>\n",
       "    </tr>\n",
       "    <tr>\n",
       "      <th>2</th>\n",
       "      <td>https://lh3.googleusercontent.com/b6TOe8s5BtvR...</td>\n",
       "      <td>Luncheon on the Grass</td>\n",
       "      <td>NaN</td>\n",
       "      <td>1863</td>\n",
       "      <td>NaN</td>\n",
       "      <td>BLACK</td>\n",
       "      <td>208 x 264.5 cm</td>\n",
       "      <td>None</td>\n",
       "    </tr>\n",
       "    <tr>\n",
       "      <th>3</th>\n",
       "      <td>https://lh3.googleusercontent.com/ci/ACqFvF0Lo...</td>\n",
       "      <td>Lady with an Ermine</td>\n",
       "      <td>Leonardo da Vinci</td>\n",
       "      <td>NaN</td>\n",
       "      <td>NaN</td>\n",
       "      <td>BLACK</td>\n",
       "      <td>NaN</td>\n",
       "      <td>Leonardo da Vinci</td>\n",
       "    </tr>\n",
       "    <tr>\n",
       "      <th>4</th>\n",
       "      <td>https://lh3.googleusercontent.com/LRWEui8Dl47I...</td>\n",
       "      <td>John Quincy Adams</td>\n",
       "      <td>NaN</td>\n",
       "      <td>1858</td>\n",
       "      <td>George P.A. Healy</td>\n",
       "      <td>BLACK</td>\n",
       "      <td>w1193.8 x h1574.8 mm (without frame)</td>\n",
       "      <td>George P.A. Healy</td>\n",
       "    </tr>\n",
       "  </tbody>\n",
       "</table>\n",
       "</div>"
      ],
      "text/plain": [
       "                                                 url  \\\n",
       "0  https://lh3.googleusercontent.com/ci/ACqFvF1fa...   \n",
       "1  https://lh3.googleusercontent.com/IN4tL8PgTXxm...   \n",
       "2  https://lh3.googleusercontent.com/b6TOe8s5BtvR...   \n",
       "3  https://lh3.googleusercontent.com/ci/ACqFvF0Lo...   \n",
       "4  https://lh3.googleusercontent.com/LRWEui8Dl47I...   \n",
       "\n",
       "                        title                            creator  \\\n",
       "0   Girl with a Pearl Earring                   Johannes Vermeer   \n",
       "1             American Gothic   Grant Wood (American, 1891-1942)   \n",
       "2       Luncheon on the Grass                                NaN   \n",
       "3         Lady with an Ermine                  Leonardo da Vinci   \n",
       "4           John Quincy Adams                                NaN   \n",
       "\n",
       "                             created                             artist  \\\n",
       "0   c. 1665  (digitized by Madpixel)                             artist   \n",
       "1                               1930   Grant Wood (American, 1891-1942)   \n",
       "2                               1863                                NaN   \n",
       "3                                NaN                                NaN   \n",
       "4                               1858                  George P.A. Healy   \n",
       "\n",
       "  category                              dimension  \\\n",
       "0    BLACK                         44.5 x 38.1 cm   \n",
       "1    BLACK     78 × 65.3 cm (30 3/4 × 25 3/4 in.)   \n",
       "2    BLACK                         208 x 264.5 cm   \n",
       "3    BLACK                                    NaN   \n",
       "4    BLACK   w1193.8 x h1574.8 mm (without frame)   \n",
       "\n",
       "                                 new  \n",
       "0                   Johannes Vermeer  \n",
       "1   Grant Wood (American, 1891-1942)  \n",
       "2                               None  \n",
       "3                  Leonardo da Vinci  \n",
       "4                  George P.A. Healy  "
      ]
     },
     "execution_count": 64,
     "metadata": {},
     "output_type": "execute_result"
    }
   ],
   "source": [
    "def join_creator_artist(row):\n",
    "    if(not pd.isna(row['creator'])):\n",
    "        return row['creator']\n",
    "    if(not pd.isna(row['artist'])):\n",
    "        return row['artist']\n",
    "    return None\n",
    "\n",
    "df2 = df.iloc[0:10]\n",
    "df2['new']=df.apply(join_creator_artist, axis=1)\n",
    "df2.head()"
   ]
  },
  {
   "cell_type": "code",
   "execution_count": 72,
   "id": "9be66ba1",
   "metadata": {},
   "outputs": [
    {
     "data": {
      "text/html": [
       "<div>\n",
       "<style scoped>\n",
       "    .dataframe tbody tr th:only-of-type {\n",
       "        vertical-align: middle;\n",
       "    }\n",
       "\n",
       "    .dataframe tbody tr th {\n",
       "        vertical-align: top;\n",
       "    }\n",
       "\n",
       "    .dataframe thead th {\n",
       "        text-align: right;\n",
       "    }\n",
       "</style>\n",
       "<table border=\"1\" class=\"dataframe\">\n",
       "  <thead>\n",
       "    <tr style=\"text-align: right;\">\n",
       "      <th></th>\n",
       "      <th>url</th>\n",
       "      <th>title</th>\n",
       "      <th>creator</th>\n",
       "      <th>created</th>\n",
       "      <th>artist</th>\n",
       "      <th>category</th>\n",
       "      <th>dimension</th>\n",
       "      <th>new</th>\n",
       "    </tr>\n",
       "  </thead>\n",
       "  <tbody>\n",
       "    <tr>\n",
       "      <th>0</th>\n",
       "      <td>https://lh3.googleusercontent.com/ci/ACqFvF1fa...</td>\n",
       "      <td>Girl with a Pearl Earring</td>\n",
       "      <td>Johannes Vermeer</td>\n",
       "      <td>c. 1665  (digitized by Madpixel)</td>\n",
       "      <td>artist</td>\n",
       "      <td>BLACK</td>\n",
       "      <td>44.5  38.1 cm</td>\n",
       "      <td>Johannes Vermeer</td>\n",
       "    </tr>\n",
       "    <tr>\n",
       "      <th>1</th>\n",
       "      <td>https://lh3.googleusercontent.com/IN4tL8PgTXxm...</td>\n",
       "      <td>American Gothic</td>\n",
       "      <td>Grant Wood (American, 1891-1942)</td>\n",
       "      <td>1930</td>\n",
       "      <td>Grant Wood (American, 1891-1942)</td>\n",
       "      <td>BLACK</td>\n",
       "      <td>78 × 65.3 cm (30  × 25  in.)</td>\n",
       "      <td>Grant Wood (American, 1891-1942)</td>\n",
       "    </tr>\n",
       "    <tr>\n",
       "      <th>2</th>\n",
       "      <td>https://lh3.googleusercontent.com/b6TOe8s5BtvR...</td>\n",
       "      <td>Luncheon on the Grass</td>\n",
       "      <td>NaN</td>\n",
       "      <td>1863</td>\n",
       "      <td>NaN</td>\n",
       "      <td>BLACK</td>\n",
       "      <td>208  264.5 cm</td>\n",
       "      <td>None</td>\n",
       "    </tr>\n",
       "    <tr>\n",
       "      <th>4</th>\n",
       "      <td>https://lh3.googleusercontent.com/LRWEui8Dl47I...</td>\n",
       "      <td>John Quincy Adams</td>\n",
       "      <td>NaN</td>\n",
       "      <td>1858</td>\n",
       "      <td>George P.A. Healy</td>\n",
       "      <td>BLACK</td>\n",
       "      <td>w1193.8  h1574.8 mm</td>\n",
       "      <td>George P.A. Healy</td>\n",
       "    </tr>\n",
       "    <tr>\n",
       "      <th>6</th>\n",
       "      <td>https://lh3.googleusercontent.com/3agAzqx7Z4c_...</td>\n",
       "      <td>The Night Watch</td>\n",
       "      <td>Rembrandt Harmensz van Rijn</td>\n",
       "      <td>1642</td>\n",
       "      <td>NaN</td>\n",
       "      <td>BLACK</td>\n",
       "      <td>w4370  h3630 mm</td>\n",
       "      <td>Rembrandt Harmensz van Rijn</td>\n",
       "    </tr>\n",
       "    <tr>\n",
       "      <th>7</th>\n",
       "      <td>https://lh3.googleusercontent.com/V1EAvZPBHNHm...</td>\n",
       "      <td>Nighthawks</td>\n",
       "      <td>Edward Hopper (American, 1882-1967)</td>\n",
       "      <td>1942</td>\n",
       "      <td>Edward Hopper (American, 1882-1967)</td>\n",
       "      <td>BLACK</td>\n",
       "      <td>84.1 × 152.4 cm (33  × 60 in.)</td>\n",
       "      <td>Edward Hopper (American, 1882-1967)</td>\n",
       "    </tr>\n",
       "    <tr>\n",
       "      <th>8</th>\n",
       "      <td>https://lh3.googleusercontent.com/ci/ACqFvF1vn...</td>\n",
       "      <td>Portrait of the Artist's Mother</td>\n",
       "      <td>NaN</td>\n",
       "      <td>1871</td>\n",
       "      <td>NaN</td>\n",
       "      <td>BLACK</td>\n",
       "      <td>w1620  h1440 mm</td>\n",
       "      <td>None</td>\n",
       "    </tr>\n",
       "    <tr>\n",
       "      <th>9</th>\n",
       "      <td>https://lh3.googleusercontent.com/nLaHl2UJRzrf...</td>\n",
       "      <td>Starry Night</td>\n",
       "      <td>NaN</td>\n",
       "      <td>1888</td>\n",
       "      <td>NaN</td>\n",
       "      <td>BLACK</td>\n",
       "      <td>w920  h720 mm</td>\n",
       "      <td>None</td>\n",
       "    </tr>\n",
       "  </tbody>\n",
       "</table>\n",
       "</div>"
      ],
      "text/plain": [
       "                                                 url  \\\n",
       "0  https://lh3.googleusercontent.com/ci/ACqFvF1fa...   \n",
       "1  https://lh3.googleusercontent.com/IN4tL8PgTXxm...   \n",
       "2  https://lh3.googleusercontent.com/b6TOe8s5BtvR...   \n",
       "4  https://lh3.googleusercontent.com/LRWEui8Dl47I...   \n",
       "6  https://lh3.googleusercontent.com/3agAzqx7Z4c_...   \n",
       "7  https://lh3.googleusercontent.com/V1EAvZPBHNHm...   \n",
       "8  https://lh3.googleusercontent.com/ci/ACqFvF1vn...   \n",
       "9  https://lh3.googleusercontent.com/nLaHl2UJRzrf...   \n",
       "\n",
       "                              title                               creator  \\\n",
       "0         Girl with a Pearl Earring                      Johannes Vermeer   \n",
       "1                   American Gothic      Grant Wood (American, 1891-1942)   \n",
       "2             Luncheon on the Grass                                   NaN   \n",
       "4                 John Quincy Adams                                   NaN   \n",
       "6                   The Night Watch           Rembrandt Harmensz van Rijn   \n",
       "7                        Nighthawks   Edward Hopper (American, 1882-1967)   \n",
       "8   Portrait of the Artist's Mother                                   NaN   \n",
       "9                      Starry Night                                   NaN   \n",
       "\n",
       "                             created                                artist  \\\n",
       "0   c. 1665  (digitized by Madpixel)                                artist   \n",
       "1                               1930      Grant Wood (American, 1891-1942)   \n",
       "2                               1863                                   NaN   \n",
       "4                               1858                     George P.A. Healy   \n",
       "6                               1642                                   NaN   \n",
       "7                               1942   Edward Hopper (American, 1882-1967)   \n",
       "8                               1871                                   NaN   \n",
       "9                               1888                                   NaN   \n",
       "\n",
       "  category                        dimension  \\\n",
       "0    BLACK                    44.5  38.1 cm   \n",
       "1    BLACK     78 × 65.3 cm (30  × 25  in.)   \n",
       "2    BLACK                    208  264.5 cm   \n",
       "4    BLACK             w1193.8  h1574.8 mm    \n",
       "6    BLACK                  w4370  h3630 mm   \n",
       "7    BLACK   84.1 × 152.4 cm (33  × 60 in.)   \n",
       "8    BLACK                  w1620  h1440 mm   \n",
       "9    BLACK                    w920  h720 mm   \n",
       "\n",
       "                                    new  \n",
       "0                      Johannes Vermeer  \n",
       "1      Grant Wood (American, 1891-1942)  \n",
       "2                                  None  \n",
       "4                     George P.A. Healy  \n",
       "6           Rembrandt Harmensz van Rijn  \n",
       "7   Edward Hopper (American, 1882-1967)  \n",
       "8                                  None  \n",
       "9                                  None  "
      ]
     },
     "execution_count": 72,
     "metadata": {},
     "output_type": "execute_result"
    }
   ],
   "source": [
    "df3 = df2.copy()\n",
    "df3['dimension'] = df['dimension'].str.replace(r'(-|x|\\d\\/\\d|\\(\\D+\\))', '', regex=True)\n",
    "df3[~pd.isna(df3['dimension'])]"
   ]
  },
  {
   "cell_type": "code",
   "execution_count": 28,
   "id": "80840bfd",
   "metadata": {},
   "outputs": [
    {
     "name": "stdout",
     "output_type": "stream",
     "text": [
      "0    1\n",
      "1    2\n",
      "2    3\n",
      "3    4\n",
      "4    5\n",
      "dtype: object\n"
     ]
    }
   ],
   "source": [
    "import pandas as pd\n",
    "\n",
    "\n",
    "a = ['1','2','3',None,'5']\n",
    "b = ['1','2',None,'4','5']\n",
    "data = {'a':a, 'b':b}\n",
    "\n",
    "df = pd.DataFrame(data)\n",
    "df2=df.apply(lambda row:row['a'] or row['b'], axis=1)\n",
    "\n",
    "print(df2)"
   ]
  },
  {
   "cell_type": "code",
   "execution_count": null,
   "id": "dcc4617a",
   "metadata": {},
   "outputs": [],
   "source": []
  }
 ],
 "metadata": {
  "kernelspec": {
   "display_name": "Python 3 (ipykernel)",
   "language": "python",
   "name": "python3"
  },
  "language_info": {
   "codemirror_mode": {
    "name": "ipython",
    "version": 3
   },
   "file_extension": ".py",
   "mimetype": "text/x-python",
   "name": "python",
   "nbconvert_exporter": "python",
   "pygments_lexer": "ipython3",
   "version": "3.9.7"
  }
 },
 "nbformat": 4,
 "nbformat_minor": 5
}
