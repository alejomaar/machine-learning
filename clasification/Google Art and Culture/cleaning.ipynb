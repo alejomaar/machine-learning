{
 "cells": [
  {
   "cell_type": "code",
   "execution_count": 8,
   "id": "b3703329",
   "metadata": {},
   "outputs": [
    {
     "name": "stdout",
     "output_type": "stream",
     "text": [
      "                                                 url  \\\n",
      "0  https://lh3.googleusercontent.com/ci/ACqFvF1fa...   \n",
      "1  https://lh3.googleusercontent.com/IN4tL8PgTXxm...   \n",
      "2  https://lh3.googleusercontent.com/b6TOe8s5BtvR...   \n",
      "3  https://lh3.googleusercontent.com/ci/ACqFvF0Lo...   \n",
      "4  https://lh3.googleusercontent.com/LRWEui8Dl47I...   \n",
      "\n",
      "                        title                            creator  \\\n",
      "0   Girl with a Pearl Earring                   Johannes Vermeer   \n",
      "1             American Gothic   Grant Wood (American, 1891-1942)   \n",
      "2       Luncheon on the Grass                                NaN   \n",
      "3         Lady with an Ermine                  Leonardo da Vinci   \n",
      "4           John Quincy Adams                                NaN   \n",
      "\n",
      "                             created                        data.Artist  \\\n",
      "0   c. 1665  (digitized by Madpixel)                             artist   \n",
      "1                               1930   Grant Wood (American, 1891-1942)   \n",
      "2                               1863                                NaN   \n",
      "3                                NaN                                NaN   \n",
      "4                               1858                  George P.A. Healy   \n",
      "\n",
      "  category                              dimension  \n",
      "0    BLACK                         44.5 x 38.1 cm  \n",
      "1    BLACK     78 × 65.3 cm (30 3/4 × 25 3/4 in.)  \n",
      "2    BLACK                         208 x 264.5 cm  \n",
      "3    BLACK                                    NaN  \n",
      "4    BLACK   w1193.8 x h1574.8 mm (without frame)  \n"
     ]
    }
   ],
   "source": [
    "import pandas as pd\n",
    "\n",
    "df = pd.read_excel('webscraping/data_unpacked.xlsx')\n",
    "print(df.head())"
   ]
  },
  {
   "cell_type": "code",
   "execution_count": 11,
   "id": "6d9124be",
   "metadata": {},
   "outputs": [
    {
     "data": {
      "text/plain": [
       "'second'"
      ]
     },
     "execution_count": 11,
     "metadata": {},
     "output_type": "execute_result"
    }
   ],
   "source": [
    "'first' or 'second'\n",
    "False or 'second'\n",
    "F or 'second'"
   ]
  },
  {
   "cell_type": "code",
   "execution_count": null,
   "id": "8e1279c4",
   "metadata": {},
   "outputs": [],
   "source": []
  }
 ],
 "metadata": {
  "kernelspec": {
   "display_name": "Python 3 (ipykernel)",
   "language": "python",
   "name": "python3"
  },
  "language_info": {
   "codemirror_mode": {
    "name": "ipython",
    "version": 3
   },
   "file_extension": ".py",
   "mimetype": "text/x-python",
   "name": "python",
   "nbconvert_exporter": "python",
   "pygments_lexer": "ipython3",
   "version": "3.9.7"
  }
 },
 "nbformat": 4,
 "nbformat_minor": 5
}
