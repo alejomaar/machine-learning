{
 "cells": [
  {
   "cell_type": "code",
   "execution_count": 26,
   "metadata": {},
   "outputs": [
    {
     "name": "stderr",
     "output_type": "stream",
     "text": [
      "C:\\Users\\user\\AppData\\Local\\Temp\\ipykernel_9636\\1197487218.py:5: DtypeWarning: Columns (9,12,13,14,18,22,23,24,25,27,30,31,33,34,35,37,38,39,41,42,44,46,51,52,53,56,58,59,60,63,64,65,66,68,72,73,74,76,77,78,79,80,81,82,85,86,89,91,92,93,94,95,99,100,101,102,103,104,106,107,108,109,111,112,113,114,115,116,117,118,121,122,123,124,125,126,127,128,129,130,131,132,133,134,136,137,138,139,140,142,144,145,146,147,148,149,151,152,153,154,156,160,161,162,163,164,165,166,167,168,169,170,171,172,173,174,175,176,177,178,179,180,182,183,186,187,188,189,190,191,193,194,195,196,197,198,199,200,201,202,203,204,205,206,207,208,209,210,211,212,213,214,215,216,218,219,220,221,222,223,224,225,226,227,228,229,231,232,233,234,235,238,239,240,241,242,243,244,245,246,247,248,249,253,254,255,256,257,258,259,265,266,267,268,270,271,272,273,274,275,276,277,278,279,280,281,282,283,284,285,286,287,288,289,290,291,292,293,294,295,296,298,299,300,301,302,303,306,307,308,309,310,311,312,313,314,315,316,317,318,319,320,321,322,323,325,326,327,328,329,330,331,332,333,334,335,336,337,338,339,340,341,342,343,344,345,346,347,348,349,350,351,352,353,354,355,356,357,358,359,360,361,362,363,364,365,366,367,368,369,370,371,372,373,374,375,376,377,378,379,380,381,382,383,384,385,386,387,388,389,390,391,392,393,394,395,396,397,398,399,400,401,402,403,404,405,406,407,408,409,410,411,412,413,414,415,416,417,418,419,420,421,422,423,424,425,426,427,428,429,430,431,432,433,434,435,436,437,438,439,441,442,443,444,445,448,449,450,451,452,453,454,455,456,457,458,459,460,461,462,464,466,467,468,469,470,471,472,473,474,475,476,477,478,479,480,481,482,483,484,485,486,487,488,489,490,493,494,495,496,497,498,499,500) have mixed types. Specify dtype option on import or set low_memory=False.\n",
      "  df2 = pd.read_csv( PATHS['data_processed'] /\"picture_data.csv\")\n"
     ]
    }
   ],
   "source": [
    "import pandas as pd\n",
    "from src.paths.paths import PATHS, create_folder\n",
    "\n",
    "df = pd.read_csv( PATHS['data_final'] /\"pictures.csv\")\n",
    "df2 = pd.read_csv( PATHS['data_processed'] /\"picture_data.csv\")\n"
   ]
  },
  {
   "cell_type": "code",
   "execution_count": 27,
   "metadata": {},
   "outputs": [
    {
     "data": {
      "text/plain": [
       "<AxesSubplot:>"
      ]
     },
     "execution_count": 27,
     "metadata": {},
     "output_type": "execute_result"
    },
    {
     "data": {
      "image/png": "[encoded data removed]",
      "text/plain": [
       "<Figure size 640x480 with 1 Axes>"
      ]
     },
     "metadata": {},
     "output_type": "display_data"
    }
   ],
   "source": [
    "df['Date Created'].hist(bins=20)"
   ]
  },
  {
   "cell_type": "code",
   "execution_count": 28,
   "metadata": {},
   "outputs": [],
   "source": [
    "index = df[(df['Date Created']<1500)]['index']\n"
   ]
  },
  {
   "cell_type": "code",
   "execution_count": 40,
   "metadata": {},
   "outputs": [
    {
     "data": {
      "text/plain": [
       "8231    2374.0\n",
       "Name: Date Created, dtype: float64"
      ]
     },
     "execution_count": 40,
     "metadata": {},
     "output_type": "execute_result"
    }
   ],
   "source": [
    "df[(df['Date Created']>2022)]['Date Created']"
   ]
  },
  {
   "cell_type": "code",
   "execution_count": 41,
   "metadata": {},
   "outputs": [
    {
     "data": {
      "text/plain": [
       "2374.0"
      ]
     },
     "execution_count": 41,
     "metadata": {},
     "output_type": "execute_result"
    }
   ],
   "source": [
    "df.iloc[8231]['Date Created']"
   ]
  },
  {
   "cell_type": "code",
   "execution_count": 42,
   "metadata": {},
   "outputs": [
    {
     "data": {
      "text/plain": [
       "nan"
      ]
     },
     "execution_count": 42,
     "metadata": {},
     "output_type": "execute_result"
    }
   ],
   "source": [
    "df2.iloc[8231]['Date Created']"
   ]
  },
  {
   "cell_type": "code",
   "execution_count": 32,
   "metadata": {},
   "outputs": [
    {
     "data": {
      "text/plain": [
       "173                                              1495/1500\n",
       "256                                           15th century\n",
       "452                                              1495/1498\n",
       "649                                                    NaN\n",
       "826       between the 4th quarter of the 17th century a...\n",
       "                               ...                        \n",
       "9904                                                  1000\n",
       "9925                                                   NaN\n",
       "10066                                         15th Century\n",
       "10145                                                 1000\n",
       "10234                                                 1488\n",
       "Name: Date Created, Length: 105, dtype: object"
      ]
     },
     "execution_count": 32,
     "metadata": {},
     "output_type": "execute_result"
    }
   ],
   "source": [
    "df2.iloc[index]['Date Created']"
   ]
  },
  {
   "cell_type": "code",
   "execution_count": 33,
   "metadata": {},
   "outputs": [],
   "source": [
    "#.str.lower().value_counts().head(50)"
   ]
  },
  {
   "cell_type": "code",
   "execution_count": 34,
   "metadata": {},
   "outputs": [
    {
     "name": "stdout",
     "output_type": "stream",
     "text": [
      "ok\n",
      "190000\n"
     ]
    }
   ],
   "source": [
    "import re\n",
    "from src.Regex.Regex import Regex \n",
    "\n",
    "regex = Regex()\n",
    "string = '20th century'\n",
    "if 'th' in string:\n",
    "    print('ok')\n",
    "    century = int(regex.get_date(string))\n",
    "    print(century*100)"
   ]
  },
  {
   "cell_type": "code",
   "execution_count": 35,
   "metadata": {},
   "outputs": [],
   "source": [
    "if None:\n",
    "    print('tes')"
   ]
  }
 ],
 "metadata": {
  "kernelspec": {
   "display_name": "Python 3.10.6 ('google-images')",
   "language": "python",
   "name": "python3"
  },
  "language_info": {
   "codemirror_mode": {
    "name": "ipython",
    "version": 3
   },
   "file_extension": ".py",
   "mimetype": "text/x-python",
   "name": "python",
   "nbconvert_exporter": "python",
   "pygments_lexer": "ipython3",
   "version": "3.10.6"
  },
  "orig_nbformat": 4,
  "vscode": {
   "interpreter": {
    "hash": "5480b1c7f72c0645ad43d87b0b25907ca8a84187194858c2c4eaf06821ca4f9b"
   }
  }
 },
 "nbformat": 4,
 "nbformat_minor": 2
}
