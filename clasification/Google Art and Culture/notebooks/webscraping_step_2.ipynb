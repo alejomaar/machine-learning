{
 "cells": [
  {
   "cell_type": "markdown",
   "metadata": {},
   "source": [
    "# ETL for images of Google Art & Culture\n",
    "\n",
    "This notebooks present a code for extract images of Google Art & Culture.\n",
    "\n",
    "**Extraction**\n",
    "* Extract init database from `data_unpacked.csv`, this is obtained in the first phase of web scraping\n",
    "* Extract images through multithreading request\n",
    "\n",
    "**Transform** \n",
    "* Transform `data_unpacked.csv` keeping only `link` column\n",
    "* Create a `index` column, and `is_download` for check if an image is downloaded or not\n",
    "\n",
    "**Load**\n",
    "* Save retrival information into csv file"
   ]
  },
  {
   "cell_type": "code",
   "execution_count": 43,
   "metadata": {},
   "outputs": [],
   "source": [
    "import sys\n",
    "sys.path.append('../src/')\n",
    "from Parallel import parallel\n",
    "import pandas as pd\n",
    "from Database import Database, CUSTOMER\n",
    "import requests\n",
    "import time\n",
    "\n",
    "def download(data):\n",
    "    id = data[0]\n",
    "    link = data[1]\n",
    "    path = f'../data/raw/img/{id}.jpg'\n",
    "    img = requests.get(link).content\n",
    "    with open(path, 'wb') as handler:\n",
    "        handler.write(img)\n",
    "    return (True,f'{id}.jpg')\n",
    "\n",
    "def extraction():\n",
    "    return pd.read_excel('../data/processed/data_unpacked.xlsx')\n",
    "\n",
    "def transform(df):\n",
    "   \n",
    "    t_init = time.process_time()\n",
    "    '''\n",
    "    Get interest attributes \n",
    "    '''\n",
    "    df = df[['url']]\n",
    "    df['index'] = df.index\n",
    "    df = df[['index','url']]   \n",
    "\n",
    "    '''\n",
    "    Convert data into tuples\n",
    "    '''\n",
    "    data = list(df.itertuples(index=False, name=None))\n",
    "\n",
    "    '''\n",
    "    Apply parallel transformation for download files \n",
    "    '''\n",
    "    data_processed = parallel(download,data)\n",
    "\n",
    "    '''\n",
    "    Convert raw data_processed into dataframe\n",
    "    '''\n",
    "\n",
    "    df_processed = pd.DataFrame(list(data_processed), columns=['is_download','filename'])\n",
    "\n",
    "    '''\n",
    "    Combining original attributes with new attributes\n",
    "    '''\n",
    "    df_transform = pd.concat([df, df_processed], axis=1)\n",
    "\n",
    "\n",
    "    '''\n",
    "    Check the time of extraction process\n",
    "    '''\n",
    "    t_end=  time.process_time()\n",
    "    print('Time passed (seg):',t_end-t_init)\n",
    "    return df_transform\n",
    "\n",
    "def load(df):\n",
    "    df.to_csv('..\\data\\processed\\links.csv', index = False) \n",
    "\n",
    "\n"
   ]
  },
  {
   "cell_type": "code",
   "execution_count": 44,
   "metadata": {},
   "outputs": [
    {
     "name": "stderr",
     "output_type": "stream",
     "text": [
      "C:\\Users\\user\\AppData\\Local\\Temp\\ipykernel_14424\\3133619699.py:28: SettingWithCopyWarning: \n",
      "A value is trying to be set on a copy of a slice from a DataFrame.\n",
      "Try using .loc[row_indexer,col_indexer] = value instead\n",
      "\n",
      "See the caveats in the documentation: https://pandas.pydata.org/pandas-docs/stable/user_guide/indexing.html#returning-a-view-versus-a-copy\n",
      "  df['index'] = df.index\n",
      "C:\\Users\\user\\AppData\\Local\\Temp\\ipykernel_14424\\3133619699.py:29: SettingWithCopyWarning: \n",
      "A value is trying to be set on a copy of a slice from a DataFrame.\n",
      "Try using .loc[row_indexer,col_indexer] = value instead\n",
      "\n",
      "See the caveats in the documentation: https://pandas.pydata.org/pandas-docs/stable/user_guide/indexing.html#returning-a-view-versus-a-copy\n",
      "  df['is_download'] = False\n"
     ]
    },
    {
     "name": "stdout",
     "output_type": "stream",
     "text": [
      "Running\n",
      "Time passed (seg): 148.421875\n"
     ]
    }
   ],
   "source": [
    "#ETL Process\n",
    "if __name__ == '__main__':\n",
    "    df_extraction = extraction()\n",
    "    df_transform = transform(df_extraction)\n",
    "    load(df_transform)\n",
    "\n"
   ]
  }
 ],
 "metadata": {
  "kernelspec": {
   "display_name": "Python 3.9.7 ('env': venv)",
   "language": "python",
   "name": "python3"
  },
  "language_info": {
   "codemirror_mode": {
    "name": "ipython",
    "version": 3
   },
   "file_extension": ".py",
   "mimetype": "text/x-python",
   "name": "python",
   "nbconvert_exporter": "python",
   "pygments_lexer": "ipython3",
   "version": "3.9.7"
  },
  "orig_nbformat": 4,
  "vscode": {
   "interpreter": {
    "hash": "0832b3b45e9f58719f136abde0f871f15b0c3514f4cec0b31c3dbed423b45e39"
   }
  }
 },
 "nbformat": 4,
 "nbformat_minor": 2
}
