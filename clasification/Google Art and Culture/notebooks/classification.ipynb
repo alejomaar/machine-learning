{
 "cells": [
  {
   "cell_type": "markdown",
   "metadata": {},
   "source": []
  },
  {
   "cell_type": "markdown",
   "metadata": {},
   "source": [
    "# Google Art & Culture - Case study using CRISPS-DM\n",
    "\n",
    "#### Autors: Manuel Alejandro Aponte, Cristian Beltran, Maria Paula Peña\n",
    "\n",
    "In this notebook you will explore data and create classification models\n",
    "\n",
    "## Objectives\n",
    "The objective of this notebooks is:\n",
    "\n",
    "* Visualize the data through graphs.\n",
    "* Probar modelos de clasificación con el conjunto de datos.\n",
    "* Optimize model by means of hyperparameters.\n",
    "\n",
    "## Prerequisites\n",
    "\n",
    "* Familiarity with Python, Sklearn & Grid Search. \n",
    "* Install python packages.\n",
    "\n",
    "## Background \n",
    "This notebook belongs to Google Art & Culture Case Study using CRIPS-DM, where would be include process such as webscraping, exploratory data analysis, ML classificators and dashboards.\n",
    "\n",
    "# TODO: \n",
    "\n",
    "**EDA**\n",
    "\n",
    "**NN for classification**\n",
    "\n",
    "**Stratify cross validation**\n",
    "\n",
    "**Metric** "
   ]
  },
  {
   "cell_type": "markdown",
   "metadata": {},
   "source": [
    "# Exploration of data and Models 📊"
   ]
  },
  {
   "cell_type": "markdown",
   "metadata": {},
   "source": [
    "## Libreries 📚"
   ]
  },
  {
   "cell_type": "code",
   "execution_count": 3,
   "metadata": {},
   "outputs": [],
   "source": [
    "#from IPython.core.interactiveshell import InteractiveShell\n",
    "#InteractiveShell.ast_node_interactivity =\"all\""
   ]
  },
  {
   "cell_type": "code",
   "execution_count": 19,
   "metadata": {},
   "outputs": [],
   "source": [
    "import pandas as pd\n",
    "import numpy as np\n",
    "from sklearn.svm import SVC\n",
    "from sklearn.metrics import confusion_matrix, classification_report\n",
    "from sklearn.model_selection import train_test_split, GridSearchCV\n",
    "from sklearn.preprocessing import LabelEncoder\n",
    "import warnings\n",
    "warnings.filterwarnings(\"ignore\")"
   ]
  },
  {
   "cell_type": "markdown",
   "metadata": {},
   "source": [
    "## Load data"
   ]
  },
  {
   "cell_type": "code",
   "execution_count": 20,
   "metadata": {},
   "outputs": [
    {
     "data": {
      "text/html": [
       "<div>\n",
       "<style scoped>\n",
       "    .dataframe tbody tr th:only-of-type {\n",
       "        vertical-align: middle;\n",
       "    }\n",
       "\n",
       "    .dataframe tbody tr th {\n",
       "        vertical-align: top;\n",
       "    }\n",
       "\n",
       "    .dataframe thead th {\n",
       "        text-align: right;\n",
       "    }\n",
       "</style>\n",
       "<table border=\"1\" class=\"dataframe\">\n",
       "  <thead>\n",
       "    <tr style=\"text-align: right;\">\n",
       "      <th></th>\n",
       "      <th>index</th>\n",
       "      <th>category</th>\n",
       "      <th>filename</th>\n",
       "      <th>Title</th>\n",
       "      <th>Date Created</th>\n",
       "      <th>Dimensions</th>\n",
       "      <th>Artist</th>\n",
       "      <th>mean_grayscale</th>\n",
       "      <th>mean_blue</th>\n",
       "      <th>mean_green</th>\n",
       "      <th>mean_red</th>\n",
       "      <th>std_grayscale</th>\n",
       "      <th>std_blue</th>\n",
       "      <th>std_green</th>\n",
       "      <th>std_red</th>\n",
       "    </tr>\n",
       "  </thead>\n",
       "  <tbody>\n",
       "    <tr>\n",
       "      <th>0</th>\n",
       "      <td>0</td>\n",
       "      <td>WHITE</td>\n",
       "      <td>0.jpg</td>\n",
       "      <td>Symphony in White, No. 1 The White Girl</td>\n",
       "      <td>1862</td>\n",
       "      <td>overall 213 x 107.9 cm (83 7/8 x 42 1/2 in.)\u000b...</td>\n",
       "      <td>James McNeill Whistler</td>\n",
       "      <td>0.707468</td>\n",
       "      <td>0.592548</td>\n",
       "      <td>0.702255</td>\n",
       "      <td>0.759860</td>\n",
       "      <td>0.113919</td>\n",
       "      <td>0.112658</td>\n",
       "      <td>0.117957</td>\n",
       "      <td>0.108062</td>\n",
       "    </tr>\n",
       "    <tr>\n",
       "      <th>1</th>\n",
       "      <td>1</td>\n",
       "      <td>WHITE</td>\n",
       "      <td>1.jpg</td>\n",
       "      <td>The Cradle</td>\n",
       "      <td>1872</td>\n",
       "      <td>w460 x h560 cm</td>\n",
       "      <td>Berthe Morisot</td>\n",
       "      <td>0.591144</td>\n",
       "      <td>0.519539</td>\n",
       "      <td>0.586287</td>\n",
       "      <td>0.626952</td>\n",
       "      <td>0.204013</td>\n",
       "      <td>0.186520</td>\n",
       "      <td>0.203947</td>\n",
       "      <td>0.212146</td>\n",
       "    </tr>\n",
       "    <tr>\n",
       "      <th>2</th>\n",
       "      <td>2</td>\n",
       "      <td>WHITE</td>\n",
       "      <td>2.jpg</td>\n",
       "      <td>The Magpie</td>\n",
       "      <td>1868 - 1869</td>\n",
       "      <td>w1300 x h890 mm</td>\n",
       "      <td>Claude Monet</td>\n",
       "      <td>0.687141</td>\n",
       "      <td>0.638097</td>\n",
       "      <td>0.687555</td>\n",
       "      <td>0.704309</td>\n",
       "      <td>0.133684</td>\n",
       "      <td>0.122419</td>\n",
       "      <td>0.133433</td>\n",
       "      <td>0.139909</td>\n",
       "    </tr>\n",
       "    <tr>\n",
       "      <th>3</th>\n",
       "      <td>3</td>\n",
       "      <td>WHITE</td>\n",
       "      <td>3.jpg</td>\n",
       "      <td>Summer evening on Skagen Sønderstrand</td>\n",
       "      <td>1893</td>\n",
       "      <td>100 × 150 cm</td>\n",
       "      <td>Peder Severin Krøyer</td>\n",
       "      <td>0.696685</td>\n",
       "      <td>0.713158</td>\n",
       "      <td>0.700890</td>\n",
       "      <td>0.682375</td>\n",
       "      <td>0.119145</td>\n",
       "      <td>0.071436</td>\n",
       "      <td>0.113651</td>\n",
       "      <td>0.153838</td>\n",
       "    </tr>\n",
       "    <tr>\n",
       "      <th>4</th>\n",
       "      <td>4</td>\n",
       "      <td>WHITE</td>\n",
       "      <td>4.jpg</td>\n",
       "      <td>Composition with red, yellow and blue</td>\n",
       "      <td>1927</td>\n",
       "      <td>40 x 52 cm</td>\n",
       "      <td>Piet Mondriaan</td>\n",
       "      <td>0.836621</td>\n",
       "      <td>0.802547</td>\n",
       "      <td>0.829830</td>\n",
       "      <td>0.862469</td>\n",
       "      <td>0.246921</td>\n",
       "      <td>0.279878</td>\n",
       "      <td>0.261812</td>\n",
       "      <td>0.241762</td>\n",
       "    </tr>\n",
       "  </tbody>\n",
       "</table>\n",
       "</div>"
      ],
      "text/plain": [
       "   index category filename                                     Title  \\\n",
       "0      0    WHITE    0.jpg   Symphony in White, No. 1 The White Girl   \n",
       "1      1    WHITE    1.jpg                                The Cradle   \n",
       "2      2    WHITE    2.jpg                                The Magpie   \n",
       "3      3    WHITE    3.jpg     Summer evening on Skagen Sønderstrand   \n",
       "4      4    WHITE    4.jpg     Composition with red, yellow and blue   \n",
       "\n",
       "   Date Created                                         Dimensions  \\\n",
       "0          1862   overall 213 x 107.9 cm (83 7/8 x 42 1/2 in.)\n",
       "...   \n",
       "1          1872                                     w460 x h560 cm   \n",
       "2   1868 - 1869                                    w1300 x h890 mm   \n",
       "3          1893                                       100 × 150 cm   \n",
       "4          1927                                         40 x 52 cm   \n",
       "\n",
       "                    Artist  mean_grayscale  mean_blue  mean_green  mean_red  \\\n",
       "0   James McNeill Whistler        0.707468   0.592548    0.702255  0.759860   \n",
       "1           Berthe Morisot        0.591144   0.519539    0.586287  0.626952   \n",
       "2             Claude Monet        0.687141   0.638097    0.687555  0.704309   \n",
       "3     Peder Severin Krøyer        0.696685   0.713158    0.700890  0.682375   \n",
       "4           Piet Mondriaan        0.836621   0.802547    0.829830  0.862469   \n",
       "\n",
       "   std_grayscale  std_blue  std_green   std_red  \n",
       "0       0.113919  0.112658   0.117957  0.108062  \n",
       "1       0.204013  0.186520   0.203947  0.212146  \n",
       "2       0.133684  0.122419   0.133433  0.139909  \n",
       "3       0.119145  0.071436   0.113651  0.153838  \n",
       "4       0.246921  0.279878   0.261812  0.241762  "
      ]
     },
     "execution_count": 20,
     "metadata": {},
     "output_type": "execute_result"
    }
   ],
   "source": [
    "df = pd.read_csv('../data/final/pictures.csv')\n",
    "df.head(5)"
   ]
  },
  {
   "cell_type": "code",
   "execution_count": 21,
   "metadata": {},
   "outputs": [],
   "source": [
    "y = df['category']\n",
    "X = df[['mean_grayscale','mean_blue','mean_green','mean_red','std_grayscale','std_blue','std_green','std_red']] "
   ]
  },
  {
   "cell_type": "code",
   "execution_count": 22,
   "metadata": {},
   "outputs": [
    {
     "data": {
      "text/plain": [
       "array([9, 9, 9, ..., 0, 0, 0])"
      ]
     },
     "execution_count": 22,
     "metadata": {},
     "output_type": "execute_result"
    }
   ],
   "source": [
    "le = LabelEncoder()\n",
    "y= le.fit_transform(y)\n",
    "y\n"
   ]
  },
  {
   "cell_type": "markdown",
   "metadata": {},
   "source": [
    "## Models 📈"
   ]
  },
  {
   "cell_type": "code",
   "execution_count": 23,
   "metadata": {},
   "outputs": [],
   "source": [
    "from sklearn.linear_model import LogisticRegression\n",
    "from sklearn.svm import SVC, LinearSVC\n",
    "from sklearn.neighbors import KNeighborsClassifier\n",
    "from sklearn.tree import DecisionTreeClassifier\n",
    "from sklearn.ensemble import RandomForestClassifier\n",
    "from sklearn.naive_bayes import GaussianNB\n",
    "from sklearn.neural_network import MLPClassifier\n",
    "from sklearn.model_selection import GridSearchCV\n",
    "\n",
    "def modelPipeline(X, y):\n",
    "    \n",
    "    default_params = {'random_state':42}\n",
    "    \n",
    "    log_reg = LogisticRegression(**default_params|{'max_iter':10000})\n",
    "    knn = KNeighborsClassifier()\n",
    "    svm = SVC(**default_params)\n",
    "        \n",
    "    models = [\n",
    "            ('Logistic Regression', log_reg, {\"penalty\":['l2','none'], 'C':np.logspace(-4, 2, num=3)}), \n",
    "            ('K-Nearest Neighbors', knn, {'n_neighbors':[3,9,12], 'metric': ['l1','l2']}), \n",
    "            ('SVM', svm, {'C': [0.1, 1, 10, 100, 1000],'gamma': [1, 0.1, 0.01, 0.001, 0.0001], 'kernel':['rbf','linear']}),\n",
    "            ]\n",
    "    \n",
    "    results = pd.DataFrame(columns=['model','params','mean_test_score'])\n",
    "    for name,model,params in models:\n",
    "        classifier = GridSearchCV(model,params,cv=3,return_train_score=False)\n",
    "        classifier.fit(X,y)\n",
    "        full_report = pd.DataFrame(classifier.cv_results_)\n",
    "        full_report['model']= name\n",
    "        report = full_report[['model','params','mean_test_score','mean_fit_time']]\n",
    "        results = pd.concat([results, report])\n",
    "        \n",
    "    return results\n",
    "\n",
    "models_df = modelPipeline(X,y)\n",
    "    "
   ]
  },
  {
   "cell_type": "markdown",
   "metadata": {},
   "source": [
    "# Model Selection"
   ]
  },
  {
   "cell_type": "markdown",
   "metadata": {},
   "source": [
    "### Search the models with best test scores"
   ]
  },
  {
   "cell_type": "code",
   "execution_count": 24,
   "metadata": {},
   "outputs": [
    {
     "data": {
      "text/html": [
       "<div>\n",
       "<style scoped>\n",
       "    .dataframe tbody tr th:only-of-type {\n",
       "        vertical-align: middle;\n",
       "    }\n",
       "\n",
       "    .dataframe tbody tr th {\n",
       "        vertical-align: top;\n",
       "    }\n",
       "\n",
       "    .dataframe thead th {\n",
       "        text-align: right;\n",
       "    }\n",
       "</style>\n",
       "<table border=\"1\" class=\"dataframe\">\n",
       "  <thead>\n",
       "    <tr style=\"text-align: right;\">\n",
       "      <th></th>\n",
       "      <th>model</th>\n",
       "      <th>params</th>\n",
       "      <th>mean_test_score</th>\n",
       "      <th>mean_fit_time</th>\n",
       "    </tr>\n",
       "  </thead>\n",
       "  <tbody>\n",
       "    <tr>\n",
       "      <th>40</th>\n",
       "      <td>SVM</td>\n",
       "      <td>{'C': 1000, 'gamma': 1, 'kernel': 'rbf'}</td>\n",
       "      <td>0.833674</td>\n",
       "      <td>0.621838</td>\n",
       "    </tr>\n",
       "    <tr>\n",
       "      <th>30</th>\n",
       "      <td>SVM</td>\n",
       "      <td>{'C': 100, 'gamma': 1, 'kernel': 'rbf'}</td>\n",
       "      <td>0.823467</td>\n",
       "      <td>0.408758</td>\n",
       "    </tr>\n",
       "    <tr>\n",
       "      <th>42</th>\n",
       "      <td>SVM</td>\n",
       "      <td>{'C': 1000, 'gamma': 0.1, 'kernel': 'rbf'}</td>\n",
       "      <td>0.820939</td>\n",
       "      <td>0.436639</td>\n",
       "    </tr>\n",
       "    <tr>\n",
       "      <th>49</th>\n",
       "      <td>SVM</td>\n",
       "      <td>{'C': 1000, 'gamma': 0.0001, 'kernel': 'linear'}</td>\n",
       "      <td>0.817926</td>\n",
       "      <td>0.655841</td>\n",
       "    </tr>\n",
       "    <tr>\n",
       "      <th>47</th>\n",
       "      <td>SVM</td>\n",
       "      <td>{'C': 1000, 'gamma': 0.001, 'kernel': 'linear'}</td>\n",
       "      <td>0.817926</td>\n",
       "      <td>0.654716</td>\n",
       "    </tr>\n",
       "    <tr>\n",
       "      <th>...</th>\n",
       "      <td>...</td>\n",
       "      <td>...</td>\n",
       "      <td>...</td>\n",
       "      <td>...</td>\n",
       "    </tr>\n",
       "    <tr>\n",
       "      <th>6</th>\n",
       "      <td>SVM</td>\n",
       "      <td>{'C': 0.1, 'gamma': 0.001, 'kernel': 'rbf'}</td>\n",
       "      <td>0.265189</td>\n",
       "      <td>1.869613</td>\n",
       "    </tr>\n",
       "    <tr>\n",
       "      <th>8</th>\n",
       "      <td>SVM</td>\n",
       "      <td>{'C': 0.1, 'gamma': 0.0001, 'kernel': 'rbf'}</td>\n",
       "      <td>0.265189</td>\n",
       "      <td>1.867203</td>\n",
       "    </tr>\n",
       "    <tr>\n",
       "      <th>28</th>\n",
       "      <td>SVM</td>\n",
       "      <td>{'C': 10, 'gamma': 0.0001, 'kernel': 'rbf'}</td>\n",
       "      <td>0.265189</td>\n",
       "      <td>1.867760</td>\n",
       "    </tr>\n",
       "    <tr>\n",
       "      <th>16</th>\n",
       "      <td>SVM</td>\n",
       "      <td>{'C': 1, 'gamma': 0.001, 'kernel': 'rbf'}</td>\n",
       "      <td>0.265189</td>\n",
       "      <td>1.861052</td>\n",
       "    </tr>\n",
       "    <tr>\n",
       "      <th>0</th>\n",
       "      <td>Logistic Regression</td>\n",
       "      <td>{'C': 0.0001, 'penalty': 'l2'}</td>\n",
       "      <td>0.227666</td>\n",
       "      <td>0.058450</td>\n",
       "    </tr>\n",
       "  </tbody>\n",
       "</table>\n",
       "<p>62 rows × 4 columns</p>\n",
       "</div>"
      ],
      "text/plain": [
       "                  model                                            params  \\\n",
       "40                  SVM          {'C': 1000, 'gamma': 1, 'kernel': 'rbf'}   \n",
       "30                  SVM           {'C': 100, 'gamma': 1, 'kernel': 'rbf'}   \n",
       "42                  SVM        {'C': 1000, 'gamma': 0.1, 'kernel': 'rbf'}   \n",
       "49                  SVM  {'C': 1000, 'gamma': 0.0001, 'kernel': 'linear'}   \n",
       "47                  SVM   {'C': 1000, 'gamma': 0.001, 'kernel': 'linear'}   \n",
       "..                  ...                                               ...   \n",
       "6                   SVM       {'C': 0.1, 'gamma': 0.001, 'kernel': 'rbf'}   \n",
       "8                   SVM      {'C': 0.1, 'gamma': 0.0001, 'kernel': 'rbf'}   \n",
       "28                  SVM       {'C': 10, 'gamma': 0.0001, 'kernel': 'rbf'}   \n",
       "16                  SVM         {'C': 1, 'gamma': 0.001, 'kernel': 'rbf'}   \n",
       "0   Logistic Regression                    {'C': 0.0001, 'penalty': 'l2'}   \n",
       "\n",
       "    mean_test_score  mean_fit_time  \n",
       "40         0.833674       0.621838  \n",
       "30         0.823467       0.408758  \n",
       "42         0.820939       0.436639  \n",
       "49         0.817926       0.655841  \n",
       "47         0.817926       0.654716  \n",
       "..              ...            ...  \n",
       "6          0.265189       1.869613  \n",
       "8          0.265189       1.867203  \n",
       "28         0.265189       1.867760  \n",
       "16         0.265189       1.861052  \n",
       "0          0.227666       0.058450  \n",
       "\n",
       "[62 rows x 4 columns]"
      ]
     },
     "execution_count": 24,
     "metadata": {},
     "output_type": "execute_result"
    }
   ],
   "source": [
    "models_df.sort_values('mean_test_score',ascending=False)"
   ]
  },
  {
   "cell_type": "code",
   "execution_count": 25,
   "metadata": {},
   "outputs": [
    {
     "data": {
      "text/html": [
       "<div>\n",
       "<style scoped>\n",
       "    .dataframe tbody tr th:only-of-type {\n",
       "        vertical-align: middle;\n",
       "    }\n",
       "\n",
       "    .dataframe tbody tr th {\n",
       "        vertical-align: top;\n",
       "    }\n",
       "\n",
       "    .dataframe thead th {\n",
       "        text-align: right;\n",
       "    }\n",
       "</style>\n",
       "<table border=\"1\" class=\"dataframe\">\n",
       "  <thead>\n",
       "    <tr style=\"text-align: right;\">\n",
       "      <th></th>\n",
       "      <th>model</th>\n",
       "      <th>mean_test_score</th>\n",
       "      <th>mean_fit_time</th>\n",
       "    </tr>\n",
       "  </thead>\n",
       "  <tbody>\n",
       "    <tr>\n",
       "      <th>0</th>\n",
       "      <td>K-Nearest Neighbors</td>\n",
       "      <td>0.726256</td>\n",
       "      <td>0.011001</td>\n",
       "    </tr>\n",
       "    <tr>\n",
       "      <th>1</th>\n",
       "      <td>Logistic Regression</td>\n",
       "      <td>0.812871</td>\n",
       "      <td>5.213253</td>\n",
       "    </tr>\n",
       "    <tr>\n",
       "      <th>2</th>\n",
       "      <td>SVM</td>\n",
       "      <td>0.833674</td>\n",
       "      <td>1.871975</td>\n",
       "    </tr>\n",
       "  </tbody>\n",
       "</table>\n",
       "</div>"
      ],
      "text/plain": [
       "                 model  mean_test_score  mean_fit_time\n",
       "0  K-Nearest Neighbors         0.726256       0.011001\n",
       "1  Logistic Regression         0.812871       5.213253\n",
       "2                  SVM         0.833674       1.871975"
      ]
     },
     "execution_count": 25,
     "metadata": {},
     "output_type": "execute_result"
    }
   ],
   "source": [
    "models_df.groupby('model', as_index=False).max()"
   ]
  },
  {
   "cell_type": "markdown",
   "metadata": {},
   "source": [
    "#### SVC (Super Vector Machine Classifier) "
   ]
  },
  {
   "cell_type": "code",
   "execution_count": 15,
   "metadata": {},
   "outputs": [
    {
     "data": {
      "text/plain": [
       "SVC(kernel='linear', random_state=32)"
      ]
     },
     "execution_count": 15,
     "metadata": {},
     "output_type": "execute_result"
    }
   ],
   "source": [
    "X_train,X_test, y_train, y_test = train_test_split(X, y,test_size=0.3, stratify=y,random_state=32)\n",
    "# And here we train our model. IMPORTANT: we use kernel='linear'.\n",
    "svc_model = SVC(kernel='linear', random_state=32)\n",
    "svc_model.fit(X_train, y_train)"
   ]
  },
  {
   "cell_type": "code",
   "execution_count": 21,
   "metadata": {},
   "outputs": [
    {
     "data": {
      "text/plain": [
       "array([[313,   4,  39,   6,   0,   0,   0,   0,   2,   0,   1],\n",
       "       [ 16, 263,   0,   1,   0,   0,   0,   4,  59,  22,   0],\n",
       "       [ 69,   0, 252,   9,   8,   0,   0,   4,   1,   0,  22],\n",
       "       [ 16,   3,  17, 249,   1,   0,   0,   0,  44,  15,  20],\n",
       "       [  1,   0,  17,   2, 136,   0,   0,  40,   0,   0,  47],\n",
       "       [  0,   1,   0,   0,   0,   0,   0,  16,   0,   7,   2],\n",
       "       [  1,  23,   0,   0,   0,   0,   0,  12,   0,   0,   0],\n",
       "       [ 19,   8,  36,   2,  13,   0,   0, 221,   3,  11,   4],\n",
       "       [  6,  56,   3,  30,   0,   0,   0,   1, 244,  23,   1],\n",
       "       [  2,   4,   1,   3,   0,   0,   0,   3,   1, 307,  16],\n",
       "       [  1,   1,  12,  26,  10,   0,   0,   1,   0,  31, 222]],\n",
       "      dtype=int64)"
      ]
     },
     "execution_count": 21,
     "metadata": {},
     "output_type": "execute_result"
    }
   ],
   "source": [
    "y_pred = svc_model.predict(X_test)\n",
    "cm = confusion_matrix(y_test, y_pred)\n",
    "cm"
   ]
  },
  {
   "cell_type": "code",
   "execution_count": 20,
   "metadata": {},
   "outputs": [
    {
     "name": "stdout",
     "output_type": "stream",
     "text": [
      "              precision    recall  f1-score   support\n",
      "\n",
      "       BLACK       0.70      0.86      0.77       365\n",
      "        BLUE       0.72      0.72      0.72       365\n",
      "       BROWN       0.67      0.69      0.68       365\n",
      "       GREEN       0.76      0.68      0.72       365\n",
      "      ORANGE       0.81      0.56      0.66       243\n",
      "        PINK       0.00      0.00      0.00        26\n",
      "      PURPLE       0.00      0.00      0.00        36\n",
      "         RED       0.73      0.70      0.71       317\n",
      "        TEAL       0.69      0.67      0.68       364\n",
      "       WHITE       0.74      0.91      0.82       337\n",
      "      YELLOW       0.66      0.73      0.69       304\n",
      "\n",
      "    accuracy                           0.71      3087\n",
      "   macro avg       0.59      0.59      0.59      3087\n",
      "weighted avg       0.70      0.71      0.71      3087\n",
      "\n"
     ]
    },
    {
     "name": "stderr",
     "output_type": "stream",
     "text": [
      "c:\\ProgramData\\Anaconda3\\lib\\site-packages\\sklearn\\metrics\\_classification.py:1318: UndefinedMetricWarning: Precision and F-score are ill-defined and being set to 0.0 in labels with no predicted samples. Use `zero_division` parameter to control this behavior.\n",
      "  _warn_prf(average, modifier, msg_start, len(result))\n",
      "c:\\ProgramData\\Anaconda3\\lib\\site-packages\\sklearn\\metrics\\_classification.py:1318: UndefinedMetricWarning: Precision and F-score are ill-defined and being set to 0.0 in labels with no predicted samples. Use `zero_division` parameter to control this behavior.\n",
      "  _warn_prf(average, modifier, msg_start, len(result))\n",
      "c:\\ProgramData\\Anaconda3\\lib\\site-packages\\sklearn\\metrics\\_classification.py:1318: UndefinedMetricWarning: Precision and F-score are ill-defined and being set to 0.0 in labels with no predicted samples. Use `zero_division` parameter to control this behavior.\n",
      "  _warn_prf(average, modifier, msg_start, len(result))\n"
     ]
    }
   ],
   "source": [
    "# print prediction results\n",
    "print(classification_report(y_test, y_pred))"
   ]
  },
  {
   "cell_type": "code",
   "execution_count": 24,
   "metadata": {},
   "outputs": [
    {
     "name": "stdout",
     "output_type": "stream",
     "text": [
      "Fitting 5 folds for each of 25 candidates, totalling 125 fits\n",
      "[CV 1/5] END ........C=0.1, gamma=1, kernel=rbf;, score=0.602 total time=   2.3s\n",
      "[CV 2/5] END ........C=0.1, gamma=1, kernel=rbf;, score=0.581 total time=   2.2s\n",
      "[CV 3/5] END ........C=0.1, gamma=1, kernel=rbf;, score=0.585 total time=   2.2s\n",
      "[CV 4/5] END ........C=0.1, gamma=1, kernel=rbf;, score=0.601 total time=   2.1s\n",
      "[CV 5/5] END ........C=0.1, gamma=1, kernel=rbf;, score=0.597 total time=   2.1s\n",
      "[CV 1/5] END ......C=0.1, gamma=0.1, kernel=rbf;, score=0.399 total time=   3.0s\n",
      "[CV 2/5] END ......C=0.1, gamma=0.1, kernel=rbf;, score=0.384 total time=   2.9s\n",
      "[CV 3/5] END ......C=0.1, gamma=0.1, kernel=rbf;, score=0.390 total time=   3.0s\n",
      "[CV 4/5] END ......C=0.1, gamma=0.1, kernel=rbf;, score=0.403 total time=   3.0s\n",
      "[CV 5/5] END ......C=0.1, gamma=0.1, kernel=rbf;, score=0.380 total time=   3.0s\n",
      "[CV 1/5] END .....C=0.1, gamma=0.01, kernel=rbf;, score=0.140 total time=   3.3s\n",
      "[CV 2/5] END .....C=0.1, gamma=0.01, kernel=rbf;, score=0.145 total time=   3.4s\n",
      "[CV 3/5] END .....C=0.1, gamma=0.01, kernel=rbf;, score=0.273 total time=   3.4s\n",
      "[CV 4/5] END .....C=0.1, gamma=0.01, kernel=rbf;, score=0.140 total time=   3.4s\n",
      "[CV 5/5] END .....C=0.1, gamma=0.01, kernel=rbf;, score=0.127 total time=   3.3s\n",
      "[CV 1/5] END ....C=0.1, gamma=0.001, kernel=rbf;, score=0.118 total time=   3.4s\n",
      "[CV 2/5] END ....C=0.1, gamma=0.001, kernel=rbf;, score=0.118 total time=   3.3s\n",
      "[CV 3/5] END ....C=0.1, gamma=0.001, kernel=rbf;, score=0.273 total time=   3.4s\n",
      "[CV 4/5] END ....C=0.1, gamma=0.001, kernel=rbf;, score=0.118 total time=   3.4s\n",
      "[CV 5/5] END ....C=0.1, gamma=0.001, kernel=rbf;, score=0.118 total time=   3.3s\n",
      "[CV 1/5] END ...C=0.1, gamma=0.0001, kernel=rbf;, score=0.118 total time=   3.6s\n",
      "[CV 2/5] END ...C=0.1, gamma=0.0001, kernel=rbf;, score=0.118 total time=   3.4s\n",
      "[CV 3/5] END ...C=0.1, gamma=0.0001, kernel=rbf;, score=0.273 total time=   3.4s\n",
      "[CV 4/5] END ...C=0.1, gamma=0.0001, kernel=rbf;, score=0.118 total time=   3.3s\n",
      "[CV 5/5] END ...C=0.1, gamma=0.0001, kernel=rbf;, score=0.118 total time=   3.3s\n",
      "[CV 1/5] END ..........C=1, gamma=1, kernel=rbf;, score=0.730 total time=   1.4s\n",
      "[CV 2/5] END ..........C=1, gamma=1, kernel=rbf;, score=0.749 total time=   1.4s\n",
      "[CV 3/5] END ..........C=1, gamma=1, kernel=rbf;, score=0.743 total time=   1.4s\n",
      "[CV 4/5] END ..........C=1, gamma=1, kernel=rbf;, score=0.742 total time=   1.4s\n",
      "[CV 5/5] END ..........C=1, gamma=1, kernel=rbf;, score=0.748 total time=   1.4s\n",
      "[CV 1/5] END ........C=1, gamma=0.1, kernel=rbf;, score=0.607 total time=   2.1s\n",
      "[CV 2/5] END ........C=1, gamma=0.1, kernel=rbf;, score=0.590 total time=   2.2s\n",
      "[CV 3/5] END ........C=1, gamma=0.1, kernel=rbf;, score=0.598 total time=   2.3s\n",
      "[CV 4/5] END ........C=1, gamma=0.1, kernel=rbf;, score=0.605 total time=   2.3s\n",
      "[CV 5/5] END ........C=1, gamma=0.1, kernel=rbf;, score=0.613 total time=   2.5s\n",
      "[CV 1/5] END .......C=1, gamma=0.01, kernel=rbf;, score=0.405 total time=   3.1s\n",
      "[CV 2/5] END .......C=1, gamma=0.01, kernel=rbf;, score=0.388 total time=   3.1s\n",
      "[CV 3/5] END .......C=1, gamma=0.01, kernel=rbf;, score=0.394 total time=   3.1s\n",
      "[CV 4/5] END .......C=1, gamma=0.01, kernel=rbf;, score=0.408 total time=   3.0s\n",
      "[CV 5/5] END .......C=1, gamma=0.01, kernel=rbf;, score=0.389 total time=   3.0s\n",
      "[CV 1/5] END ......C=1, gamma=0.001, kernel=rbf;, score=0.142 total time=   3.6s\n",
      "[CV 2/5] END ......C=1, gamma=0.001, kernel=rbf;, score=0.149 total time=   3.6s\n",
      "[CV 3/5] END ......C=1, gamma=0.001, kernel=rbf;, score=0.273 total time=   3.3s\n",
      "[CV 4/5] END ......C=1, gamma=0.001, kernel=rbf;, score=0.143 total time=   3.4s\n",
      "[CV 5/5] END ......C=1, gamma=0.001, kernel=rbf;, score=0.127 total time=   3.4s\n",
      "[CV 1/5] END .....C=1, gamma=0.0001, kernel=rbf;, score=0.118 total time=   3.4s\n",
      "[CV 2/5] END .....C=1, gamma=0.0001, kernel=rbf;, score=0.118 total time=   3.5s\n",
      "[CV 3/5] END .....C=1, gamma=0.0001, kernel=rbf;, score=0.273 total time=   3.4s\n",
      "[CV 4/5] END .....C=1, gamma=0.0001, kernel=rbf;, score=0.118 total time=   3.5s\n",
      "[CV 5/5] END .....C=1, gamma=0.0001, kernel=rbf;, score=0.118 total time=   3.4s\n",
      "[CV 1/5] END .........C=10, gamma=1, kernel=rbf;, score=0.792 total time=   1.0s\n",
      "[CV 2/5] END .........C=10, gamma=1, kernel=rbf;, score=0.815 total time=   1.0s\n",
      "[CV 3/5] END .........C=10, gamma=1, kernel=rbf;, score=0.803 total time=   1.0s\n",
      "[CV 4/5] END .........C=10, gamma=1, kernel=rbf;, score=0.803 total time=   1.0s\n",
      "[CV 5/5] END .........C=10, gamma=1, kernel=rbf;, score=0.808 total time=   1.0s\n",
      "[CV 1/5] END .......C=10, gamma=0.1, kernel=rbf;, score=0.729 total time=   1.4s\n",
      "[CV 2/5] END .......C=10, gamma=0.1, kernel=rbf;, score=0.758 total time=   1.4s\n",
      "[CV 3/5] END .......C=10, gamma=0.1, kernel=rbf;, score=0.744 total time=   1.5s\n",
      "[CV 4/5] END .......C=10, gamma=0.1, kernel=rbf;, score=0.746 total time=   1.6s\n",
      "[CV 5/5] END .......C=10, gamma=0.1, kernel=rbf;, score=0.758 total time=   1.6s\n",
      "[CV 1/5] END ......C=10, gamma=0.01, kernel=rbf;, score=0.610 total time=   2.2s\n",
      "[CV 2/5] END ......C=10, gamma=0.01, kernel=rbf;, score=0.592 total time=   2.2s\n",
      "[CV 3/5] END ......C=10, gamma=0.01, kernel=rbf;, score=0.602 total time=   2.1s\n",
      "[CV 4/5] END ......C=10, gamma=0.01, kernel=rbf;, score=0.606 total time=   2.2s\n",
      "[CV 5/5] END ......C=10, gamma=0.01, kernel=rbf;, score=0.616 total time=   2.2s\n",
      "[CV 1/5] END .....C=10, gamma=0.001, kernel=rbf;, score=0.403 total time=   3.2s\n",
      "[CV 2/5] END .....C=10, gamma=0.001, kernel=rbf;, score=0.388 total time=   3.2s\n",
      "[CV 3/5] END .....C=10, gamma=0.001, kernel=rbf;, score=0.394 total time=   3.0s\n",
      "[CV 4/5] END .....C=10, gamma=0.001, kernel=rbf;, score=0.407 total time=   3.1s\n",
      "[CV 5/5] END .....C=10, gamma=0.001, kernel=rbf;, score=0.388 total time=   3.1s\n",
      "[CV 1/5] END ....C=10, gamma=0.0001, kernel=rbf;, score=0.142 total time=   3.4s\n",
      "[CV 2/5] END ....C=10, gamma=0.0001, kernel=rbf;, score=0.149 total time=   3.4s\n",
      "[CV 3/5] END ....C=10, gamma=0.0001, kernel=rbf;, score=0.273 total time=   3.4s\n",
      "[CV 4/5] END ....C=10, gamma=0.0001, kernel=rbf;, score=0.143 total time=   3.4s\n",
      "[CV 5/5] END ....C=10, gamma=0.0001, kernel=rbf;, score=0.127 total time=   3.4s\n",
      "[CV 1/5] END ........C=100, gamma=1, kernel=rbf;, score=0.820 total time=   0.9s\n",
      "[CV 2/5] END ........C=100, gamma=1, kernel=rbf;, score=0.833 total time=   0.9s\n",
      "[CV 3/5] END ........C=100, gamma=1, kernel=rbf;, score=0.826 total time=   0.9s\n",
      "[CV 4/5] END ........C=100, gamma=1, kernel=rbf;, score=0.825 total time=   0.9s\n",
      "[CV 5/5] END ........C=100, gamma=1, kernel=rbf;, score=0.831 total time=   0.8s\n",
      "[CV 1/5] END ......C=100, gamma=0.1, kernel=rbf;, score=0.790 total time=   1.0s\n",
      "[CV 2/5] END ......C=100, gamma=0.1, kernel=rbf;, score=0.817 total time=   1.1s\n",
      "[CV 3/5] END ......C=100, gamma=0.1, kernel=rbf;, score=0.795 total time=   1.0s\n",
      "[CV 4/5] END ......C=100, gamma=0.1, kernel=rbf;, score=0.803 total time=   1.0s\n",
      "[CV 5/5] END ......C=100, gamma=0.1, kernel=rbf;, score=0.808 total time=   1.0s\n",
      "[CV 1/5] END .....C=100, gamma=0.01, kernel=rbf;, score=0.729 total time=   1.4s\n",
      "[CV 2/5] END .....C=100, gamma=0.01, kernel=rbf;, score=0.753 total time=   1.5s\n",
      "[CV 3/5] END .....C=100, gamma=0.01, kernel=rbf;, score=0.744 total time=   1.5s\n",
      "[CV 4/5] END .....C=100, gamma=0.01, kernel=rbf;, score=0.740 total time=   1.5s\n",
      "[CV 5/5] END .....C=100, gamma=0.01, kernel=rbf;, score=0.758 total time=   1.5s\n",
      "[CV 1/5] END ....C=100, gamma=0.001, kernel=rbf;, score=0.610 total time=   2.1s\n",
      "[CV 2/5] END ....C=100, gamma=0.001, kernel=rbf;, score=0.592 total time=   2.2s\n",
      "[CV 3/5] END ....C=100, gamma=0.001, kernel=rbf;, score=0.601 total time=   2.2s\n",
      "[CV 4/5] END ....C=100, gamma=0.001, kernel=rbf;, score=0.608 total time=   2.2s\n",
      "[CV 5/5] END ....C=100, gamma=0.001, kernel=rbf;, score=0.615 total time=   2.2s\n",
      "[CV 1/5] END ...C=100, gamma=0.0001, kernel=rbf;, score=0.403 total time=   3.0s\n",
      "[CV 2/5] END ...C=100, gamma=0.0001, kernel=rbf;, score=0.388 total time=   3.1s\n",
      "[CV 3/5] END ...C=100, gamma=0.0001, kernel=rbf;, score=0.394 total time=   3.0s\n",
      "[CV 4/5] END ...C=100, gamma=0.0001, kernel=rbf;, score=0.407 total time=   3.0s\n",
      "[CV 5/5] END ...C=100, gamma=0.0001, kernel=rbf;, score=0.389 total time=   3.0s\n",
      "[CV 1/5] END .......C=1000, gamma=1, kernel=rbf;, score=0.832 total time=   1.0s\n",
      "[CV 2/5] END .......C=1000, gamma=1, kernel=rbf;, score=0.833 total time=   1.0s\n",
      "[CV 3/5] END .......C=1000, gamma=1, kernel=rbf;, score=0.840 total time=   1.0s\n",
      "[CV 4/5] END .......C=1000, gamma=1, kernel=rbf;, score=0.832 total time=   1.0s\n",
      "[CV 5/5] END .......C=1000, gamma=1, kernel=rbf;, score=0.845 total time=   1.0s\n",
      "[CV 1/5] END .....C=1000, gamma=0.1, kernel=rbf;, score=0.823 total time=   0.9s\n",
      "[CV 2/5] END .....C=1000, gamma=0.1, kernel=rbf;, score=0.836 total time=   0.9s\n",
      "[CV 3/5] END .....C=1000, gamma=0.1, kernel=rbf;, score=0.823 total time=   0.9s\n",
      "[CV 4/5] END .....C=1000, gamma=0.1, kernel=rbf;, score=0.832 total time=   0.9s\n",
      "[CV 5/5] END .....C=1000, gamma=0.1, kernel=rbf;, score=0.828 total time=   0.9s\n",
      "[CV 1/5] END ....C=1000, gamma=0.01, kernel=rbf;, score=0.790 total time=   1.0s\n",
      "[CV 2/5] END ....C=1000, gamma=0.01, kernel=rbf;, score=0.813 total time=   1.0s\n",
      "[CV 3/5] END ....C=1000, gamma=0.01, kernel=rbf;, score=0.795 total time=   1.1s\n",
      "[CV 4/5] END ....C=1000, gamma=0.01, kernel=rbf;, score=0.798 total time=   1.0s\n",
      "[CV 5/5] END ....C=1000, gamma=0.01, kernel=rbf;, score=0.807 total time=   1.1s\n",
      "[CV 1/5] END ...C=1000, gamma=0.001, kernel=rbf;, score=0.728 total time=   1.5s\n",
      "[CV 2/5] END ...C=1000, gamma=0.001, kernel=rbf;, score=0.753 total time=   1.4s\n",
      "[CV 3/5] END ...C=1000, gamma=0.001, kernel=rbf;, score=0.743 total time=   1.5s\n",
      "[CV 4/5] END ...C=1000, gamma=0.001, kernel=rbf;, score=0.738 total time=   1.5s\n",
      "[CV 5/5] END ...C=1000, gamma=0.001, kernel=rbf;, score=0.758 total time=   1.4s\n",
      "[CV 1/5] END ..C=1000, gamma=0.0001, kernel=rbf;, score=0.610 total time=   2.2s\n",
      "[CV 2/5] END ..C=1000, gamma=0.0001, kernel=rbf;, score=0.592 total time=   2.1s\n",
      "[CV 3/5] END ..C=1000, gamma=0.0001, kernel=rbf;, score=0.601 total time=   2.1s\n",
      "[CV 4/5] END ..C=1000, gamma=0.0001, kernel=rbf;, score=0.608 total time=   2.2s\n",
      "[CV 5/5] END ..C=1000, gamma=0.0001, kernel=rbf;, score=0.615 total time=   2.1s\n"
     ]
    },
    {
     "data": {
      "text/plain": [
       "GridSearchCV(estimator=SVC(),\n",
       "             param_grid={'C': [0.1, 1, 10, 100, 1000],\n",
       "                         'gamma': [1, 0.1, 0.01, 0.001, 0.0001],\n",
       "                         'kernel': ['rbf']},\n",
       "             verbose=3)"
      ]
     },
     "execution_count": 24,
     "metadata": {},
     "output_type": "execute_result"
    }
   ],
   "source": [
    "# defining parameter range\n",
    "param_grid = {'C': [0.1, 1, 10, 100, 1000],\n",
    "              'gamma': [1, 0.1, 0.01, 0.001, 0.0001],\n",
    "              'kernel': ['rbf']}\n",
    " \n",
    "grid = GridSearchCV(SVC(), param_grid, refit = True, verbose = 3)\n",
    " \n",
    "# fitting the model for grid search\n",
    "grid.fit(X_train, y_train)"
   ]
  },
  {
   "cell_type": "code",
   "execution_count": 27,
   "metadata": {},
   "outputs": [
    {
     "data": {
      "text/plain": [
       "SVC(C=1000, gamma=1)"
      ]
     },
     "execution_count": 27,
     "metadata": {},
     "output_type": "execute_result"
    }
   ],
   "source": [
    "grid.best_estimator_"
   ]
  },
  {
   "cell_type": "code",
   "execution_count": 25,
   "metadata": {},
   "outputs": [
    {
     "name": "stdout",
     "output_type": "stream",
     "text": [
      "              precision    recall  f1-score   support\n",
      "\n",
      "       BLACK       0.87      0.85      0.86       365\n",
      "        BLUE       0.81      0.83      0.82       365\n",
      "       BROWN       0.83      0.82      0.83       365\n",
      "       GREEN       0.82      0.82      0.82       365\n",
      "      ORANGE       0.84      0.84      0.84       243\n",
      "        PINK       0.67      0.62      0.64        26\n",
      "      PURPLE       0.78      0.69      0.74        36\n",
      "         RED       0.84      0.84      0.84       317\n",
      "        TEAL       0.77      0.79      0.78       364\n",
      "       WHITE       0.91      0.92      0.91       337\n",
      "      YELLOW       0.79      0.76      0.78       304\n",
      "\n",
      "    accuracy                           0.83      3087\n",
      "   macro avg       0.81      0.80      0.80      3087\n",
      "weighted avg       0.83      0.83      0.83      3087\n",
      "\n"
     ]
    }
   ],
   "source": [
    "grid_predictions = grid.predict(X_test)\n",
    " \n",
    "# print classification report\n",
    "print(classification_report(y_test, grid_predictions))"
   ]
  },
  {
   "cell_type": "code",
   "execution_count": 30,
   "metadata": {},
   "outputs": [],
   "source": [
    "# https://scikit-learn.org/stable/auto_examples/svm/plot_rbf_parameters.html\n",
    "#https://www.vebuso.com/2020/03/svm-hyperparameter-tuning-using-gridsearchcv/\n",
    "# https://en.wikipedia.org/wiki/Radial_basis_function_kernel"
   ]
  }
 ],
 "metadata": {
  "kernelspec": {
   "display_name": "Python 3.9.7 ('env': venv)",
   "language": "python",
   "name": "python3"
  },
  "language_info": {
   "codemirror_mode": {
    "name": "ipython",
    "version": 3
   },
   "file_extension": ".py",
   "mimetype": "text/x-python",
   "name": "python",
   "nbconvert_exporter": "python",
   "pygments_lexer": "ipython3",
   "version": "3.9.7"
  },
  "orig_nbformat": 4,
  "vscode": {
   "interpreter": {
    "hash": "0832b3b45e9f58719f136abde0f871f15b0c3514f4cec0b31c3dbed423b45e39"
   }
  }
 },
 "nbformat": 4,
 "nbformat_minor": 2
}
