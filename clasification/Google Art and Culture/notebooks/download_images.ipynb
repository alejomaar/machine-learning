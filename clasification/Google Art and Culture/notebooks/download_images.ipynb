{
 "cells": [
  {
   "cell_type": "code",
   "execution_count": 1,
   "metadata": {},
   "outputs": [],
   "source": [
    "import sys\n",
    "sys.path.append('../src/')\n",
    "import Parallel\n",
    "from Database import Database\n"
   ]
  },
  {
   "cell_type": "code",
   "execution_count": 2,
   "metadata": {},
   "outputs": [],
   "source": [
    "db = Database('test.db')"
   ]
  },
  {
   "cell_type": "code",
   "execution_count": 3,
   "metadata": {},
   "outputs": [
    {
     "data": {
      "text/plain": [
       "[('Eric', 'Alfonso', 'email'),\n",
       " ('Eric 2', 'Alfonso 2', 'email 2'),\n",
       " ('Eric 3', 'Alfonso 3', 'email 3'),\n",
       " ('Eric 3', 'Alfonso 3', 'email 3'),\n",
       " ('Eric 3', 'Alfonso 3', 'email 3'),\n",
       " ('Eric 3', 'Alfonso 3', 'email 3'),\n",
       " ('Eric 3', 'Alfonso 3', 'email 3'),\n",
       " ('Eric 3', 'Alfonso 3', 'email 3'),\n",
       " ('Eric 3', 'Alfonso 3', 'email 3'),\n",
       " ('Eric 3', 'Alfonso 3', 'email 3')]"
      ]
     },
     "execution_count": 3,
     "metadata": {},
     "output_type": "execute_result"
    }
   ],
   "source": [
    "\n",
    "\n",
    "#db.create_table_customers()\n",
    "#db.insert_customers('Eric 3','Alfonso 3','email 3')\n",
    "#db.cursor.execute(\"select * from customers\")\n",
    "#db.cursor.fetchall()\n",
    "db.select_all_customers()"
   ]
  },
  {
   "cell_type": "code",
   "execution_count": 8,
   "metadata": {},
   "outputs": [],
   "source": [
    "db.db.close()"
   ]
  }
 ],
 "metadata": {
  "kernelspec": {
   "display_name": "Python 3.9.7 ('env': venv)",
   "language": "python",
   "name": "python3"
  },
  "language_info": {
   "codemirror_mode": {
    "name": "ipython",
    "version": 3
   },
   "file_extension": ".py",
   "mimetype": "text/x-python",
   "name": "python",
   "nbconvert_exporter": "python",
   "pygments_lexer": "ipython3",
   "version": "3.9.7"
  },
  "orig_nbformat": 4,
  "vscode": {
   "interpreter": {
    "hash": "0832b3b45e9f58719f136abde0f871f15b0c3514f4cec0b31c3dbed423b45e39"
   }
  }
 },
 "nbformat": 4,
 "nbformat_minor": 2
}
