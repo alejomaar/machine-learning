{
 "cells": [
  {
   "cell_type": "code",
   "execution_count": 1,
   "metadata": {},
   "outputs": [],
   "source": [
    "import sys\n",
    "sys.path.append('../src/')\n",
    "import Parallel\n",
    "from Database import Database, CUSTOMER\n"
   ]
  },
  {
   "cell_type": "code",
   "execution_count": 2,
   "metadata": {},
   "outputs": [
    {
     "data": {
      "text/plain": [
       "{'NAME': 'customers',\n",
       " 'SCHEMA': '\\n    first_name text,\\n    last_name text,\\n    email text\\n    ',\n",
       " 'SHAPE': '(?,?,?)'}"
      ]
     },
     "execution_count": 2,
     "metadata": {},
     "output_type": "execute_result"
    }
   ],
   "source": [
    "CUSTOMER"
   ]
  },
  {
   "cell_type": "code",
   "execution_count": 3,
   "metadata": {},
   "outputs": [],
   "source": [
    "db = Database(CUSTOMER)\n",
    "db.create_table()"
   ]
  },
  {
   "cell_type": "code",
   "execution_count": 4,
   "metadata": {},
   "outputs": [
    {
     "name": "stdout",
     "output_type": "stream",
     "text": [
      "\n",
      "        insert into customers\n",
      "        values (?,?,?)\n",
      "        \n"
     ]
    }
   ],
   "source": [
    "data= [('francisco', 'alejandro','email'),\n",
    "('pedro', 'alejandro','email'),\n",
    "('camilo', 'alejandro','email'),\n",
    "('hernando', 'alejandro','email'),\n",
    "('kelly', 'alejandro','email')]\n",
    "db.create_many(data)\n",
    "\n"
   ]
  },
  {
   "cell_type": "code",
   "execution_count": 6,
   "metadata": {},
   "outputs": [
    {
     "data": {
      "text/plain": [
       "[('francisco',), ('pedro',), ('camilo',), ('hernando',), ('kelly',)]"
      ]
     },
     "execution_count": 6,
     "metadata": {},
     "output_type": "execute_result"
    }
   ],
   "source": [
    "db.read('select first_name from customers')"
   ]
  },
  {
   "cell_type": "code",
   "execution_count": null,
   "metadata": {},
   "outputs": [],
   "source": [
    "db.db.close()"
   ]
  }
 ],
 "metadata": {
  "kernelspec": {
   "display_name": "Python 3.9.7 ('env': venv)",
   "language": "python",
   "name": "python3"
  },
  "language_info": {
   "codemirror_mode": {
    "name": "ipython",
    "version": 3
   },
   "file_extension": ".py",
   "mimetype": "text/x-python",
   "name": "python",
   "nbconvert_exporter": "python",
   "pygments_lexer": "ipython3",
   "version": "3.9.7"
  },
  "orig_nbformat": 4,
  "vscode": {
   "interpreter": {
    "hash": "0832b3b45e9f58719f136abde0f871f15b0c3514f4cec0b31c3dbed423b45e39"
   }
  }
 },
 "nbformat": 4,
 "nbformat_minor": 2
}
