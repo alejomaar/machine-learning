{
 "cells": [
  {
   "cell_type": "markdown",
   "id": "451dace1",
   "metadata": {},
   "source": [
    "# Google Art & Culture - Case study using CRISPS-DM\n",
    "\n",
    "#### Autors: Manuel Alejandro Aponte, Cristian Beltran, Maria Paula Peña\n",
    "\n",
    "In this notebook it will webscraping of the page Google Art & Culture\n",
    "\n",
    "## Objectives\n",
    "The objective of this notebooks is:\n",
    "\n",
    "* Download images using webscraping.\n",
    "* Download images metadata.\n",
    "* Store all information in a datasheet.\n",
    "\n",
    "## Prerequisites\n",
    "\n",
    "* Familiarity with python \n",
    "* Lastest version of Google WebDriver, Source: https://chromedriver.chromium.org/\n",
    "* Install python packages.\n",
    "* Use VPN (Recomended)\n",
    "\n",
    "## Background \n",
    "This notebook belongs to Google Art & Culture Case Study using CRIPS-DM, where would be include process such as webscraping, exploratory data analysis, ML classificators and dashboards. "
   ]
  },
  {
   "cell_type": "code",
   "execution_count": 1,
   "id": "1b2349cd",
   "metadata": {},
   "outputs": [],
   "source": [
    "#Import project packages\n",
    "\n",
    "from src.Scraper.Scraper import Scraper\n",
    "from src.Parallel.Parallel import parallel\n",
    "#Import packages\n",
    "import pandas as pd\n",
    "import numpy as np\n",
    "import requests\n",
    "from pandas.io.json import json_normalize\n",
    "import json"
   ]
  },
  {
   "cell_type": "markdown",
   "id": "e9384b0f",
   "metadata": {},
   "source": [
    "# Global Settings"
   ]
  },
  {
   "cell_type": "code",
   "execution_count": null,
   "id": "d937e88e",
   "metadata": {},
   "outputs": [],
   "source": [
    "#Colors of sections to be webscraped\n",
    "COLORS = [\"WHITE\",\"PINK\",\"YELLOW\",\"PURPLE\",\"BLUE\",\"TEAL\",\"GREEN\",\"ORANGE\",\"RED\",\"BROWN\",\"BLACK\"] \n",
    "\n",
    "#Webdriver path\n",
    "DRIVER_PATH = r\"../chromedriver.exe\"\n",
    "\n",
    "#Folder of data resources\n",
    "DATA_RAW_FOLDER = \"../data/raw\"\n",
    "DATA_PROCESSED_FOLDER = \"../data/processed\"\n",
    "DATA_FINAL_FOLDER = \"../data/final\"\n"
   ]
  },
  {
   "cell_type": "markdown",
   "id": "c6b4b2d7",
   "metadata": {},
   "source": [
    "# Webscraping Attributes Extraction (Phase 1)"
   ]
  },
  {
   "cell_type": "code",
   "execution_count": null,
   "id": "b01d8d6d",
   "metadata": {},
   "outputs": [],
   "source": [
    "def webscraping(color:str):\n",
    "    \"\"\"Perform webscraping of Google Art & Culture web page\n",
    "\n",
    "    Parameters\n",
    "    ----------\n",
    "    color : str\n",
    "        the color of target page\n",
    "    \"\"\"\n",
    "    scraper = Scraper(DRIVER_PATH,color)\n",
    "    scraper.open()\n",
    "    data = scraper.scraping_data()\n",
    "    return data\n",
    "    \n",
    "    \n",
    "webscraping_data = parallel(webscraping,COLORS)"
   ]
  },
  {
   "cell_type": "markdown",
   "id": "8dafae20",
   "metadata": {},
   "source": [
    "inspect some data"
   ]
  },
  {
   "cell_type": "code",
   "execution_count": null,
   "id": "61d6b1b1",
   "metadata": {},
   "outputs": [],
   "source": [
    "#Print WHITE collection\n",
    "print(webscraping_data[0][0:2])\n",
    "#Print PINK collection\n",
    "print(webscraping_data[1][0:2])"
   ]
  },
  {
   "cell_type": "markdown",
   "id": "2bd97375",
   "metadata": {},
   "source": [
    "Merge Collections into one"
   ]
  },
  {
   "cell_type": "code",
   "execution_count": null,
   "id": "ddb418e1",
   "metadata": {},
   "outputs": [],
   "source": [
    "flatten_data = [item for sublist in webscraping_data for item in sublist]"
   ]
  },
  {
   "cell_type": "code",
   "execution_count": null,
   "id": "9f79b26d",
   "metadata": {},
   "outputs": [],
   "source": [
    "flatten_data[0:2]"
   ]
  },
  {
   "cell_type": "code",
   "execution_count": null,
   "id": "b279ddb7",
   "metadata": {},
   "outputs": [],
   "source": [
    "df = pd.DataFrame(flatten_data)\n",
    "df['index'] = df.index\n",
    "df.to_csv(f'{DATA_RAW_FOLDER}/pictures_original.csv', index = False)  "
   ]
  },
  {
   "cell_type": "markdown",
   "id": "4c165a07",
   "metadata": {},
   "source": [
    "# Webscraping Image Extraction (Phase 2)"
   ]
  },
  {
   "cell_type": "markdown",
   "id": "5bfa23c6",
   "metadata": {},
   "source": [
    "Get the image_url and the identify key (index)"
   ]
  },
  {
   "cell_type": "code",
   "execution_count": null,
   "id": "2ba0d2f6",
   "metadata": {},
   "outputs": [],
   "source": [
    "   \n",
    "df = pd.read_csv(f'{DATA_RAW_FOLDER}/pictures_original.csv')\n",
    "df = df[['index','url']]   \n",
    "data = list(df.itertuples(index=False, name=None)) # Convert data into tuples"
   ]
  },
  {
   "cell_type": "code",
   "execution_count": null,
   "id": "6b05ead4",
   "metadata": {},
   "outputs": [],
   "source": [
    "data[0:3]"
   ]
  },
  {
   "cell_type": "markdown",
   "id": "2ee4fd86",
   "metadata": {},
   "source": [
    "Apply parallel transformation for download files "
   ]
  },
  {
   "cell_type": "code",
   "execution_count": null,
   "id": "d0652f84",
   "metadata": {},
   "outputs": [],
   "source": [
    "def get_image(data):\n",
    "    id = data[0]\n",
    "    link = data[1]\n",
    "    path = f'{DATA_FINAL_FOLDER}/img/{id}.jpg'\n",
    "    img = requests.get(link).content\n",
    "    with open(path, 'wb') as handler:\n",
    "        handler.write(img)\n",
    "    return (id,f'{id}.jpg')\n",
    "\n",
    "image_files = parallel(get_image,data) \n",
    "print(image_files[0:3])"
   ]
  },
  {
   "cell_type": "markdown",
   "id": "94083c8f",
   "metadata": {},
   "source": [
    "Convert data into df and export it"
   ]
  },
  {
   "cell_type": "code",
   "execution_count": null,
   "id": "52e0e926",
   "metadata": {},
   "outputs": [],
   "source": [
    "df_images = pd.DataFrame(image_files, columns=['index','filename']) #Parse data into df\n",
    "df_images.to_csv(f'{DATA_PROCESSED_FOLDER}/picture_files.csv', index = False)  # Export"
   ]
  },
  {
   "cell_type": "markdown",
   "id": "8b28a573",
   "metadata": {},
   "source": [
    "# Transform\n",
    "\n",
    "* Filtering, cleansing, de-duplicating, validating, and authenticating the data.\n",
    "* Performing calculations, translations, or summarizations based on the raw data. This can  include changing row and column headers for consistency, converting currencies or other units of measurement, editing text strings, and more.\n",
    "* Ensure data quality\n",
    "* Formatting the data into tables or joined tables to match the schema of the target data warehouse."
   ]
  },
  {
   "cell_type": "markdown",
   "id": "7c38cea1",
   "metadata": {},
   "source": [
    "### Check Data integrity"
   ]
  },
  {
   "cell_type": "code",
   "execution_count": null,
   "id": "6953b040",
   "metadata": {},
   "outputs": [],
   "source": [
    "df_original = pd.read_csv(f'{DATA_RAW_FOLDER}/pictures_original.csv')\n",
    "df_images = pd.read_csv(f'{DATA_PROCESSED_FOLDER}/picture_files.csv')\n",
    "df = df_original.merge(df_images, left_on='index', right_on='index')\n",
    "print(df.head())"
   ]
  },
  {
   "cell_type": "code",
   "execution_count": null,
   "id": "948abf0d",
   "metadata": {},
   "outputs": [],
   "source": [
    "print('Final Data Shape:',df.shape)\n",
    "print('Original Data Shape:',df_original.shape)\n",
    "print('Image Files Data Shape:',df_images.shape)"
   ]
  },
  {
   "cell_type": "code",
   "execution_count": null,
   "id": "a88fc930",
   "metadata": {},
   "outputs": [],
   "source": [
    "df.info()"
   ]
  },
  {
   "cell_type": "code",
   "execution_count": null,
   "id": "e56009d4",
   "metadata": {},
   "outputs": [],
   "source": [
    "print('Exist Duplicated:', df['index'].duplicated().any())\n",
    "print('Exist Duplicated:', df['url'].duplicated().any())"
   ]
  },
  {
   "cell_type": "code",
   "execution_count": null,
   "id": "4a267632",
   "metadata": {},
   "outputs": [],
   "source": [
    "df.isnull().sum()"
   ]
  },
  {
   "cell_type": "markdown",
   "id": "88f3f2b9",
   "metadata": {},
   "source": [
    "### Parse data column into a df"
   ]
  },
  {
   "cell_type": "code",
   "execution_count": null,
   "id": "70388d97",
   "metadata": {},
   "outputs": [],
   "source": [
    "\n",
    "data_string = list(df.data.values)\n",
    "data_json = list(map(lambda string_json:json.loads(string_json),data_string))"
   ]
  },
  {
   "cell_type": "code",
   "execution_count": null,
   "id": "8d9eb351",
   "metadata": {},
   "outputs": [],
   "source": [
    "data_df = json_normalize(data_json)\n",
    "data_df.head(3)"
   ]
  },
  {
   "cell_type": "code",
   "execution_count": null,
   "id": "cc17f591",
   "metadata": {},
   "outputs": [],
   "source": [
    "full_df = pd.concat([df,data_df ],axis=1)\n",
    "full_df = full_df.drop(['data'],axis=1)\n",
    "full_df.head(3)"
   ]
  },
  {
   "cell_type": "markdown",
   "id": "e74c067d",
   "metadata": {},
   "source": [
    "Check again data integrity"
   ]
  },
  {
   "cell_type": "code",
   "execution_count": null,
   "id": "d35c92d5",
   "metadata": {},
   "outputs": [],
   "source": [
    "full_df.info()"
   ]
  },
  {
   "cell_type": "markdown",
   "id": "ad476a0f",
   "metadata": {},
   "source": [
    "# Export all information "
   ]
  },
  {
   "cell_type": "code",
   "execution_count": null,
   "id": "3f755953",
   "metadata": {},
   "outputs": [],
   "source": [
    "full_df.to_csv(f'{DATA_PROCESSED_FOLDER}/picture_data.csv', index = False)"
   ]
  }
 ],
 "metadata": {
  "kernelspec": {
   "display_name": "Python 3.10.6 ('google-images')",
   "language": "python",
   "name": "python3"
  },
  "language_info": {
   "codemirror_mode": {
    "name": "ipython",
    "version": 3
   },
   "file_extension": ".py",
   "mimetype": "text/x-python",
   "name": "python",
   "nbconvert_exporter": "python",
   "pygments_lexer": "ipython3",
   "version": "3.10.6"
  },
  "vscode": {
   "interpreter": {
    "hash": "5480b1c7f72c0645ad43d87b0b25907ca8a84187194858c2c4eaf06821ca4f9b"
   }
  }
 },
 "nbformat": 4,
 "nbformat_minor": 5
}
