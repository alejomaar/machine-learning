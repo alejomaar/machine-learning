{
 "cells": [
  {
   "cell_type": "markdown",
   "id": "451dace1",
   "metadata": {},
   "source": [
    "# Google Art & Culture - Case study using CRISPS-DM\n",
    "\n",
    "#### Autors: Manuel Alejandro Aponte, Cristian Beltran, Maria Paula Peña\n",
    "\n",
    "In this notebook it will webscraping of the page Google Art & Culture\n",
    "\n",
    "## Objectives\n",
    "The objective of this notebooks is:\n",
    "\n",
    "* Download images using webscraping.\n",
    "* Download images metadata.\n",
    "* Store all information in a datasheet.\n",
    "\n",
    "## Prerequisites\n",
    "\n",
    "* Familiarity with python \n",
    "* Lastest version of Google WebDriver, Source: https://chromedriver.chromium.org/\n",
    "* Install python packages.\n",
    "* Use VPN (Recomended)\n",
    "\n",
    "## Background \n",
    "This notebook belongs to Google Art & Culture Case Study using CRIPS-DM, where would be include process such as webscraping, exploratory data analysis, ML classificators and dashboards. "
   ]
  },
  {
   "cell_type": "code",
   "execution_count": 22,
   "id": "7ee84796",
   "metadata": {},
   "outputs": [
    {
     "name": "stdout",
     "output_type": "stream",
     "text": [
      "The autoreload extension is already loaded. To reload it, use:\n",
      "  %reload_ext autoreload\n"
     ]
    }
   ],
   "source": [
    "%load_ext autoreload\n",
    "%autoreload 2"
   ]
  },
  {
   "cell_type": "code",
   "execution_count": 3,
   "id": "1b2349cd",
   "metadata": {},
   "outputs": [],
   "source": [
    "#Import project packages\n",
    "from src.Scraper.Scraper import Scraper\n",
    "from src.Parallel.Parallel import parallel\n",
    "from src.paths.paths import PATHS\n",
    "#Import packages\n",
    "import pandas as pd\n",
    "import numpy as np\n",
    "import requests\n",
    "from pandas.io.json import json_normalize\n",
    "import json"
   ]
  },
  {
   "cell_type": "markdown",
   "id": "e9384b0f",
   "metadata": {},
   "source": [
    "# Global Settings"
   ]
  },
  {
   "cell_type": "code",
   "execution_count": 5,
   "id": "d937e88e",
   "metadata": {},
   "outputs": [],
   "source": [
    "#Colors of sections to be webscraped\n",
    "COLORS = [\"WHITE\",\"PINK\",\"YELLOW\",\"PURPLE\",\"BLUE\",\"TEAL\",\"GREEN\",\"ORANGE\",\"RED\",\"BROWN\",\"BLACK\"] \n",
    "\n",
    "#Webdriver path\n",
    "DRIVER_PATH = r\"../chromedriver.exe\"\n",
    "\n",
    "#Folder of data resources\n",
    "DATA_RAW_FOLDER = PATHS['data_raw']\n",
    "DATA_PROCESSED_FOLDER = PATHS['data_processed']\n",
    "DATA_FINAL_FOLDER = PATHS['data_final']\n"
   ]
  },
  {
   "cell_type": "markdown",
   "id": "c6b4b2d7",
   "metadata": {},
   "source": [
    "# Webscraping Attributes Extraction (Phase 1)"
   ]
  },
  {
   "cell_type": "code",
   "execution_count": 25,
   "id": "b01d8d6d",
   "metadata": {},
   "outputs": [
    {
     "name": "stdout",
     "output_type": "stream",
     "text": [
      "Running\n"
     ]
    }
   ],
   "source": [
    "def webscraping(color:str):\n",
    "    \"\"\"Perform webscraping of Google Art & Culture web page\n",
    "\n",
    "    Parameters\n",
    "    ----------\n",
    "    color : str\n",
    "        the color of target page\n",
    "    \"\"\"\n",
    "    scraper = Scraper(DRIVER_PATH,color)\n",
    "    scraper.open()\n",
    "    data = scraper.scraping_data()\n",
    "    return data\n",
    "    \n",
    "    \n",
    "webscraping_data = parallel(webscraping,COLORS)"
   ]
  },
  {
   "cell_type": "markdown",
   "id": "8dafae20",
   "metadata": {},
   "source": [
    "inspect some data"
   ]
  },
  {
   "cell_type": "code",
   "execution_count": 26,
   "id": "61d6b1b1",
   "metadata": {},
   "outputs": [
    {
     "name": "stdout",
     "output_type": "stream",
     "text": [
      "[{'url': 'https://lh3.googleusercontent.com/ci/AC_FhM8vjjpeTbkrTcxxGq8UFhR9du2a5U9RyRnFs2tI13Cy6WehwovfoyrAfWvLbpwI52I69j3TG4A=w313-c-h313-fcrop64=1,00000d37ffff8ce4-rw-v1', 'data': '{\"Title\":\" Symphony in White, No. 1 The White Girl\",\"Creator\":\" James McNeill Whistler\",\"Date Created\":\" 1862\",\"External Link\":\"  For more information about this and thousands of other works of art in the NGA collection, please visit\\xa0http//www.nga.gov/\",\"Medium\":\" oil on canvas\",\"Object Credit\":\" Harris Whittemore Collection\",\"Dimensions\":\" overall 213 x 107.9 cm (83 7/8 x 42 1/2 in.)\\\\u000b\\\\u000bframed 244.2 x 136.5 x 8.3 cm (96 1/8 x 53 3/4 x 3 1/4 in.)\",\"Classification\":\" Painting\",\"Artist School\":\" American\",\"Artist Nationality\":\" American\",\"Artist Details\":\" American, 1834 - 1903\",\"museum\":\"National Gallery of Art, Washington DC\",\"location\":\"Washington, DC, United States\"}', 'category': 'WHITE'}, {'url': 'https://lh3.googleusercontent.com/ci/AC_FhM9fS_Widg084SOpVx3jOe9fAldy6MDwA3K4mhLVE-0fLp0cY8J3JokQp6zdXXpGKOfGuZQrfw=w313-c-h313-fcrop64=1,2cb40000d34affff-rw-v1', 'data': '{\"Title\":\" Summer evening on Skagen Sønderstrand\",\"Creator\":\" Peder Severin Krøyer\",\"Date Created\":\" 1893\",\"Physical Dimensions\":\" 100 × 150 cm\",\"Painter\":\" P.S. Krøyer\",\"Original title\":\" Sommeraften på Skagen Sønderstrand\",\"German title\":\" Sommerabend am Skagener Südstrand. Anna Ancher und Marie Krøyer beim Spaziergang\",\"Type\":\" Oil on canvas\",\"Rights\":\" Skagens Museum,  Skagens Museum\",\"Depicted Location\":\" Skagen Sønderstrand, Skagen, Denmark\",\"Depicted Person\":\" Anna Ancher,  Marie Krøyer\",\"museum\":\"Skagens Museum\",\"location\":\"Skagen, Denmark\"}', 'category': 'WHITE'}]\n",
      "[{'url': 'https://lh3.googleusercontent.com/ci/AC_FhM-za8UoAr0YcSaA5cVw5UOQMmophZFIRlyhM5AlXQcYKeXYE4JlwntapaF2PmJgdSWwgIbn2xc=w313-c-h313-fcrop64=1,220e0000ddf0ffff-rw-v1', 'data': '{\"Title\":\" Free and Leisure-10\",\"Creator\":\" Yue Minjun\",\"Date\":\" 2003\",\"Physical Dimensions\":\" h200 x w300cm\",\"Provenance\":\" Todat Art Museum\",\"Type\":\" Oil on canvas\",\"Physical Format\":\" h220 x w300cm\",\"Creator Nationality\":\" Chinese\",\"museum\":\"Today Art Museum\",\"location\":\"Beijing, China\"}', 'category': 'PINK'}, {'url': 'https://lh3.googleusercontent.com/ci/AC_FhM-tcsmD2kOkvgu1mmUAD5Dmy-BuKM27-XIk2hNmF_jVLtVUAaEEINGT86XFiehMyNox1ILwRgQ=w313-c-h313-fcrop64=1,00002d28ffffffff-rw-v1', 'data': '{\"Title\":\" Le Chahut\",\"Creator\":\" Georges Seurat\",\"Date Created\":\" 1889/1890\",\"Physical Dimensions\":\" w1410 x h1700 mm (without frame)\",\"Type\":\" painting\",\"External Link\":\"  Kröller-Müller Museum\",\"Medium\":\" oil on canvas.\",\"museum\":\"The Kröller-Müller Museum\",\"location\":\"Otterlo, Netherlands\"}', 'category': 'PINK'}]\n"
     ]
    }
   ],
   "source": [
    "#Print WHITE collection\n",
    "print(webscraping_data[0][0:2])\n",
    "#Print PINK collection\n",
    "print(webscraping_data[1][0:2])"
   ]
  },
  {
   "cell_type": "markdown",
   "id": "2bd97375",
   "metadata": {},
   "source": [
    "Merge Collections into one"
   ]
  },
  {
   "cell_type": "code",
   "execution_count": 27,
   "id": "ddb418e1",
   "metadata": {},
   "outputs": [],
   "source": [
    "flatten_data = [item for sublist in webscraping_data for item in sublist]"
   ]
  },
  {
   "cell_type": "code",
   "execution_count": 28,
   "id": "9f79b26d",
   "metadata": {},
   "outputs": [
    {
     "data": {
      "text/plain": [
       "[{'url': 'https://lh3.googleusercontent.com/ci/AC_FhM8vjjpeTbkrTcxxGq8UFhR9du2a5U9RyRnFs2tI13Cy6WehwovfoyrAfWvLbpwI52I69j3TG4A=w313-c-h313-fcrop64=1,00000d37ffff8ce4-rw-v1',\n",
       "  'data': '{\"Title\":\" Symphony in White, No. 1 The White Girl\",\"Creator\":\" James McNeill Whistler\",\"Date Created\":\" 1862\",\"External Link\":\"  For more information about this and thousands of other works of art in the NGA collection, please visit\\xa0http//www.nga.gov/\",\"Medium\":\" oil on canvas\",\"Object Credit\":\" Harris Whittemore Collection\",\"Dimensions\":\" overall 213 x 107.9 cm (83 7/8 x 42 1/2 in.)\\\\u000b\\\\u000bframed 244.2 x 136.5 x 8.3 cm (96 1/8 x 53 3/4 x 3 1/4 in.)\",\"Classification\":\" Painting\",\"Artist School\":\" American\",\"Artist Nationality\":\" American\",\"Artist Details\":\" American, 1834 - 1903\",\"museum\":\"National Gallery of Art, Washington DC\",\"location\":\"Washington, DC, United States\"}',\n",
       "  'category': 'WHITE'},\n",
       " {'url': 'https://lh3.googleusercontent.com/ci/AC_FhM9fS_Widg084SOpVx3jOe9fAldy6MDwA3K4mhLVE-0fLp0cY8J3JokQp6zdXXpGKOfGuZQrfw=w313-c-h313-fcrop64=1,2cb40000d34affff-rw-v1',\n",
       "  'data': '{\"Title\":\" Summer evening on Skagen Sønderstrand\",\"Creator\":\" Peder Severin Krøyer\",\"Date Created\":\" 1893\",\"Physical Dimensions\":\" 100 × 150 cm\",\"Painter\":\" P.S. Krøyer\",\"Original title\":\" Sommeraften på Skagen Sønderstrand\",\"German title\":\" Sommerabend am Skagener Südstrand. Anna Ancher und Marie Krøyer beim Spaziergang\",\"Type\":\" Oil on canvas\",\"Rights\":\" Skagens Museum,  Skagens Museum\",\"Depicted Location\":\" Skagen Sønderstrand, Skagen, Denmark\",\"Depicted Person\":\" Anna Ancher,  Marie Krøyer\",\"museum\":\"Skagens Museum\",\"location\":\"Skagen, Denmark\"}',\n",
       "  'category': 'WHITE'}]"
      ]
     },
     "execution_count": 28,
     "metadata": {},
     "output_type": "execute_result"
    }
   ],
   "source": [
    "flatten_data[0:2]"
   ]
  },
  {
   "cell_type": "code",
   "execution_count": 29,
   "id": "b279ddb7",
   "metadata": {},
   "outputs": [],
   "source": [
    "df = pd.DataFrame(flatten_data)\n",
    "df['index'] = df.index\n",
    "df.to_csv(f'{DATA_RAW_FOLDER}/pictures_original.csv', index = False)  "
   ]
  },
  {
   "cell_type": "code",
   "execution_count": 30,
   "id": "13d00d89",
   "metadata": {},
   "outputs": [
    {
     "name": "stdout",
     "output_type": "stream",
     "text": [
      "There are 11077 extracted pictures\n"
     ]
    }
   ],
   "source": [
    "num = len(df)\n",
    "print(f'There are {num} extracted pictures')"
   ]
  },
  {
   "cell_type": "markdown",
   "id": "4c165a07",
   "metadata": {},
   "source": [
    "# Webscraping Image Extraction (Phase 2)"
   ]
  },
  {
   "cell_type": "markdown",
   "id": "5bfa23c6",
   "metadata": {},
   "source": [
    "Get the image_url and the identify key (index)"
   ]
  },
  {
   "cell_type": "code",
   "execution_count": 6,
   "id": "2ba0d2f6",
   "metadata": {},
   "outputs": [],
   "source": [
    "   \n",
    "df = pd.read_csv(f'{DATA_RAW_FOLDER}/pictures_original.csv')\n",
    "df = df[['index','url']]   \n",
    "data = list(df.itertuples(index=False, name=None)) # Convert data into tuples"
   ]
  },
  {
   "cell_type": "markdown",
   "id": "2ee4fd86",
   "metadata": {},
   "source": [
    "Apply parallel transformation for download files "
   ]
  },
  {
   "cell_type": "code",
   "execution_count": 7,
   "id": "d0652f84",
   "metadata": {},
   "outputs": [
    {
     "name": "stdout",
     "output_type": "stream",
     "text": [
      "Running\n",
      "[(0, '0.jpg'), (1, '1.jpg'), (2, '2.jpg')]\n"
     ]
    }
   ],
   "source": [
    "def get_image(data):\n",
    "    id = data[0]\n",
    "    link = data[1]\n",
    "    path = f'{DATA_FINAL_FOLDER}/img/{id}.jpg'\n",
    "    img = requests.get(link).content\n",
    "    with open(path, 'wb') as handler:\n",
    "        handler.write(img)\n",
    "    return (id,f'{id}.jpg')\n",
    "\n",
    "image_files = parallel(get_image,data) \n",
    "print(image_files[0:3])"
   ]
  },
  {
   "cell_type": "markdown",
   "id": "94083c8f",
   "metadata": {},
   "source": [
    "Convert data into df and export it"
   ]
  },
  {
   "cell_type": "code",
   "execution_count": 8,
   "id": "52e0e926",
   "metadata": {},
   "outputs": [],
   "source": [
    "df_images = pd.DataFrame(image_files, columns=['index','filename']) #Parse data into df\n",
    "df_images.to_csv(f'{DATA_PROCESSED_FOLDER}/picture_files.csv', index = False)  # Export"
   ]
  },
  {
   "cell_type": "markdown",
   "id": "8b28a573",
   "metadata": {},
   "source": [
    "# Transform\n",
    "\n",
    "* Filtering, cleansing, de-duplicating, validating, and authenticating the data.\n",
    "* Performing calculations, translations, or summarizations based on the raw data. This can  include changing row and column headers for consistency, converting currencies or other units of measurement, editing text strings, and more.\n",
    "* Ensure data quality\n",
    "* Formatting the data into tables or joined tables to match the schema of the target data warehouse."
   ]
  },
  {
   "cell_type": "markdown",
   "id": "7c38cea1",
   "metadata": {},
   "source": [
    "### Check Data integrity"
   ]
  },
  {
   "cell_type": "code",
   "execution_count": 9,
   "id": "6953b040",
   "metadata": {},
   "outputs": [
    {
     "name": "stdout",
     "output_type": "stream",
     "text": [
      "                                                 url  \\\n",
      "0  https://lh3.googleusercontent.com/ci/AC_FhM8vj...   \n",
      "1  https://lh3.googleusercontent.com/ci/AC_FhM9fS...   \n",
      "2  https://lh3.googleusercontent.com/ci/AC_FhM8fh...   \n",
      "3  https://lh3.googleusercontent.com/ci/AC_FhM9VK...   \n",
      "4  https://lh3.googleusercontent.com/ci/AC_FhM9KL...   \n",
      "\n",
      "                                                data category  index filename  \n",
      "0  {\"Title\":\" Symphony in White, No. 1 The White ...    WHITE      0    0.jpg  \n",
      "1  {\"Title\":\" Summer evening on Skagen Sønderstra...    WHITE      1    1.jpg  \n",
      "2  {\"Title\":\" Composition with red, yellow and bl...    WHITE      2    2.jpg  \n",
      "3  {\"Title\":\" The Magpie\",\"Date Created\":\" 1868 -...    WHITE      3    3.jpg  \n",
      "4  {\"Title\":\" The Cradle\",\"Date Created\":\" 1872\",...    WHITE      4    4.jpg  \n"
     ]
    }
   ],
   "source": [
    "df_original = pd.read_csv(f'{DATA_RAW_FOLDER}/pictures_original.csv')\n",
    "df_images = pd.read_csv(f'{DATA_PROCESSED_FOLDER}/picture_files.csv')\n",
    "df = df_original.merge(df_images, left_on='index', right_on='index')\n",
    "print(df.head())"
   ]
  },
  {
   "cell_type": "code",
   "execution_count": 10,
   "id": "948abf0d",
   "metadata": {},
   "outputs": [
    {
     "name": "stdout",
     "output_type": "stream",
     "text": [
      "Final Data Shape: (11077, 5)\n",
      "Original Data Shape: (11077, 4)\n",
      "Image Files Data Shape: (11077, 2)\n"
     ]
    }
   ],
   "source": [
    "print('Final Data Shape:',df.shape)\n",
    "print('Original Data Shape:',df_original.shape)\n",
    "print('Image Files Data Shape:',df_images.shape)"
   ]
  },
  {
   "cell_type": "code",
   "execution_count": null,
   "id": "a88fc930",
   "metadata": {},
   "outputs": [],
   "source": [
    "df.info()"
   ]
  },
  {
   "cell_type": "code",
   "execution_count": 11,
   "id": "e56009d4",
   "metadata": {},
   "outputs": [
    {
     "name": "stdout",
     "output_type": "stream",
     "text": [
      "Exist Duplicated: False\n",
      "Exist Duplicated: False\n"
     ]
    }
   ],
   "source": [
    "print('Exist Duplicated:', df['index'].duplicated().any())\n",
    "print('Exist Duplicated:', df['url'].duplicated().any())"
   ]
  },
  {
   "cell_type": "code",
   "execution_count": 12,
   "id": "4a267632",
   "metadata": {},
   "outputs": [
    {
     "data": {
      "text/plain": [
       "url         0\n",
       "data        0\n",
       "category    0\n",
       "index       0\n",
       "filename    0\n",
       "dtype: int64"
      ]
     },
     "execution_count": 12,
     "metadata": {},
     "output_type": "execute_result"
    }
   ],
   "source": [
    "df.isnull().sum()"
   ]
  },
  {
   "cell_type": "markdown",
   "id": "88f3f2b9",
   "metadata": {},
   "source": [
    "### Parse data column into a df"
   ]
  },
  {
   "cell_type": "code",
   "execution_count": 13,
   "id": "70388d97",
   "metadata": {},
   "outputs": [],
   "source": [
    "\n",
    "data_string = list(df.data.values)\n",
    "data_json = list(map(lambda string_json:json.loads(string_json),data_string))"
   ]
  },
  {
   "cell_type": "code",
   "execution_count": 15,
   "id": "8d9eb351",
   "metadata": {},
   "outputs": [
    {
     "name": "stderr",
     "output_type": "stream",
     "text": [
      "C:\\Users\\user\\AppData\\Local\\Temp\\ipykernel_16880\\3295387368.py:1: FutureWarning: pandas.io.json.json_normalize is deprecated, use pandas.json_normalize instead.\n",
      "  data_df = json_normalize(data_json)\n"
     ]
    },
    {
     "data": {
      "text/html": [
       "<div>\n",
       "<style scoped>\n",
       "    .dataframe tbody tr th:only-of-type {\n",
       "        vertical-align: middle;\n",
       "    }\n",
       "\n",
       "    .dataframe tbody tr th {\n",
       "        vertical-align: top;\n",
       "    }\n",
       "\n",
       "    .dataframe thead th {\n",
       "        text-align: right;\n",
       "    }\n",
       "</style>\n",
       "<table border=\"1\" class=\"dataframe\">\n",
       "  <thead>\n",
       "    <tr style=\"text-align: right;\">\n",
       "      <th></th>\n",
       "      <th>Title</th>\n",
       "      <th>Creator</th>\n",
       "      <th>Date Created</th>\n",
       "      <th>External Link</th>\n",
       "      <th>Medium</th>\n",
       "      <th>Object Credit</th>\n",
       "      <th>Dimensions</th>\n",
       "      <th>Classification</th>\n",
       "      <th>Artist School</th>\n",
       "      <th>Artist Nationality</th>\n",
       "      <th>...</th>\n",
       "      <th>National Museum of Women in the Arts’ Exhibition</th>\n",
       "      <th>Permanent exhibition</th>\n",
       "      <th>Additional Artist Details</th>\n",
       "      <th>Artist Death Place</th>\n",
       "      <th>Commission</th>\n",
       "      <th>Additional Artist Name</th>\n",
       "      <th>Provenance Link</th>\n",
       "      <th>Frame</th>\n",
       "      <th>Original Title (portuguese)</th>\n",
       "      <th>Material(s) / Technique(s)</th>\n",
       "    </tr>\n",
       "  </thead>\n",
       "  <tbody>\n",
       "    <tr>\n",
       "      <th>0</th>\n",
       "      <td>Symphony in White, No. 1 The White Girl</td>\n",
       "      <td>James McNeill Whistler</td>\n",
       "      <td>1862</td>\n",
       "      <td>For more information about this and thousand...</td>\n",
       "      <td>oil on canvas</td>\n",
       "      <td>Harris Whittemore Collection</td>\n",
       "      <td>overall 213 x 107.9 cm (83 7/8 x 42 1/2 in.)\u000b...</td>\n",
       "      <td>Painting</td>\n",
       "      <td>American</td>\n",
       "      <td>American</td>\n",
       "      <td>...</td>\n",
       "      <td>NaN</td>\n",
       "      <td>NaN</td>\n",
       "      <td>NaN</td>\n",
       "      <td>NaN</td>\n",
       "      <td>NaN</td>\n",
       "      <td>NaN</td>\n",
       "      <td>NaN</td>\n",
       "      <td>NaN</td>\n",
       "      <td>NaN</td>\n",
       "      <td>NaN</td>\n",
       "    </tr>\n",
       "    <tr>\n",
       "      <th>1</th>\n",
       "      <td>Summer evening on Skagen Sønderstrand</td>\n",
       "      <td>Peder Severin Krøyer</td>\n",
       "      <td>1893</td>\n",
       "      <td>NaN</td>\n",
       "      <td>NaN</td>\n",
       "      <td>NaN</td>\n",
       "      <td>NaN</td>\n",
       "      <td>NaN</td>\n",
       "      <td>NaN</td>\n",
       "      <td>NaN</td>\n",
       "      <td>...</td>\n",
       "      <td>NaN</td>\n",
       "      <td>NaN</td>\n",
       "      <td>NaN</td>\n",
       "      <td>NaN</td>\n",
       "      <td>NaN</td>\n",
       "      <td>NaN</td>\n",
       "      <td>NaN</td>\n",
       "      <td>NaN</td>\n",
       "      <td>NaN</td>\n",
       "      <td>NaN</td>\n",
       "    </tr>\n",
       "    <tr>\n",
       "      <th>2</th>\n",
       "      <td>Composition with red, yellow and blue</td>\n",
       "      <td>Piet Mondriaan</td>\n",
       "      <td>1927</td>\n",
       "      <td>Collection searcher</td>\n",
       "      <td>Oil on canvas</td>\n",
       "      <td>NaN</td>\n",
       "      <td>NaN</td>\n",
       "      <td>NaN</td>\n",
       "      <td>NaN</td>\n",
       "      <td>NaN</td>\n",
       "      <td>...</td>\n",
       "      <td>NaN</td>\n",
       "      <td>NaN</td>\n",
       "      <td>NaN</td>\n",
       "      <td>NaN</td>\n",
       "      <td>NaN</td>\n",
       "      <td>NaN</td>\n",
       "      <td>NaN</td>\n",
       "      <td>NaN</td>\n",
       "      <td>NaN</td>\n",
       "      <td>NaN</td>\n",
       "    </tr>\n",
       "  </tbody>\n",
       "</table>\n",
       "<p>3 rows × 514 columns</p>\n",
       "</div>"
      ],
      "text/plain": [
       "                                      Title                  Creator  \\\n",
       "0   Symphony in White, No. 1 The White Girl   James McNeill Whistler   \n",
       "1     Summer evening on Skagen Sønderstrand     Peder Severin Krøyer   \n",
       "2     Composition with red, yellow and blue           Piet Mondriaan   \n",
       "\n",
       "  Date Created                                      External Link  \\\n",
       "0         1862    For more information about this and thousand...   \n",
       "1         1893                                                NaN   \n",
       "2         1927                                Collection searcher   \n",
       "\n",
       "           Medium                  Object Credit  \\\n",
       "0   oil on canvas   Harris Whittemore Collection   \n",
       "1             NaN                            NaN   \n",
       "2   Oil on canvas                            NaN   \n",
       "\n",
       "                                          Dimensions Classification  \\\n",
       "0   overall 213 x 107.9 cm (83 7/8 x 42 1/2 in.)\n",
       "...       Painting   \n",
       "1                                                NaN            NaN   \n",
       "2                                                NaN            NaN   \n",
       "\n",
       "  Artist School Artist Nationality  ...  \\\n",
       "0      American           American  ...   \n",
       "1           NaN                NaN  ...   \n",
       "2           NaN                NaN  ...   \n",
       "\n",
       "  National Museum of Women in the Arts’ Exhibition Permanent exhibition  \\\n",
       "0                                              NaN                  NaN   \n",
       "1                                              NaN                  NaN   \n",
       "2                                              NaN                  NaN   \n",
       "\n",
       "  Additional Artist Details Artist Death Place Commission  \\\n",
       "0                       NaN                NaN        NaN   \n",
       "1                       NaN                NaN        NaN   \n",
       "2                       NaN                NaN        NaN   \n",
       "\n",
       "  Additional Artist Name Provenance Link Frame Original Title (portuguese)  \\\n",
       "0                    NaN             NaN   NaN                         NaN   \n",
       "1                    NaN             NaN   NaN                         NaN   \n",
       "2                    NaN             NaN   NaN                         NaN   \n",
       "\n",
       "  Material(s) / Technique(s)  \n",
       "0                        NaN  \n",
       "1                        NaN  \n",
       "2                        NaN  \n",
       "\n",
       "[3 rows x 514 columns]"
      ]
     },
     "execution_count": 15,
     "metadata": {},
     "output_type": "execute_result"
    }
   ],
   "source": [
    "data_df = json_normalize(data_json)\n",
    "data_df.head(3)"
   ]
  },
  {
   "cell_type": "code",
   "execution_count": 16,
   "id": "cc17f591",
   "metadata": {},
   "outputs": [
    {
     "data": {
      "text/html": [
       "<div>\n",
       "<style scoped>\n",
       "    .dataframe tbody tr th:only-of-type {\n",
       "        vertical-align: middle;\n",
       "    }\n",
       "\n",
       "    .dataframe tbody tr th {\n",
       "        vertical-align: top;\n",
       "    }\n",
       "\n",
       "    .dataframe thead th {\n",
       "        text-align: right;\n",
       "    }\n",
       "</style>\n",
       "<table border=\"1\" class=\"dataframe\">\n",
       "  <thead>\n",
       "    <tr style=\"text-align: right;\">\n",
       "      <th></th>\n",
       "      <th>url</th>\n",
       "      <th>category</th>\n",
       "      <th>index</th>\n",
       "      <th>filename</th>\n",
       "      <th>Title</th>\n",
       "      <th>Creator</th>\n",
       "      <th>Date Created</th>\n",
       "      <th>External Link</th>\n",
       "      <th>Medium</th>\n",
       "      <th>Object Credit</th>\n",
       "      <th>...</th>\n",
       "      <th>National Museum of Women in the Arts’ Exhibition</th>\n",
       "      <th>Permanent exhibition</th>\n",
       "      <th>Additional Artist Details</th>\n",
       "      <th>Artist Death Place</th>\n",
       "      <th>Commission</th>\n",
       "      <th>Additional Artist Name</th>\n",
       "      <th>Provenance Link</th>\n",
       "      <th>Frame</th>\n",
       "      <th>Original Title (portuguese)</th>\n",
       "      <th>Material(s) / Technique(s)</th>\n",
       "    </tr>\n",
       "  </thead>\n",
       "  <tbody>\n",
       "    <tr>\n",
       "      <th>0</th>\n",
       "      <td>https://lh3.googleusercontent.com/ci/AC_FhM8vj...</td>\n",
       "      <td>WHITE</td>\n",
       "      <td>0</td>\n",
       "      <td>0.jpg</td>\n",
       "      <td>Symphony in White, No. 1 The White Girl</td>\n",
       "      <td>James McNeill Whistler</td>\n",
       "      <td>1862</td>\n",
       "      <td>For more information about this and thousand...</td>\n",
       "      <td>oil on canvas</td>\n",
       "      <td>Harris Whittemore Collection</td>\n",
       "      <td>...</td>\n",
       "      <td>NaN</td>\n",
       "      <td>NaN</td>\n",
       "      <td>NaN</td>\n",
       "      <td>NaN</td>\n",
       "      <td>NaN</td>\n",
       "      <td>NaN</td>\n",
       "      <td>NaN</td>\n",
       "      <td>NaN</td>\n",
       "      <td>NaN</td>\n",
       "      <td>NaN</td>\n",
       "    </tr>\n",
       "    <tr>\n",
       "      <th>1</th>\n",
       "      <td>https://lh3.googleusercontent.com/ci/AC_FhM9fS...</td>\n",
       "      <td>WHITE</td>\n",
       "      <td>1</td>\n",
       "      <td>1.jpg</td>\n",
       "      <td>Summer evening on Skagen Sønderstrand</td>\n",
       "      <td>Peder Severin Krøyer</td>\n",
       "      <td>1893</td>\n",
       "      <td>NaN</td>\n",
       "      <td>NaN</td>\n",
       "      <td>NaN</td>\n",
       "      <td>...</td>\n",
       "      <td>NaN</td>\n",
       "      <td>NaN</td>\n",
       "      <td>NaN</td>\n",
       "      <td>NaN</td>\n",
       "      <td>NaN</td>\n",
       "      <td>NaN</td>\n",
       "      <td>NaN</td>\n",
       "      <td>NaN</td>\n",
       "      <td>NaN</td>\n",
       "      <td>NaN</td>\n",
       "    </tr>\n",
       "    <tr>\n",
       "      <th>2</th>\n",
       "      <td>https://lh3.googleusercontent.com/ci/AC_FhM8fh...</td>\n",
       "      <td>WHITE</td>\n",
       "      <td>2</td>\n",
       "      <td>2.jpg</td>\n",
       "      <td>Composition with red, yellow and blue</td>\n",
       "      <td>Piet Mondriaan</td>\n",
       "      <td>1927</td>\n",
       "      <td>Collection searcher</td>\n",
       "      <td>Oil on canvas</td>\n",
       "      <td>NaN</td>\n",
       "      <td>...</td>\n",
       "      <td>NaN</td>\n",
       "      <td>NaN</td>\n",
       "      <td>NaN</td>\n",
       "      <td>NaN</td>\n",
       "      <td>NaN</td>\n",
       "      <td>NaN</td>\n",
       "      <td>NaN</td>\n",
       "      <td>NaN</td>\n",
       "      <td>NaN</td>\n",
       "      <td>NaN</td>\n",
       "    </tr>\n",
       "  </tbody>\n",
       "</table>\n",
       "<p>3 rows × 518 columns</p>\n",
       "</div>"
      ],
      "text/plain": [
       "                                                 url category  index filename  \\\n",
       "0  https://lh3.googleusercontent.com/ci/AC_FhM8vj...    WHITE      0    0.jpg   \n",
       "1  https://lh3.googleusercontent.com/ci/AC_FhM9fS...    WHITE      1    1.jpg   \n",
       "2  https://lh3.googleusercontent.com/ci/AC_FhM8fh...    WHITE      2    2.jpg   \n",
       "\n",
       "                                      Title                  Creator  \\\n",
       "0   Symphony in White, No. 1 The White Girl   James McNeill Whistler   \n",
       "1     Summer evening on Skagen Sønderstrand     Peder Severin Krøyer   \n",
       "2     Composition with red, yellow and blue           Piet Mondriaan   \n",
       "\n",
       "  Date Created                                      External Link  \\\n",
       "0         1862    For more information about this and thousand...   \n",
       "1         1893                                                NaN   \n",
       "2         1927                                Collection searcher   \n",
       "\n",
       "           Medium                  Object Credit  ...  \\\n",
       "0   oil on canvas   Harris Whittemore Collection  ...   \n",
       "1             NaN                            NaN  ...   \n",
       "2   Oil on canvas                            NaN  ...   \n",
       "\n",
       "  National Museum of Women in the Arts’ Exhibition Permanent exhibition  \\\n",
       "0                                              NaN                  NaN   \n",
       "1                                              NaN                  NaN   \n",
       "2                                              NaN                  NaN   \n",
       "\n",
       "  Additional Artist Details Artist Death Place Commission  \\\n",
       "0                       NaN                NaN        NaN   \n",
       "1                       NaN                NaN        NaN   \n",
       "2                       NaN                NaN        NaN   \n",
       "\n",
       "  Additional Artist Name Provenance Link Frame Original Title (portuguese)  \\\n",
       "0                    NaN             NaN   NaN                         NaN   \n",
       "1                    NaN             NaN   NaN                         NaN   \n",
       "2                    NaN             NaN   NaN                         NaN   \n",
       "\n",
       "  Material(s) / Technique(s)  \n",
       "0                        NaN  \n",
       "1                        NaN  \n",
       "2                        NaN  \n",
       "\n",
       "[3 rows x 518 columns]"
      ]
     },
     "execution_count": 16,
     "metadata": {},
     "output_type": "execute_result"
    }
   ],
   "source": [
    "full_df = pd.concat([df,data_df ],axis=1)\n",
    "full_df = full_df.drop(['data'],axis=1)\n",
    "full_df.head(3)"
   ]
  },
  {
   "cell_type": "markdown",
   "id": "e74c067d",
   "metadata": {},
   "source": [
    "Check again data integrity"
   ]
  },
  {
   "cell_type": "code",
   "execution_count": 17,
   "id": "d35c92d5",
   "metadata": {},
   "outputs": [
    {
     "name": "stdout",
     "output_type": "stream",
     "text": [
      "<class 'pandas.core.frame.DataFrame'>\n",
      "Int64Index: 11077 entries, 0 to 11076\n",
      "Columns: 518 entries, url to Material(s) / Technique(s)\n",
      "dtypes: int64(1), object(517)\n",
      "memory usage: 43.9+ MB\n"
     ]
    }
   ],
   "source": [
    "full_df.info()"
   ]
  },
  {
   "cell_type": "markdown",
   "id": "ad476a0f",
   "metadata": {},
   "source": [
    "# Export all information "
   ]
  },
  {
   "cell_type": "code",
   "execution_count": 18,
   "id": "3f755953",
   "metadata": {},
   "outputs": [],
   "source": [
    "full_df.to_csv(f'{DATA_PROCESSED_FOLDER}/picture_data.csv', index = False)"
   ]
  }
 ],
 "metadata": {
  "kernelspec": {
   "display_name": "Python 3.10.6 ('google-images')",
   "language": "python",
   "name": "python3"
  },
  "language_info": {
   "codemirror_mode": {
    "name": "ipython",
    "version": 3
   },
   "file_extension": ".py",
   "mimetype": "text/x-python",
   "name": "python",
   "nbconvert_exporter": "python",
   "pygments_lexer": "ipython3",
   "version": "3.10.6"
  },
  "vscode": {
   "interpreter": {
    "hash": "5480b1c7f72c0645ad43d87b0b25907ca8a84187194858c2c4eaf06821ca4f9b"
   }
  }
 },
 "nbformat": 4,
 "nbformat_minor": 5
}
