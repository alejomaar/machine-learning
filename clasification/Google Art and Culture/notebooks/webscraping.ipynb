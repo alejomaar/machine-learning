{
 "cells": [
  {
   "cell_type": "markdown",
   "id": "451dace1",
   "metadata": {},
   "source": [
    "# Google Art & Culture - Case study using CRISPS-DM\n",
    "\n",
    "#### Autors: Manuel Alejandro Aponte, Cristian Beltran, Maria Paula Peña\n",
    "\n",
    "In this notebook it will webscraping of the page Google Art & Culture\n",
    "\n",
    "## Objectives\n",
    "The objective of this notebooks is:\n",
    "\n",
    "* Download images using webscraping.\n",
    "* Download images metadata.\n",
    "* Store all information in a datasheet.\n",
    "\n",
    "## Prerequisites\n",
    "\n",
    "* Familiarity with python \n",
    "* Lastest version of Google WebDriver, Source: https://chromedriver.chromium.org/\n",
    "* Install python packages.\n",
    "* Use VPN (Recomended)\n",
    "\n",
    "## Background \n",
    "This notebook belongs to Google Art & Culture Case Study using CRIPS-DM, where would be include process such as webscraping, exploratory data analysis, ML classificators and dashboards. "
   ]
  },
  {
   "cell_type": "code",
   "execution_count": null,
   "id": "1b2349cd",
   "metadata": {},
   "outputs": [],
   "source": [
    "#Import project packages\n",
    "import sys\n",
    "sys.path.append('../src/')\n",
    "from Scraper import Scraper\n",
    "from Parallel import parallel\n",
    "#Import packages\n",
    "from typing import List\n",
    "import pandas as pd\n",
    "import numpy as np\n",
    "import time\n",
    "from selenium import webdriver\n",
    "from pprint import pprint\n",
    "from concurrent.futures import ThreadPoolExecutor\n",
    "from time import sleep\n",
    "import requests"
   ]
  },
  {
   "cell_type": "markdown",
   "id": "e9384b0f",
   "metadata": {},
   "source": [
    "# Global Settings"
   ]
  },
  {
   "cell_type": "code",
   "execution_count": null,
   "id": "d937e88e",
   "metadata": {},
   "outputs": [],
   "source": [
    "#Colors of sections to be webscraped\n",
    "#COLORS = [\"WHITE\",\"PINK\",\"YELLOW\",\"PURPLE\",\"BLUE\",\"TEAL\",\"GREEN\",\"ORANGE\",\"RED\",\"BROWN\",\"BLACK\"] \n",
    "COLORS = [\"WHITE\",\"PINK\",\"YELLOW\"] \n",
    "DRIVER_PATH = r\"../chromedriver.exe\"\n",
    "DATA_RAW_FOLDER = \"../data/raw\"\n",
    "DATA_PROCESSED_FOLDER = \"../data/processed\"\n",
    "DATA_FINAL_FOLDER = \"../data/final\"\n"
   ]
  },
  {
   "cell_type": "markdown",
   "id": "c6b4b2d7",
   "metadata": {},
   "source": [
    "# Webscraping Attributes Extraction (Phase 1)"
   ]
  },
  {
   "cell_type": "code",
   "execution_count": null,
   "id": "b01d8d6d",
   "metadata": {},
   "outputs": [],
   "source": [
    "\n",
    "\n",
    "def webscraping(color:str):\n",
    "    \"\"\"Perform webscraping of Google Art & Culture web page\n",
    "\n",
    "    Parameters\n",
    "    ----------\n",
    "    color : str\n",
    "        the color of target page\n",
    "    \"\"\"\n",
    "    scraper = Scraper(DRIVER_PATH,color)\n",
    "    scraper.open()\n",
    "    data = scraper.scraping_data()\n",
    "    return data\n",
    "    \n",
    "    \n",
    "webscraping_data = parallel(webscraping,COLORS)"
   ]
  },
  {
   "cell_type": "markdown",
   "id": "8dafae20",
   "metadata": {},
   "source": [
    "inspect some data"
   ]
  },
  {
   "cell_type": "code",
   "execution_count": null,
   "id": "61d6b1b1",
   "metadata": {},
   "outputs": [],
   "source": [
    "#Print WHITE collection\n",
    "print(webscraping_data[0][0:2])\n",
    "#Print PINK collection\n",
    "print(webscraping_data[1][0:2])"
   ]
  },
  {
   "cell_type": "markdown",
   "id": "2bd97375",
   "metadata": {},
   "source": [
    "Merge Collections into one"
   ]
  },
  {
   "cell_type": "code",
   "execution_count": null,
   "id": "ddb418e1",
   "metadata": {},
   "outputs": [],
   "source": [
    "flatten_data = [item for sublist in webscraping_data for item in sublist]"
   ]
  },
  {
   "cell_type": "code",
   "execution_count": 10,
   "id": "9f79b26d",
   "metadata": {},
   "outputs": [
    {
     "data": {
      "text/plain": [
       "[{'url': 'https://lh3.googleusercontent.com/ci/AC_FhM_oasJFGZVi8jye_ImxogO_y6DHA6Ha2nK85qkgEdZiJd5ku_wyJ6AOyfEOKIW-rEsmFZB5ng=w313-c-h313-fcrop64=1,00000d37ffff8ce4-rw-v1',\n",
       "  'data': '{\"Title\":\" Symphony in White, No. 1 The White Girl\",\"Creator\":\" James McNeill Whistler\",\"Date Created\":\" 1862\",\"External Link\":\"  For more information about this and thousands of other works of art in the NGA collection, please visit\\xa0http//www.nga.gov/\",\"Medium\":\" oil on canvas\",\"Object Credit\":\" Harris Whittemore Collection\",\"Dimensions\":\" overall 213 x 107.9 cm (83 7/8 x 42 1/2 in.)\\\\u000b\\\\u000bframed 244.2 x 136.5 x 8.3 cm (96 1/8 x 53 3/4 x 3 1/4 in.)\",\"Classification\":\" Painting\",\"Artist School\":\" American\",\"Artist Nationality\":\" American\",\"Artist Details\":\" American, 1834 - 1903\"}',\n",
       "  'category': 'WHITE'},\n",
       " {'url': 'https://lh3.googleusercontent.com/ci/AC_FhM9f2_H_Vib6NbUnODNBmKAF4_nxQENdrmuCgD_qbON7A8MhrGE8artJsUQA-1s0VCBUPmhAkQ=w313-c-h313-fcrop64=1,00000b77ffffdd97-rw-v1',\n",
       "  'data': '{\"Title\":\" The Cradle\",\"Date Created\":\" 1872\",\"Provenance\":\" Bought in 1930\",\"Physical Dimensions\":\" w460 x h560 cm\",\"Painter\":\" Berthe Morisot\",\"Original Title\":\" Le Berceau\",\"Credit Line\":\" © Musée d\\'Orsay, dist.RMN / Patrice Schmidt\",\"Type\":\" Oil on canvas\",\"Rights\":\" © Musée d\\'Orsay, dist.RMN / Patrice Schmidt\",\"External Link\":\"  http//www.musee-orsay.fr/en/collections/works-in-focus/search/commentaire_id/the-cradle-8953.html?tx_commentaire_pi1%5BpidLi%5D=509&tx_commentaire_pi1%5Bfrom%5D=841&cHash=26c27dd211\"}',\n",
       "  'category': 'WHITE'}]"
      ]
     },
     "execution_count": 10,
     "metadata": {},
     "output_type": "execute_result"
    }
   ],
   "source": [
    "flatten_data[0:2]"
   ]
  },
  {
   "cell_type": "code",
   "execution_count": 11,
   "id": "b279ddb7",
   "metadata": {},
   "outputs": [],
   "source": [
    "df = pd.DataFrame(flatten_data)\n",
    "df['index'] = df.index\n",
    "df.to_csv(f'{DATA_RAW_FOLDER}/pictures_original.csv', index = False)  "
   ]
  },
  {
   "cell_type": "markdown",
   "id": "4c165a07",
   "metadata": {},
   "source": [
    "# Webscraping Image Extraction (Phase 2)"
   ]
  },
  {
   "cell_type": "markdown",
   "id": "5bfa23c6",
   "metadata": {},
   "source": [
    "Get the image_url and the identify key (index)"
   ]
  },
  {
   "cell_type": "code",
   "execution_count": null,
   "id": "2ba0d2f6",
   "metadata": {},
   "outputs": [],
   "source": [
    "   \n",
    "df = df.read_csv(f'{DATA_RAW_FOLDER}/pictures_original.csv')\n",
    "df = df[['index','url']]   \n",
    "data = list(df.itertuples(index=False, name=None)) # Convert data into tuples"
   ]
  },
  {
   "cell_type": "markdown",
   "id": "2ee4fd86",
   "metadata": {},
   "source": [
    "Apply parallel transformation for download files "
   ]
  },
  {
   "cell_type": "code",
   "execution_count": null,
   "id": "d0652f84",
   "metadata": {},
   "outputs": [],
   "source": [
    "def get_image(data):\n",
    "    id = data[0]\n",
    "    link = data[1]\n",
    "    path = f'../data/raw/img/{id}.jpg'\n",
    "    img = requests.get(link).content\n",
    "    with open(path, 'wb') as handler:\n",
    "        handler.write(img)\n",
    "    return (id,f'{id}.jpg')\n",
    "\n",
    "data_processed = parallel(get_image,data) \n",
    "print(data_processed[0:5])"
   ]
  },
  {
   "cell_type": "markdown",
   "id": "94083c8f",
   "metadata": {},
   "source": [
    "Convert data into df and export it"
   ]
  },
  {
   "cell_type": "code",
   "execution_count": null,
   "id": "52e0e926",
   "metadata": {},
   "outputs": [],
   "source": [
    "df_processed = pd.DataFrame(data_processed, columns=['id','filename']) #Parse data into df\n",
    "df.to_csv(f'{DATA_PROCESSED_FOLDER}/pictures_images.csv', index = False)  # Export"
   ]
  },
  {
   "cell_type": "markdown",
   "id": "8b28a573",
   "metadata": {},
   "source": [
    "# Transform\n",
    "\n",
    "* Filtering, cleansing, de-duplicating, validating, and authenticating the data.\n",
    "* Performing calculations, translations, or summarizations based on the raw data. This can  include changing row and column headers for consistency, converting currencies or other units of measurement, editing text strings, and more.\n",
    "* Ensure data quality\n",
    "* Formatting the data into tables or joined tables to match the schema of the target data warehouse."
   ]
  },
  {
   "cell_type": "code",
   "execution_count": null,
   "id": "6953b040",
   "metadata": {},
   "outputs": [],
   "source": [
    "df_original = df.read_csv(f'{DATA_RAW_FOLDER}/pictures_original.csv')\n",
    "df_images = df.read_csv(f'{DATA_PROCESSED_FOLDER}/pictures_images.csv')\n",
    "df = df_original.merge(df_images, left_on='index', right_on='index')\n",
    "print(df.head())"
   ]
  },
  {
   "cell_type": "code",
   "execution_count": null,
   "id": "948abf0d",
   "metadata": {},
   "outputs": [],
   "source": [
    "print(df.shape)\n",
    "print(df_original.shape)\n",
    "print(df_images.shape)"
   ]
  },
  {
   "cell_type": "code",
   "execution_count": null,
   "id": "a88fc930",
   "metadata": {},
   "outputs": [],
   "source": [
    "df.info()"
   ]
  },
  {
   "cell_type": "code",
   "execution_count": null,
   "id": "e56009d4",
   "metadata": {},
   "outputs": [],
   "source": [
    "df.duplicated().value_counts() "
   ]
  },
  {
   "cell_type": "code",
   "execution_count": null,
   "id": "4a267632",
   "metadata": {},
   "outputs": [],
   "source": [
    "df.isnull().sum()"
   ]
  },
  {
   "cell_type": "code",
   "execution_count": null,
   "id": "3f755953",
   "metadata": {},
   "outputs": [],
   "source": [
    "#TODO: MERGE DF INTO ONE \n",
    "#     PARSE DATA COLUMN "
   ]
  },
  {
   "cell_type": "code",
   "execution_count": null,
   "id": "fd36724d",
   "metadata": {},
   "outputs": [],
   "source": [
    "from tqdm.notebook import tqdm\n",
    "import time\n",
    "for i in tqdm(range(10)):\n",
    "    time.sleep(1)"
   ]
  }
 ],
 "metadata": {
  "kernelspec": {
   "display_name": "Python 3.9.7 ('env': venv)",
   "language": "python",
   "name": "python3"
  },
  "language_info": {
   "codemirror_mode": {
    "name": "ipython",
    "version": 3
   },
   "file_extension": ".py",
   "mimetype": "text/x-python",
   "name": "python",
   "nbconvert_exporter": "python",
   "pygments_lexer": "ipython3",
   "version": "3.9.7"
  },
  "vscode": {
   "interpreter": {
    "hash": "0832b3b45e9f58719f136abde0f871f15b0c3514f4cec0b31c3dbed423b45e39"
   }
  }
 },
 "nbformat": 4,
 "nbformat_minor": 5
}
