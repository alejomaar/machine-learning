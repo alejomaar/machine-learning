{
 "cells": [
  {
   "cell_type": "markdown",
   "id": "451dace1",
   "metadata": {},
   "source": [
    "# Google Art & Culture - Case study using CRISPS-DM\n",
    "\n",
    "#### Autors: Manuel Alejandro Aponte, Cristian Beltran, Maria Paula Peña\n",
    "\n",
    "In this notebook it will webscraping of the page Google Art & Culture\n",
    "\n",
    "## Objectives\n",
    "The objective of this notebooks is:\n",
    "\n",
    "* Download images using webscraping.\n",
    "* Download images metadata.\n",
    "* Store all information in a datasheet.\n",
    "\n",
    "## Prerequisites\n",
    "\n",
    "* Familiarity with python \n",
    "* Lastest version of Google WebDriver, Source: https://chromedriver.chromium.org/\n",
    "* Install python packages.\n",
    "* Use VPN (Recomended)\n",
    "\n",
    "## Background \n",
    "This notebook belongs to Google Art & Culture Case Study using CRIPS-DM, where would be include process such as webscraping, exploratory data analysis, ML classificators and dashboards. "
   ]
  },
  {
   "cell_type": "code",
   "execution_count": 1,
   "id": "1b2349cd",
   "metadata": {},
   "outputs": [],
   "source": [
    "#Import project packages\n",
    "import sys\n",
    "sys.path.append('../src/')\n",
    "from Scraper import Scraper\n",
    "from Parallel import parallel\n",
    "#Import packages\n",
    "import pandas as pd\n",
    "import numpy as np\n",
    "import requests\n",
    "from pandas.io.json import json_normalize\n",
    "import json"
   ]
  },
  {
   "cell_type": "markdown",
   "id": "e9384b0f",
   "metadata": {},
   "source": [
    "# Global Settings"
   ]
  },
  {
   "cell_type": "code",
   "execution_count": 2,
   "id": "d937e88e",
   "metadata": {},
   "outputs": [],
   "source": [
    "#Colors of sections to be webscraped\n",
    "COLORS = [\"WHITE\",\"PINK\",\"YELLOW\",\"PURPLE\",\"BLUE\",\"TEAL\",\"GREEN\",\"ORANGE\",\"RED\",\"BROWN\",\"BLACK\"] \n",
    "\n",
    "#Webdriver path\n",
    "DRIVER_PATH = r\"../chromedriver.exe\"\n",
    "\n",
    "#Folder of data resources\n",
    "DATA_RAW_FOLDER = \"../data/raw\"\n",
    "DATA_PROCESSED_FOLDER = \"../data/processed\"\n",
    "DATA_FINAL_FOLDER = \"../data/final\"\n"
   ]
  },
  {
   "cell_type": "markdown",
   "id": "c6b4b2d7",
   "metadata": {},
   "source": [
    "# Webscraping Attributes Extraction (Phase 1)"
   ]
  },
  {
   "cell_type": "code",
   "execution_count": null,
   "id": "b01d8d6d",
   "metadata": {},
   "outputs": [],
   "source": [
    "def webscraping(color:str):\n",
    "    \"\"\"Perform webscraping of Google Art & Culture web page\n",
    "\n",
    "    Parameters\n",
    "    ----------\n",
    "    color : str\n",
    "        the color of target page\n",
    "    \"\"\"\n",
    "    scraper = Scraper(DRIVER_PATH,color)\n",
    "    scraper.open()\n",
    "    data = scraper.scraping_data()\n",
    "    return data\n",
    "    \n",
    "    \n",
    "webscraping_data = parallel(webscraping,COLORS)"
   ]
  },
  {
   "cell_type": "markdown",
   "id": "8dafae20",
   "metadata": {},
   "source": [
    "inspect some data"
   ]
  },
  {
   "cell_type": "code",
   "execution_count": 4,
   "id": "61d6b1b1",
   "metadata": {},
   "outputs": [
    {
     "name": "stdout",
     "output_type": "stream",
     "text": [
      "[{'url': 'https://lh3.googleusercontent.com/ci/AC_FhM_oasJFGZVi8jye_ImxogO_y6DHA6Ha2nK85qkgEdZiJd5ku_wyJ6AOyfEOKIW-rEsmFZB5ng=w313-c-h313-fcrop64=1,00000d37ffff8ce4-rw-v1', 'data': '{\"Title\":\" Symphony in White, No. 1 The White Girl\",\"Creator\":\" James McNeill Whistler\",\"Date Created\":\" 1862\",\"External Link\":\"  For more information about this and thousands of other works of art in the NGA collection, please visit\\xa0http//www.nga.gov/\",\"Medium\":\" oil on canvas\",\"Object Credit\":\" Harris Whittemore Collection\",\"Dimensions\":\" overall 213 x 107.9 cm (83 7/8 x 42 1/2 in.)\\\\u000b\\\\u000bframed 244.2 x 136.5 x 8.3 cm (96 1/8 x 53 3/4 x 3 1/4 in.)\",\"Classification\":\" Painting\",\"Artist School\":\" American\",\"Artist Nationality\":\" American\",\"Artist Details\":\" American, 1834 - 1903\"}', 'category': 'WHITE'}, {'url': 'https://lh3.googleusercontent.com/ci/AC_FhM9f2_H_Vib6NbUnODNBmKAF4_nxQENdrmuCgD_qbON7A8MhrGE8artJsUQA-1s0VCBUPmhAkQ=w313-c-h313-fcrop64=1,00000b77ffffdd97-rw-v1', 'data': '{\"Title\":\" The Cradle\",\"Date Created\":\" 1872\",\"Provenance\":\" Bought in 1930\",\"Physical Dimensions\":\" w460 x h560 cm\",\"Painter\":\" Berthe Morisot\",\"Original Title\":\" Le Berceau\",\"Credit Line\":\" © Musée d\\'Orsay, dist.RMN / Patrice Schmidt\",\"Type\":\" Oil on canvas\",\"Rights\":\" © Musée d\\'Orsay, dist.RMN / Patrice Schmidt\",\"External Link\":\"  http//www.musee-orsay.fr/en/collections/works-in-focus/search/commentaire_id/the-cradle-8953.html?tx_commentaire_pi1%5BpidLi%5D=509&tx_commentaire_pi1%5Bfrom%5D=841&cHash=26c27dd211\"}', 'category': 'WHITE'}]\n",
      "[{'url': 'https://lh3.googleusercontent.com/ci/AC_FhM-EQPfzzHMQAytDbH5tYrYz7xbR4a95nETSepBS7uBp0AQqqBOFUWXjOPWzACmhfTEpvXZIDVWx=w313-c-h313-fcrop64=1,00002d28ffffffff-rw-v1', 'data': '{\"Title\":\" Le Chahut\",\"Creator\":\" Georges Seurat\",\"Date Created\":\" 1889/1890\",\"Physical Dimensions\":\" w1410 x h1700 mm (without frame)\",\"Type\":\" painting\",\"External Link\":\"  Kröller-Müller Museum\",\"Medium\":\" oil on canvas.\"}', 'category': 'PINK'}, {'url': 'https://lh3.googleusercontent.com/ci/AC_FhM-V5qjQjv6uuo4zq9Qry3Zy1LrbMLEz0buvakV5PKUWT_Dsg1yngXOIWCHRS3S52UxlcDnDzg=w313-c-h313-fcrop64=1,220e0000ddf0ffff-rw-v1', 'data': '{\"Title\":\" Free and Leisure-10\",\"Creator\":\" Yue Minjun\",\"Date\":\" 2003\",\"Physical Dimensions\":\" h200 x w300cm\",\"Provenance\":\" Todat Art Museum\",\"Type\":\" Oil on canvas\",\"Physical Format\":\" h220 x w300cm\",\"Creator Nationality\":\" Chinese\"}', 'category': 'PINK'}]\n"
     ]
    }
   ],
   "source": [
    "#Print WHITE collection\n",
    "print(webscraping_data[0][0:2])\n",
    "#Print PINK collection\n",
    "print(webscraping_data[1][0:2])"
   ]
  },
  {
   "cell_type": "markdown",
   "id": "2bd97375",
   "metadata": {},
   "source": [
    "Merge Collections into one"
   ]
  },
  {
   "cell_type": "code",
   "execution_count": 5,
   "id": "ddb418e1",
   "metadata": {},
   "outputs": [],
   "source": [
    "flatten_data = [item for sublist in webscraping_data for item in sublist]"
   ]
  },
  {
   "cell_type": "code",
   "execution_count": 6,
   "id": "9f79b26d",
   "metadata": {},
   "outputs": [
    {
     "data": {
      "text/plain": [
       "[{'url': 'https://lh3.googleusercontent.com/ci/AC_FhM_oasJFGZVi8jye_ImxogO_y6DHA6Ha2nK85qkgEdZiJd5ku_wyJ6AOyfEOKIW-rEsmFZB5ng=w313-c-h313-fcrop64=1,00000d37ffff8ce4-rw-v1',\n",
       "  'data': '{\"Title\":\" Symphony in White, No. 1 The White Girl\",\"Creator\":\" James McNeill Whistler\",\"Date Created\":\" 1862\",\"External Link\":\"  For more information about this and thousands of other works of art in the NGA collection, please visit\\xa0http//www.nga.gov/\",\"Medium\":\" oil on canvas\",\"Object Credit\":\" Harris Whittemore Collection\",\"Dimensions\":\" overall 213 x 107.9 cm (83 7/8 x 42 1/2 in.)\\\\u000b\\\\u000bframed 244.2 x 136.5 x 8.3 cm (96 1/8 x 53 3/4 x 3 1/4 in.)\",\"Classification\":\" Painting\",\"Artist School\":\" American\",\"Artist Nationality\":\" American\",\"Artist Details\":\" American, 1834 - 1903\"}',\n",
       "  'category': 'WHITE'},\n",
       " {'url': 'https://lh3.googleusercontent.com/ci/AC_FhM9f2_H_Vib6NbUnODNBmKAF4_nxQENdrmuCgD_qbON7A8MhrGE8artJsUQA-1s0VCBUPmhAkQ=w313-c-h313-fcrop64=1,00000b77ffffdd97-rw-v1',\n",
       "  'data': '{\"Title\":\" The Cradle\",\"Date Created\":\" 1872\",\"Provenance\":\" Bought in 1930\",\"Physical Dimensions\":\" w460 x h560 cm\",\"Painter\":\" Berthe Morisot\",\"Original Title\":\" Le Berceau\",\"Credit Line\":\" © Musée d\\'Orsay, dist.RMN / Patrice Schmidt\",\"Type\":\" Oil on canvas\",\"Rights\":\" © Musée d\\'Orsay, dist.RMN / Patrice Schmidt\",\"External Link\":\"  http//www.musee-orsay.fr/en/collections/works-in-focus/search/commentaire_id/the-cradle-8953.html?tx_commentaire_pi1%5BpidLi%5D=509&tx_commentaire_pi1%5Bfrom%5D=841&cHash=26c27dd211\"}',\n",
       "  'category': 'WHITE'}]"
      ]
     },
     "execution_count": 6,
     "metadata": {},
     "output_type": "execute_result"
    }
   ],
   "source": [
    "flatten_data[0:2]"
   ]
  },
  {
   "cell_type": "code",
   "execution_count": 7,
   "id": "b279ddb7",
   "metadata": {},
   "outputs": [],
   "source": [
    "df = pd.DataFrame(flatten_data)\n",
    "df['index'] = df.index\n",
    "df.to_csv(f'{DATA_RAW_FOLDER}/pictures_original.csv', index = False)  "
   ]
  },
  {
   "cell_type": "markdown",
   "id": "4c165a07",
   "metadata": {},
   "source": [
    "# Webscraping Image Extraction (Phase 2)"
   ]
  },
  {
   "cell_type": "markdown",
   "id": "5bfa23c6",
   "metadata": {},
   "source": [
    "Get the image_url and the identify key (index)"
   ]
  },
  {
   "cell_type": "code",
   "execution_count": 8,
   "id": "2ba0d2f6",
   "metadata": {},
   "outputs": [],
   "source": [
    "   \n",
    "df = pd.read_csv(f'{DATA_RAW_FOLDER}/pictures_original.csv')\n",
    "df = df[['index','url']]   \n",
    "data = list(df.itertuples(index=False, name=None)) # Convert data into tuples"
   ]
  },
  {
   "cell_type": "code",
   "execution_count": 9,
   "id": "6b05ead4",
   "metadata": {},
   "outputs": [
    {
     "data": {
      "text/plain": [
       "[(0,\n",
       "  'https://lh3.googleusercontent.com/ci/AC_FhM_oasJFGZVi8jye_ImxogO_y6DHA6Ha2nK85qkgEdZiJd5ku_wyJ6AOyfEOKIW-rEsmFZB5ng=w313-c-h313-fcrop64=1,00000d37ffff8ce4-rw-v1'),\n",
       " (1,\n",
       "  'https://lh3.googleusercontent.com/ci/AC_FhM9f2_H_Vib6NbUnODNBmKAF4_nxQENdrmuCgD_qbON7A8MhrGE8artJsUQA-1s0VCBUPmhAkQ=w313-c-h313-fcrop64=1,00000b77ffffdd97-rw-v1'),\n",
       " (2,\n",
       "  'https://lh3.googleusercontent.com/ci/AC_FhM8sQxk2zXS1WRTp6PoUOIrEiuW3JY-zFPb4AKLNM27TZCeQACe19Vxssvw_ssBA4nOnScwyDRc=w313-c-h313-rw-v1')]"
      ]
     },
     "execution_count": 9,
     "metadata": {},
     "output_type": "execute_result"
    }
   ],
   "source": [
    "data[0:3]"
   ]
  },
  {
   "cell_type": "markdown",
   "id": "2ee4fd86",
   "metadata": {},
   "source": [
    "Apply parallel transformation for download files "
   ]
  },
  {
   "cell_type": "code",
   "execution_count": null,
   "id": "d0652f84",
   "metadata": {},
   "outputs": [],
   "source": [
    "def get_image(data):\n",
    "    id = data[0]\n",
    "    link = data[1]\n",
    "    path = f'{DATA_FINAL_FOLDER}/img/{id}.jpg'\n",
    "    img = requests.get(link).content\n",
    "    with open(path, 'wb') as handler:\n",
    "        handler.write(img)\n",
    "    return (id,f'{id}.jpg')\n",
    "\n",
    "image_files = parallel(get_image,data) \n",
    "print(image_files[0:3])"
   ]
  },
  {
   "cell_type": "markdown",
   "id": "94083c8f",
   "metadata": {},
   "source": [
    "Convert data into df and export it"
   ]
  },
  {
   "cell_type": "code",
   "execution_count": 12,
   "id": "52e0e926",
   "metadata": {},
   "outputs": [],
   "source": [
    "df_images = pd.DataFrame(image_files, columns=['index','filename']) #Parse data into df\n",
    "df_images.to_csv(f'{DATA_PROCESSED_FOLDER}/picture_files.csv', index = False)  # Export"
   ]
  },
  {
   "cell_type": "markdown",
   "id": "8b28a573",
   "metadata": {},
   "source": [
    "# Transform\n",
    "\n",
    "* Filtering, cleansing, de-duplicating, validating, and authenticating the data.\n",
    "* Performing calculations, translations, or summarizations based on the raw data. This can  include changing row and column headers for consistency, converting currencies or other units of measurement, editing text strings, and more.\n",
    "* Ensure data quality\n",
    "* Formatting the data into tables or joined tables to match the schema of the target data warehouse."
   ]
  },
  {
   "cell_type": "markdown",
   "id": "7c38cea1",
   "metadata": {},
   "source": [
    "### Check Data integrity"
   ]
  },
  {
   "cell_type": "code",
   "execution_count": 13,
   "id": "6953b040",
   "metadata": {},
   "outputs": [
    {
     "name": "stdout",
     "output_type": "stream",
     "text": [
      "                                                 url  \\\n",
      "0  https://lh3.googleusercontent.com/ci/AC_FhM_oa...   \n",
      "1  https://lh3.googleusercontent.com/ci/AC_FhM9f2...   \n",
      "2  https://lh3.googleusercontent.com/ci/AC_FhM8sQ...   \n",
      "3  https://lh3.googleusercontent.com/ci/AC_FhM9aa...   \n",
      "4  https://lh3.googleusercontent.com/ci/AC_FhM-xJ...   \n",
      "\n",
      "                                                data category  index filename  \n",
      "0  {\"Title\":\" Symphony in White, No. 1 The White ...    WHITE      0    0.jpg  \n",
      "1  {\"Title\":\" The Cradle\",\"Date Created\":\" 1872\",...    WHITE      1    1.jpg  \n",
      "2  {\"Title\":\" The Magpie\",\"Date Created\":\" 1868 -...    WHITE      2    2.jpg  \n",
      "3  {\"Title\":\" Summer evening on Skagen Sønderstra...    WHITE      3    3.jpg  \n",
      "4  {\"Title\":\" Composition with red, yellow and bl...    WHITE      4    4.jpg  \n"
     ]
    }
   ],
   "source": [
    "df_original = pd.read_csv(f'{DATA_RAW_FOLDER}/pictures_original.csv')\n",
    "df_images = pd.read_csv(f'{DATA_PROCESSED_FOLDER}/picture_files.csv')\n",
    "df = df_original.merge(df_images, left_on='index', right_on='index')\n",
    "print(df.head())"
   ]
  },
  {
   "cell_type": "code",
   "execution_count": 14,
   "id": "948abf0d",
   "metadata": {},
   "outputs": [
    {
     "name": "stdout",
     "output_type": "stream",
     "text": [
      "Final Data Shape: (10287, 5)\n",
      "Original Data Shape: (10287, 4)\n",
      "Image Files Data Shape: (10287, 2)\n"
     ]
    }
   ],
   "source": [
    "print('Final Data Shape:',df.shape)\n",
    "print('Original Data Shape:',df_original.shape)\n",
    "print('Image Files Data Shape:',df_images.shape)"
   ]
  },
  {
   "cell_type": "code",
   "execution_count": 15,
   "id": "a88fc930",
   "metadata": {},
   "outputs": [
    {
     "name": "stdout",
     "output_type": "stream",
     "text": [
      "<class 'pandas.core.frame.DataFrame'>\n",
      "Int64Index: 10287 entries, 0 to 10286\n",
      "Data columns (total 5 columns):\n",
      " #   Column    Non-Null Count  Dtype \n",
      "---  ------    --------------  ----- \n",
      " 0   url       10287 non-null  object\n",
      " 1   data      10287 non-null  object\n",
      " 2   category  10287 non-null  object\n",
      " 3   index     10287 non-null  int64 \n",
      " 4   filename  10287 non-null  object\n",
      "dtypes: int64(1), object(4)\n",
      "memory usage: 482.2+ KB\n"
     ]
    }
   ],
   "source": [
    "df.info()"
   ]
  },
  {
   "cell_type": "code",
   "execution_count": 16,
   "id": "e56009d4",
   "metadata": {},
   "outputs": [
    {
     "name": "stdout",
     "output_type": "stream",
     "text": [
      "Exist Duplicated: False\n",
      "Exist Duplicated: False\n"
     ]
    }
   ],
   "source": [
    "print('Exist Duplicated:', df['index'].duplicated().any())\n",
    "print('Exist Duplicated:', df['url'].duplicated().any())"
   ]
  },
  {
   "cell_type": "code",
   "execution_count": 17,
   "id": "4a267632",
   "metadata": {},
   "outputs": [
    {
     "data": {
      "text/plain": [
       "url         0\n",
       "data        0\n",
       "category    0\n",
       "index       0\n",
       "filename    0\n",
       "dtype: int64"
      ]
     },
     "execution_count": 17,
     "metadata": {},
     "output_type": "execute_result"
    }
   ],
   "source": [
    "df.isnull().sum()"
   ]
  },
  {
   "cell_type": "markdown",
   "id": "88f3f2b9",
   "metadata": {},
   "source": [
    "### Parse data column into a df"
   ]
  },
  {
   "cell_type": "code",
   "execution_count": 18,
   "id": "70388d97",
   "metadata": {},
   "outputs": [],
   "source": [
    "\n",
    "data_string = list(df.data.values)\n",
    "data_json = list(map(lambda string_json:json.loads(string_json),data_string))"
   ]
  },
  {
   "cell_type": "code",
   "execution_count": 19,
   "id": "8d9eb351",
   "metadata": {},
   "outputs": [
    {
     "name": "stderr",
     "output_type": "stream",
     "text": [
      "C:\\Users\\user\\AppData\\Local\\Temp\\ipykernel_13768\\3295387368.py:1: FutureWarning: pandas.io.json.json_normalize is deprecated, use pandas.json_normalize instead.\n",
      "  data_df = json_normalize(data_json)\n"
     ]
    },
    {
     "data": {
      "text/html": [
       "<div>\n",
       "<style scoped>\n",
       "    .dataframe tbody tr th:only-of-type {\n",
       "        vertical-align: middle;\n",
       "    }\n",
       "\n",
       "    .dataframe tbody tr th {\n",
       "        vertical-align: top;\n",
       "    }\n",
       "\n",
       "    .dataframe thead th {\n",
       "        text-align: right;\n",
       "    }\n",
       "</style>\n",
       "<table border=\"1\" class=\"dataframe\">\n",
       "  <thead>\n",
       "    <tr style=\"text-align: right;\">\n",
       "      <th></th>\n",
       "      <th>Title</th>\n",
       "      <th>Creator</th>\n",
       "      <th>Date Created</th>\n",
       "      <th>External Link</th>\n",
       "      <th>Medium</th>\n",
       "      <th>Object Credit</th>\n",
       "      <th>Dimensions</th>\n",
       "      <th>Classification</th>\n",
       "      <th>Artist School</th>\n",
       "      <th>Artist Nationality</th>\n",
       "      <th>...</th>\n",
       "      <th>Additional Artist Death Date</th>\n",
       "      <th>Additional Artist Birth Date</th>\n",
       "      <th>Alternate Titles</th>\n",
       "      <th>Scientist</th>\n",
       "      <th>Catalogue Reference</th>\n",
       "      <th>Additional Artist Details</th>\n",
       "      <th>Painter, printmaker</th>\n",
       "      <th>Artist Death Place</th>\n",
       "      <th>Maker</th>\n",
       "      <th>Frame</th>\n",
       "    </tr>\n",
       "  </thead>\n",
       "  <tbody>\n",
       "    <tr>\n",
       "      <th>0</th>\n",
       "      <td>Symphony in White, No. 1 The White Girl</td>\n",
       "      <td>James McNeill Whistler</td>\n",
       "      <td>1862</td>\n",
       "      <td>For more information about this and thousand...</td>\n",
       "      <td>oil on canvas</td>\n",
       "      <td>Harris Whittemore Collection</td>\n",
       "      <td>overall 213 x 107.9 cm (83 7/8 x 42 1/2 in.)\u000b...</td>\n",
       "      <td>Painting</td>\n",
       "      <td>American</td>\n",
       "      <td>American</td>\n",
       "      <td>...</td>\n",
       "      <td>NaN</td>\n",
       "      <td>NaN</td>\n",
       "      <td>NaN</td>\n",
       "      <td>NaN</td>\n",
       "      <td>NaN</td>\n",
       "      <td>NaN</td>\n",
       "      <td>NaN</td>\n",
       "      <td>NaN</td>\n",
       "      <td>NaN</td>\n",
       "      <td>NaN</td>\n",
       "    </tr>\n",
       "    <tr>\n",
       "      <th>1</th>\n",
       "      <td>The Cradle</td>\n",
       "      <td>NaN</td>\n",
       "      <td>1872</td>\n",
       "      <td>http//www.musee-orsay.fr/en/collections/work...</td>\n",
       "      <td>NaN</td>\n",
       "      <td>NaN</td>\n",
       "      <td>NaN</td>\n",
       "      <td>NaN</td>\n",
       "      <td>NaN</td>\n",
       "      <td>NaN</td>\n",
       "      <td>...</td>\n",
       "      <td>NaN</td>\n",
       "      <td>NaN</td>\n",
       "      <td>NaN</td>\n",
       "      <td>NaN</td>\n",
       "      <td>NaN</td>\n",
       "      <td>NaN</td>\n",
       "      <td>NaN</td>\n",
       "      <td>NaN</td>\n",
       "      <td>NaN</td>\n",
       "      <td>NaN</td>\n",
       "    </tr>\n",
       "    <tr>\n",
       "      <th>2</th>\n",
       "      <td>The Magpie</td>\n",
       "      <td>NaN</td>\n",
       "      <td>1868 - 1869</td>\n",
       "      <td>http//www.musee-orsay.fr/en/collections/work...</td>\n",
       "      <td>NaN</td>\n",
       "      <td>NaN</td>\n",
       "      <td>NaN</td>\n",
       "      <td>NaN</td>\n",
       "      <td>NaN</td>\n",
       "      <td>NaN</td>\n",
       "      <td>...</td>\n",
       "      <td>NaN</td>\n",
       "      <td>NaN</td>\n",
       "      <td>NaN</td>\n",
       "      <td>NaN</td>\n",
       "      <td>NaN</td>\n",
       "      <td>NaN</td>\n",
       "      <td>NaN</td>\n",
       "      <td>NaN</td>\n",
       "      <td>NaN</td>\n",
       "      <td>NaN</td>\n",
       "    </tr>\n",
       "  </tbody>\n",
       "</table>\n",
       "<p>3 rows × 497 columns</p>\n",
       "</div>"
      ],
      "text/plain": [
       "                                      Title                  Creator  \\\n",
       "0   Symphony in White, No. 1 The White Girl   James McNeill Whistler   \n",
       "1                                The Cradle                      NaN   \n",
       "2                                The Magpie                      NaN   \n",
       "\n",
       "   Date Created                                      External Link  \\\n",
       "0          1862    For more information about this and thousand...   \n",
       "1          1872    http//www.musee-orsay.fr/en/collections/work...   \n",
       "2   1868 - 1869    http//www.musee-orsay.fr/en/collections/work...   \n",
       "\n",
       "           Medium                  Object Credit  \\\n",
       "0   oil on canvas   Harris Whittemore Collection   \n",
       "1             NaN                            NaN   \n",
       "2             NaN                            NaN   \n",
       "\n",
       "                                          Dimensions Classification  \\\n",
       "0   overall 213 x 107.9 cm (83 7/8 x 42 1/2 in.)\n",
       "...       Painting   \n",
       "1                                                NaN            NaN   \n",
       "2                                                NaN            NaN   \n",
       "\n",
       "  Artist School Artist Nationality  ... Additional Artist Death Date  \\\n",
       "0      American           American  ...                          NaN   \n",
       "1           NaN                NaN  ...                          NaN   \n",
       "2           NaN                NaN  ...                          NaN   \n",
       "\n",
       "  Additional Artist Birth Date Alternate Titles Scientist Catalogue Reference  \\\n",
       "0                          NaN              NaN       NaN                 NaN   \n",
       "1                          NaN              NaN       NaN                 NaN   \n",
       "2                          NaN              NaN       NaN                 NaN   \n",
       "\n",
       "  Additional Artist Details Painter, printmaker Artist Death Place Maker Frame  \n",
       "0                       NaN                 NaN                NaN   NaN   NaN  \n",
       "1                       NaN                 NaN                NaN   NaN   NaN  \n",
       "2                       NaN                 NaN                NaN   NaN   NaN  \n",
       "\n",
       "[3 rows x 497 columns]"
      ]
     },
     "execution_count": 19,
     "metadata": {},
     "output_type": "execute_result"
    }
   ],
   "source": [
    "data_df = json_normalize(data_json)\n",
    "data_df.head(3)"
   ]
  },
  {
   "cell_type": "code",
   "execution_count": 20,
   "id": "cc17f591",
   "metadata": {},
   "outputs": [
    {
     "data": {
      "text/html": [
       "<div>\n",
       "<style scoped>\n",
       "    .dataframe tbody tr th:only-of-type {\n",
       "        vertical-align: middle;\n",
       "    }\n",
       "\n",
       "    .dataframe tbody tr th {\n",
       "        vertical-align: top;\n",
       "    }\n",
       "\n",
       "    .dataframe thead th {\n",
       "        text-align: right;\n",
       "    }\n",
       "</style>\n",
       "<table border=\"1\" class=\"dataframe\">\n",
       "  <thead>\n",
       "    <tr style=\"text-align: right;\">\n",
       "      <th></th>\n",
       "      <th>url</th>\n",
       "      <th>category</th>\n",
       "      <th>index</th>\n",
       "      <th>filename</th>\n",
       "      <th>Title</th>\n",
       "      <th>Creator</th>\n",
       "      <th>Date Created</th>\n",
       "      <th>External Link</th>\n",
       "      <th>Medium</th>\n",
       "      <th>Object Credit</th>\n",
       "      <th>...</th>\n",
       "      <th>Additional Artist Death Date</th>\n",
       "      <th>Additional Artist Birth Date</th>\n",
       "      <th>Alternate Titles</th>\n",
       "      <th>Scientist</th>\n",
       "      <th>Catalogue Reference</th>\n",
       "      <th>Additional Artist Details</th>\n",
       "      <th>Painter, printmaker</th>\n",
       "      <th>Artist Death Place</th>\n",
       "      <th>Maker</th>\n",
       "      <th>Frame</th>\n",
       "    </tr>\n",
       "  </thead>\n",
       "  <tbody>\n",
       "    <tr>\n",
       "      <th>0</th>\n",
       "      <td>https://lh3.googleusercontent.com/ci/AC_FhM_oa...</td>\n",
       "      <td>WHITE</td>\n",
       "      <td>0</td>\n",
       "      <td>0.jpg</td>\n",
       "      <td>Symphony in White, No. 1 The White Girl</td>\n",
       "      <td>James McNeill Whistler</td>\n",
       "      <td>1862</td>\n",
       "      <td>For more information about this and thousand...</td>\n",
       "      <td>oil on canvas</td>\n",
       "      <td>Harris Whittemore Collection</td>\n",
       "      <td>...</td>\n",
       "      <td>NaN</td>\n",
       "      <td>NaN</td>\n",
       "      <td>NaN</td>\n",
       "      <td>NaN</td>\n",
       "      <td>NaN</td>\n",
       "      <td>NaN</td>\n",
       "      <td>NaN</td>\n",
       "      <td>NaN</td>\n",
       "      <td>NaN</td>\n",
       "      <td>NaN</td>\n",
       "    </tr>\n",
       "    <tr>\n",
       "      <th>1</th>\n",
       "      <td>https://lh3.googleusercontent.com/ci/AC_FhM9f2...</td>\n",
       "      <td>WHITE</td>\n",
       "      <td>1</td>\n",
       "      <td>1.jpg</td>\n",
       "      <td>The Cradle</td>\n",
       "      <td>NaN</td>\n",
       "      <td>1872</td>\n",
       "      <td>http//www.musee-orsay.fr/en/collections/work...</td>\n",
       "      <td>NaN</td>\n",
       "      <td>NaN</td>\n",
       "      <td>...</td>\n",
       "      <td>NaN</td>\n",
       "      <td>NaN</td>\n",
       "      <td>NaN</td>\n",
       "      <td>NaN</td>\n",
       "      <td>NaN</td>\n",
       "      <td>NaN</td>\n",
       "      <td>NaN</td>\n",
       "      <td>NaN</td>\n",
       "      <td>NaN</td>\n",
       "      <td>NaN</td>\n",
       "    </tr>\n",
       "    <tr>\n",
       "      <th>2</th>\n",
       "      <td>https://lh3.googleusercontent.com/ci/AC_FhM8sQ...</td>\n",
       "      <td>WHITE</td>\n",
       "      <td>2</td>\n",
       "      <td>2.jpg</td>\n",
       "      <td>The Magpie</td>\n",
       "      <td>NaN</td>\n",
       "      <td>1868 - 1869</td>\n",
       "      <td>http//www.musee-orsay.fr/en/collections/work...</td>\n",
       "      <td>NaN</td>\n",
       "      <td>NaN</td>\n",
       "      <td>...</td>\n",
       "      <td>NaN</td>\n",
       "      <td>NaN</td>\n",
       "      <td>NaN</td>\n",
       "      <td>NaN</td>\n",
       "      <td>NaN</td>\n",
       "      <td>NaN</td>\n",
       "      <td>NaN</td>\n",
       "      <td>NaN</td>\n",
       "      <td>NaN</td>\n",
       "      <td>NaN</td>\n",
       "    </tr>\n",
       "  </tbody>\n",
       "</table>\n",
       "<p>3 rows × 501 columns</p>\n",
       "</div>"
      ],
      "text/plain": [
       "                                                 url category  index filename  \\\n",
       "0  https://lh3.googleusercontent.com/ci/AC_FhM_oa...    WHITE      0    0.jpg   \n",
       "1  https://lh3.googleusercontent.com/ci/AC_FhM9f2...    WHITE      1    1.jpg   \n",
       "2  https://lh3.googleusercontent.com/ci/AC_FhM8sQ...    WHITE      2    2.jpg   \n",
       "\n",
       "                                      Title                  Creator  \\\n",
       "0   Symphony in White, No. 1 The White Girl   James McNeill Whistler   \n",
       "1                                The Cradle                      NaN   \n",
       "2                                The Magpie                      NaN   \n",
       "\n",
       "   Date Created                                      External Link  \\\n",
       "0          1862    For more information about this and thousand...   \n",
       "1          1872    http//www.musee-orsay.fr/en/collections/work...   \n",
       "2   1868 - 1869    http//www.musee-orsay.fr/en/collections/work...   \n",
       "\n",
       "           Medium                  Object Credit  ...  \\\n",
       "0   oil on canvas   Harris Whittemore Collection  ...   \n",
       "1             NaN                            NaN  ...   \n",
       "2             NaN                            NaN  ...   \n",
       "\n",
       "  Additional Artist Death Date Additional Artist Birth Date Alternate Titles  \\\n",
       "0                          NaN                          NaN              NaN   \n",
       "1                          NaN                          NaN              NaN   \n",
       "2                          NaN                          NaN              NaN   \n",
       "\n",
       "  Scientist Catalogue Reference Additional Artist Details Painter, printmaker  \\\n",
       "0       NaN                 NaN                       NaN                 NaN   \n",
       "1       NaN                 NaN                       NaN                 NaN   \n",
       "2       NaN                 NaN                       NaN                 NaN   \n",
       "\n",
       "  Artist Death Place Maker Frame  \n",
       "0                NaN   NaN   NaN  \n",
       "1                NaN   NaN   NaN  \n",
       "2                NaN   NaN   NaN  \n",
       "\n",
       "[3 rows x 501 columns]"
      ]
     },
     "execution_count": 20,
     "metadata": {},
     "output_type": "execute_result"
    }
   ],
   "source": [
    "full_df = pd.concat([df,data_df ],axis=1)\n",
    "full_df = full_df.drop(['data'],axis=1)\n",
    "full_df.head(3)"
   ]
  },
  {
   "cell_type": "markdown",
   "id": "e74c067d",
   "metadata": {},
   "source": [
    "Check again data integrity"
   ]
  },
  {
   "cell_type": "code",
   "execution_count": 21,
   "id": "d35c92d5",
   "metadata": {},
   "outputs": [
    {
     "name": "stdout",
     "output_type": "stream",
     "text": [
      "<class 'pandas.core.frame.DataFrame'>\n",
      "Int64Index: 10287 entries, 0 to 10286\n",
      "Columns: 501 entries, url to Frame\n",
      "dtypes: int64(1), object(500)\n",
      "memory usage: 39.4+ MB\n"
     ]
    }
   ],
   "source": [
    "full_df.info()"
   ]
  },
  {
   "cell_type": "markdown",
   "id": "ad476a0f",
   "metadata": {},
   "source": [
    "# Export all information "
   ]
  },
  {
   "cell_type": "code",
   "execution_count": null,
   "id": "3f755953",
   "metadata": {},
   "outputs": [],
   "source": [
    "full_df.to_csv(f'{DATA_PROCESSED_FOLDER}/picture_data.csv', index = False)"
   ]
  }
 ],
 "metadata": {
  "kernelspec": {
   "display_name": "Python 3.9.7 ('env': venv)",
   "language": "python",
   "name": "python3"
  },
  "language_info": {
   "codemirror_mode": {
    "name": "ipython",
    "version": 3
   },
   "file_extension": ".py",
   "mimetype": "text/x-python",
   "name": "python",
   "nbconvert_exporter": "python",
   "pygments_lexer": "ipython3",
   "version": "3.9.7"
  },
  "vscode": {
   "interpreter": {
    "hash": "0832b3b45e9f58719f136abde0f871f15b0c3514f4cec0b31c3dbed423b45e39"
   }
  }
 },
 "nbformat": 4,
 "nbformat_minor": 5
}
