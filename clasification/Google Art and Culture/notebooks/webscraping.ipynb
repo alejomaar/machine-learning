{
 "cells": [
  {
   "cell_type": "markdown",
   "id": "451dace1",
   "metadata": {},
   "source": [
    "# Google Art & Culture - Case study using CRISPS-DM\n",
    "\n",
    "#### Autors: Manuel Alejandro Aponte, Cristian Beltran, Maria Paula Peña\n",
    "\n",
    "In this notebook it will webscraping of the page Google Art & Culture\n",
    "\n",
    "## Objectives\n",
    "The objective of this notebooks is:\n",
    "\n",
    "* Download images using webscraping.\n",
    "* Download images metadata.\n",
    "* Store all information in a datasheet.\n",
    "\n",
    "## Prerequisites\n",
    "\n",
    "* Familiarity with python \n",
    "* Lastest version of Google WebDriver, Source: https://chromedriver.chromium.org/\n",
    "* Install python packages.\n",
    "* Use VPN (Recomended)\n",
    "\n",
    "## Background \n",
    "This notebook belongs to Google Art & Culture Case Study using CRIPS-DM, where would be include process such as webscraping, exploratory data analysis, ML classificators and dashboards. "
   ]
  },
  {
   "cell_type": "code",
   "execution_count": null,
   "id": "1b2349cd",
   "metadata": {},
   "outputs": [],
   "source": [
    "#Import project packages\n",
    "import sys\n",
    "sys.path.append('../src/')\n",
    "from Scraper import Scraper\n",
    "from Parallel import parallel\n",
    "#Import packages\n",
    "from typing import List\n",
    "import pandas as pd\n",
    "import numpy as np\n",
    "import time\n",
    "from selenium import webdriver\n",
    "from pprint import pprint\n",
    "from concurrent.futures import ThreadPoolExecutor\n",
    "from time import sleep\n",
    "import requests"
   ]
  },
  {
   "cell_type": "markdown",
   "id": "e9384b0f",
   "metadata": {},
   "source": [
    "# Global Settings"
   ]
  },
  {
   "cell_type": "code",
   "execution_count": null,
   "id": "d937e88e",
   "metadata": {},
   "outputs": [],
   "source": [
    "#Colors of sections to be webscraped\n",
    "COLORS = [\"WHITE\",\"PINK\",\"YELLOW\",\"PURPLE\",\"BLUE\",\"TEAL\",\"GREEN\",\"ORANGE\",\"RED\",\"BROWN\",\"BLACK\"] \n",
    "DRIVER_PATH = r\"../chromedriver.exe\"\n",
    "DATA_RAW_FOLDER = \"../data/raw\"\n",
    "DATA_PROCESSED_FOLDER = \"../data/processed\"\n",
    "DATA_FINAL_FOLDER = \"../data/final\"\n"
   ]
  },
  {
   "cell_type": "markdown",
   "id": "c6b4b2d7",
   "metadata": {},
   "source": [
    "# Webscraping (Extraction Phase 1)"
   ]
  },
  {
   "cell_type": "code",
   "execution_count": null,
   "id": "b01d8d6d",
   "metadata": {},
   "outputs": [],
   "source": [
    "\n",
    "\n",
    "def webscraping(color:str):\n",
    "    \"\"\"Perform webscraping of Google Art & Culture web page\n",
    "\n",
    "    Parameters\n",
    "    ----------\n",
    "    color : str\n",
    "        the color of target page\n",
    "    \"\"\"\n",
    "    scraper = Scraper(DRIVER_PATH,color)\n",
    "    scraper.open()\n",
    "    data = scraper.exec()\n",
    "    return data\n",
    "    \n",
    "    \n",
    "webscraping_data = parallel(webscraping,COLORS)\n",
    "print(webscraping_data[:5])"
   ]
  },
  {
   "cell_type": "code",
   "execution_count": null,
   "id": "b279ddb7",
   "metadata": {},
   "outputs": [],
   "source": [
    "df = pd.DataFrame(webscraping_data)\n",
    "df['index'] = df.index\n",
    "df.to_csv(f'{DATA_RAW_FOLDER}/pictures_original.csv', index = False)  "
   ]
  },
  {
   "cell_type": "markdown",
   "id": "4c165a07",
   "metadata": {},
   "source": [
    "# Webscraping (Extraction Phase 2)"
   ]
  },
  {
   "cell_type": "markdown",
   "id": "5bfa23c6",
   "metadata": {},
   "source": [
    "Get the image_url and the identify key (index)"
   ]
  },
  {
   "cell_type": "code",
   "execution_count": null,
   "id": "2ba0d2f6",
   "metadata": {},
   "outputs": [],
   "source": [
    "   \n",
    "df = df.read_csv(f'{DATA_RAW_FOLDER}/pictures_original.csv')\n",
    "df = df[['index','url']]   \n",
    "data = list(df.itertuples(index=False, name=None)) # Convert data into tuples"
   ]
  },
  {
   "cell_type": "markdown",
   "id": "2ee4fd86",
   "metadata": {},
   "source": [
    "Apply parallel transformation for download files "
   ]
  },
  {
   "cell_type": "code",
   "execution_count": null,
   "id": "d0652f84",
   "metadata": {},
   "outputs": [],
   "source": [
    "def get_image(data):\n",
    "    id = data[0]\n",
    "    link = data[1]\n",
    "    path = f'../data/raw/img/{id}.jpg'\n",
    "    img = requests.get(link).content\n",
    "    with open(path, 'wb') as handler:\n",
    "        handler.write(img)\n",
    "    return (id,f'{id}.jpg')\n",
    "\n",
    "data_processed = parallel(get_image,data) \n",
    "print(data_processed[0:5])"
   ]
  },
  {
   "cell_type": "markdown",
   "id": "94083c8f",
   "metadata": {},
   "source": [
    "Convert data into df and export it"
   ]
  },
  {
   "cell_type": "code",
   "execution_count": null,
   "id": "52e0e926",
   "metadata": {},
   "outputs": [],
   "source": [
    "df_processed = pd.DataFrame(data_processed, columns=['id','filename']) #Parse data into df\n",
    "df.to_csv(f'{DATA_PROCESSED_FOLDER}/pictures_images.csv', index = False)  # Export"
   ]
  },
  {
   "cell_type": "markdown",
   "id": "8b28a573",
   "metadata": {},
   "source": [
    "# Transform\n",
    "\n",
    "* Filtering, cleansing, de-duplicating, validating, and authenticating the data.\n",
    "* Performing calculations, translations, or summarizations based on the raw data. This can  include changing row and column headers for consistency, converting currencies or other units of measurement, editing text strings, and more.\n",
    "* Ensure data quality\n",
    "* Formatting the data into tables or joined tables to match the schema of the target data warehouse."
   ]
  },
  {
   "cell_type": "code",
   "execution_count": null,
   "id": "6953b040",
   "metadata": {},
   "outputs": [],
   "source": [
    "df_original = df.read_csv(f'{DATA_RAW_FOLDER}/pictures_original.csv')\n",
    "df_images = df.read_csv(f'{DATA_PROCESSED_FOLDER}/pictures_images.csv')\n",
    "df = df_original.merge(df_images, left_on='index', right_on='index')\n",
    "print(df.head())"
   ]
  },
  {
   "cell_type": "code",
   "execution_count": null,
   "id": "948abf0d",
   "metadata": {},
   "outputs": [],
   "source": [
    "print(df.shape)\n",
    "print(df_original.shape)\n",
    "print(df_images.shape)"
   ]
  },
  {
   "cell_type": "code",
   "execution_count": null,
   "id": "a88fc930",
   "metadata": {},
   "outputs": [],
   "source": [
    "df.info()"
   ]
  },
  {
   "cell_type": "code",
   "execution_count": null,
   "id": "e56009d4",
   "metadata": {},
   "outputs": [],
   "source": [
    "df.duplicated().value_counts() "
   ]
  },
  {
   "cell_type": "code",
   "execution_count": null,
   "id": "4a267632",
   "metadata": {},
   "outputs": [],
   "source": [
    "df.isnull().sum()"
   ]
  },
  {
   "cell_type": "code",
   "execution_count": null,
   "id": "3f755953",
   "metadata": {},
   "outputs": [],
   "source": [
    "#TODO: MERGE DF INTO ONE \n",
    "#     PARSE DATA COLUMN "
   ]
  },
  {
   "cell_type": "code",
   "execution_count": null,
   "id": "fd36724d",
   "metadata": {},
   "outputs": [],
   "source": [
    "from tqdm.notebook import tqdm\n",
    "import time\n",
    "for i in tqdm(range(10)):\n",
    "    time.sleep(1)"
   ]
  }
 ],
 "metadata": {
  "kernelspec": {
   "display_name": "Python 3.9.7 ('env': venv)",
   "language": "python",
   "name": "python3"
  },
  "language_info": {
   "codemirror_mode": {
    "name": "ipython",
    "version": 3
   },
   "file_extension": ".py",
   "mimetype": "text/x-python",
   "name": "python",
   "nbconvert_exporter": "python",
   "pygments_lexer": "ipython3",
   "version": "3.9.7"
  },
  "vscode": {
   "interpreter": {
    "hash": "0832b3b45e9f58719f136abde0f871f15b0c3514f4cec0b31c3dbed423b45e39"
   }
  }
 },
 "nbformat": 4,
 "nbformat_minor": 5
}
