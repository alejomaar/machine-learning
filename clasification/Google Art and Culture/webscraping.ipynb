{
 "cells": [
  {
   "cell_type": "markdown",
   "id": "451dace1",
   "metadata": {},
   "source": [
    "# Google Art & Culture - Case study using CRISPS-DM\n",
    "\n",
    "#### Autors: Manuel Alejandro Aponte, Cristian Beltran, Maria Paula Peña\n",
    "\n",
    "In this notebook it will webscraping of the page Google Art & Culture\n",
    "\n",
    "## Objectives\n",
    "The objective of this notebooks is:\n",
    "\n",
    "* Download images using webscraping.\n",
    "* Download images metadata.\n",
    "* Store all information in a datasheet.\n",
    "\n",
    "## Prerequisites\n",
    "\n",
    "* Familiarity with python \n",
    "* Lastest version of Google WebDriver, Source: https://chromedriver.chromium.org/\n",
    "* Install python packages.\n",
    "* Use VPN (Recomended)\n",
    "\n",
    "## Background \n",
    "This notebook belongs to Google Art & Culture Case Study using CRIPS-DM, where would be include process such as webscraping, exploratory data analysis, ML classificators and dashboards. "
   ]
  },
  {
   "cell_type": "code",
   "execution_count": null,
   "id": "8281cd9d",
   "metadata": {},
   "outputs": [],
   "source": [
    "#Package instalation\n",
    "!pip install pandas\n",
    "!pip install selenium"
   ]
  },
  {
   "cell_type": "code",
   "execution_count": null,
   "id": "1b2349cd",
   "metadata": {},
   "outputs": [],
   "source": [
    "#Import packages\n",
    "import pandas as pd\n",
    "import numpy as np\n",
    "import time\n",
    "from selenium import webdriver"
   ]
  },
  {
   "cell_type": "markdown",
   "id": "79a0d667",
   "metadata": {},
   "source": [
    "# Utils"
   ]
  },
  {
   "cell_type": "code",
   "execution_count": 4,
   "id": "ac7478cc",
   "metadata": {},
   "outputs": [],
   "source": [
    "class Manager:\n",
    "    def __init__(self, driver):\n",
    "        self.driver = driver\n",
    "        \n",
    "    def open(self,color):\n",
    "        target_page = f'https://artsandculture.google.com/color?col={color}'\n",
    "        self.driver.get(target_page)\n",
    "        \n",
    "    def scroll_down(self,scrolls):\n",
    "        for j in range(0, scrolls):\n",
    "            self.driver.execute_script(\"window.scrollTo(0, document.body.scrollHeight);\")\n",
    "            time.sleep(4)       \n",
    "    \n",
    "            \n",
    "    def js_pages(self):\n",
    "        scripts=[\n",
    "            \"var containers = [...document.querySelectorAll('.DuHQbc')];\",\n",
    "            'var img_elements = containers.map(contain => contain.firstElementChild);'\n",
    "            'return img_elements.map(a => a.href)'\n",
    "        ]\n",
    "        return self.mergeJS(scripts)\n",
    "    \n",
    "    def js_images(self):\n",
    "        scripts=[\n",
    "            \"var containers = [...document.querySelectorAll('.DuHQbc')];\",\n",
    "            'var img_elements= containers.map(contain => contain.firstElementChild);'\n",
    "            'return img_elements.map(a =>window.getComputedStyle(a, false).backgroundImage)'\n",
    "        ]\n",
    "        return self.mergeJS(scripts)\n",
    "    \n",
    "    def mergeJS(self,scripts):\n",
    "        return ''.join(scripts)\n",
    "\n",
    "class Storage:\n",
    "    def __init__(self):\n",
    "        self.storage = []\n",
    "        \n",
    "    #Add new register      \n",
    "    def add(self, url=\"NULL\",title=\"NULL\",autor=\"NULL\",date=\"NULL\",place=\"NULL\",category=\"NULL\"):\n",
    "        register = {\n",
    "            'url': str(url),\n",
    "            'title': str(title),\n",
    "            'autor': str(autor),\n",
    "            'date': str(date),\n",
    "            'place' : str(place),\n",
    "            'category' : str(category) \n",
    "        }\n",
    "        self.storage.append(register)\n",
    "    \n",
    "    def export(self,name):\n",
    "        df = pd.DataFrame(self.storage)\n",
    "        df.to_csv(name, index = False)\n",
    "        \n",
    "        \n",
    "        \n",
    "    \n",
    "        \n",
    "\n",
    "    "
   ]
  },
  {
   "cell_type": "code",
   "execution_count": 2,
   "id": "1035db6a",
   "metadata": {},
   "outputs": [
    {
     "data": {
      "text/plain": [
       "'abc'"
      ]
     },
     "execution_count": 2,
     "metadata": {},
     "output_type": "execute_result"
    }
   ],
   "source": [
    "''.join(['a','b','c'])"
   ]
  },
  {
   "cell_type": "markdown",
   "id": "60edd27e",
   "metadata": {},
   "source": [
    "# Step 1. Configuration"
   ]
  },
  {
   "cell_type": "code",
   "execution_count": 15,
   "id": "10c34d54",
   "metadata": {},
   "outputs": [],
   "source": []
  },
  {
   "cell_type": "code",
   "execution_count": 40,
   "id": "b30a8e02",
   "metadata": {},
   "outputs": [
    {
     "name": "stdout",
     "output_type": "stream",
     "text": [
      "pip==20.2.4\n",
      "pandas==1.4.3\n",
      "numpy==1.23.1\n",
      "selenium.webdriver==4.3.0\n",
      "{'url': '1', 'title': '2', 'autor': '3', 'date': 'NULL', 'place': 'NULL', 'category': 'NULL'}\n"
     ]
    }
   ],
   "source": [
    "from pprint import pprint\n",
    "#General Utils\n",
    "def getPackages():\n",
    "    print('\\n'.join(f'{m.__name__}=={m.__version__}' for m in globals().values() if getattr(m, '__version__', None)))\n",
    "    \n"
   ]
  },
  {
   "cell_type": "code",
   "execution_count": null,
   "id": "1dcaca83",
   "metadata": {},
   "outputs": [],
   "source": [
    "getPackages()\n",
    "print(newRegister(1,2,3))"
   ]
  },
  {
   "cell_type": "code",
   "execution_count": 41,
   "id": "e2b2f925",
   "metadata": {},
   "outputs": [],
   "source": [
    "###CONSTANTS VARIABLES\n",
    "COLORS = [\"WHITE\",\"PINK\",\"YELLOW\",\"PURPLE\",\"BLUE\",\"TEAL\",\"GREEN\",\"ORANGE\",\"RED\",\"BROWN\",\"BLACK\"]\n",
    "URL= \"https://artsandculture.google.com/color\""
   ]
  },
  {
   "cell_type": "code",
   "execution_count": 50,
   "id": "b279ddb7",
   "metadata": {},
   "outputs": [
    {
     "name": "stderr",
     "output_type": "stream",
     "text": [
      "C:\\Users\\user\\AppData\\Local\\Temp\\ipykernel_12092\\3111786427.py:7: DeprecationWarning: executable_path has been deprecated, please pass in a Service object\n",
      "  driver = webdriver.Chrome(executable_path = path)\n"
     ]
    },
    {
     "name": "stdout",
     "output_type": "stream",
     "text": [
      "https://artsandculture.google.com/color?col=WHITE\n",
      "https://artsandculture.google.com/color?col=PINK\n",
      "https://artsandculture.google.com/color?col=YELLOW\n",
      "https://artsandculture.google.com/color?col=PURPLE\n"
     ]
    },
    {
     "name": "stderr",
     "output_type": "stream",
     "text": [
      "Exception ignored in: <function Service.__del__ at 0x0000020E44DCD040>\n",
      "Traceback (most recent call last):\n",
      "  File \"d:\\portfolio\\engineer\\computer science\\machine_learning_git\\clasification\\google art and culture\\env\\lib\\site-packages\\selenium\\webdriver\\common\\service.py\", line 171, in __del__\n",
      "    self.stop()\n",
      "  File \"d:\\portfolio\\engineer\\computer science\\machine_learning_git\\clasification\\google art and culture\\env\\lib\\site-packages\\selenium\\webdriver\\common\\service.py\", line 146, in stop\n",
      "    self.send_remote_shutdown_command()\n",
      "  File \"d:\\portfolio\\engineer\\computer science\\machine_learning_git\\clasification\\google art and culture\\env\\lib\\site-packages\\selenium\\webdriver\\common\\service.py\", line 127, in send_remote_shutdown_command\n",
      "    if not self.is_connectable():\n",
      "  File \"d:\\portfolio\\engineer\\computer science\\machine_learning_git\\clasification\\google art and culture\\env\\lib\\site-packages\\selenium\\webdriver\\common\\service.py\", line 116, in is_connectable\n",
      "    return utils.is_connectable(self.port)\n",
      "  File \"d:\\portfolio\\engineer\\computer science\\machine_learning_git\\clasification\\google art and culture\\env\\lib\\site-packages\\selenium\\webdriver\\common\\utils.py\", line 107, in is_connectable\n",
      "    socket_ = socket.create_connection((host, port), 1)\n",
      "  File \"c:\\users\\user\\appdata\\local\\programs\\python\\python39\\lib\\socket.py\", line 832, in create_connection\n",
      "    sock.connect(sa)\n",
      "KeyboardInterrupt: \n"
     ]
    },
    {
     "ename": "NoSuchWindowException",
     "evalue": "Message: no such window: target window already closed\nfrom unknown error: web view not found\n  (Session info: chrome=103.0.5060.134)\nStacktrace:\nBacktrace:\n\tOrdinal0 [0x004C5FD3+2187219]\n\tOrdinal0 [0x0045E6D1+1763025]\n\tOrdinal0 [0x00373E78+802424]\n\tOrdinal0 [0x0035C680+706176]\n\tOrdinal0 [0x003BF519+1111321]\n\tOrdinal0 [0x003CC762+1165154]\n\tOrdinal0 [0x003BC9A6+1100198]\n\tOrdinal0 [0x00396F80+946048]\n\tOrdinal0 [0x00397E76+949878]\n\tGetHandleVerifier [0x007690C2+2721218]\n\tGetHandleVerifier [0x0075AAF0+2662384]\n\tGetHandleVerifier [0x0055137A+526458]\n\tGetHandleVerifier [0x00550416+522518]\n\tOrdinal0 [0x00464EAB+1789611]\n\tOrdinal0 [0x004697A8+1808296]\n\tOrdinal0 [0x00469895+1808533]\n\tOrdinal0 [0x004726C1+1844929]\n\tBaseThreadInitThunk [0x7611FA29+25]\n\tRtlGetAppContainerNamedObjectPath [0x77A07A9E+286]\n\tRtlGetAppContainerNamedObjectPath [0x77A07A6E+238]\n",
     "output_type": "error",
     "traceback": [
      "\u001b[1;31m---------------------------------------------------------------------------\u001b[0m",
      "\u001b[1;31mNoSuchWindowException\u001b[0m                     Traceback (most recent call last)",
      "Input \u001b[1;32mIn [50]\u001b[0m, in \u001b[0;36m<cell line: 9>\u001b[1;34m()\u001b[0m\n\u001b[0;32m     11\u001b[0m target_page \u001b[38;5;241m=\u001b[39m \u001b[38;5;124mf\u001b[39m\u001b[38;5;124m'\u001b[39m\u001b[38;5;124mhttps://artsandculture.google.com/color?col=\u001b[39m\u001b[38;5;132;01m{\u001b[39;00mcolor\u001b[38;5;132;01m}\u001b[39;00m\u001b[38;5;124m'\u001b[39m\n\u001b[0;32m     12\u001b[0m \u001b[38;5;28mprint\u001b[39m(target_page)\n\u001b[1;32m---> 13\u001b[0m \u001b[43mdriver\u001b[49m\u001b[38;5;241;43m.\u001b[39;49m\u001b[43mget\u001b[49m\u001b[43m(\u001b[49m\u001b[43mtarget_page\u001b[49m\u001b[43m)\u001b[49m\n",
      "File \u001b[1;32md:\\portfolio\\engineer\\computer science\\machine_learning_git\\clasification\\google art and culture\\env\\lib\\site-packages\\selenium\\webdriver\\remote\\webdriver.py:447\u001b[0m, in \u001b[0;36mWebDriver.get\u001b[1;34m(self, url)\u001b[0m\n\u001b[0;32m    443\u001b[0m \u001b[38;5;28;01mdef\u001b[39;00m \u001b[38;5;21mget\u001b[39m(\u001b[38;5;28mself\u001b[39m, url: \u001b[38;5;28mstr\u001b[39m) \u001b[38;5;241m-\u001b[39m\u001b[38;5;241m>\u001b[39m \u001b[38;5;28;01mNone\u001b[39;00m:\n\u001b[0;32m    444\u001b[0m     \u001b[38;5;124;03m\"\"\"\u001b[39;00m\n\u001b[0;32m    445\u001b[0m \u001b[38;5;124;03m    Loads a web page in the current browser session.\u001b[39;00m\n\u001b[0;32m    446\u001b[0m \u001b[38;5;124;03m    \"\"\"\u001b[39;00m\n\u001b[1;32m--> 447\u001b[0m     \u001b[38;5;28;43mself\u001b[39;49m\u001b[38;5;241;43m.\u001b[39;49m\u001b[43mexecute\u001b[49m\u001b[43m(\u001b[49m\u001b[43mCommand\u001b[49m\u001b[38;5;241;43m.\u001b[39;49m\u001b[43mGET\u001b[49m\u001b[43m,\u001b[49m\u001b[43m \u001b[49m\u001b[43m{\u001b[49m\u001b[38;5;124;43m'\u001b[39;49m\u001b[38;5;124;43murl\u001b[39;49m\u001b[38;5;124;43m'\u001b[39;49m\u001b[43m:\u001b[49m\u001b[43m \u001b[49m\u001b[43murl\u001b[49m\u001b[43m}\u001b[49m\u001b[43m)\u001b[49m\n",
      "File \u001b[1;32md:\\portfolio\\engineer\\computer science\\machine_learning_git\\clasification\\google art and culture\\env\\lib\\site-packages\\selenium\\webdriver\\remote\\webdriver.py:435\u001b[0m, in \u001b[0;36mWebDriver.execute\u001b[1;34m(self, driver_command, params)\u001b[0m\n\u001b[0;32m    433\u001b[0m response \u001b[38;5;241m=\u001b[39m \u001b[38;5;28mself\u001b[39m\u001b[38;5;241m.\u001b[39mcommand_executor\u001b[38;5;241m.\u001b[39mexecute(driver_command, params)\n\u001b[0;32m    434\u001b[0m \u001b[38;5;28;01mif\u001b[39;00m response:\n\u001b[1;32m--> 435\u001b[0m     \u001b[38;5;28;43mself\u001b[39;49m\u001b[38;5;241;43m.\u001b[39;49m\u001b[43merror_handler\u001b[49m\u001b[38;5;241;43m.\u001b[39;49m\u001b[43mcheck_response\u001b[49m\u001b[43m(\u001b[49m\u001b[43mresponse\u001b[49m\u001b[43m)\u001b[49m\n\u001b[0;32m    436\u001b[0m     response[\u001b[38;5;124m'\u001b[39m\u001b[38;5;124mvalue\u001b[39m\u001b[38;5;124m'\u001b[39m] \u001b[38;5;241m=\u001b[39m \u001b[38;5;28mself\u001b[39m\u001b[38;5;241m.\u001b[39m_unwrap_value(\n\u001b[0;32m    437\u001b[0m         response\u001b[38;5;241m.\u001b[39mget(\u001b[38;5;124m'\u001b[39m\u001b[38;5;124mvalue\u001b[39m\u001b[38;5;124m'\u001b[39m, \u001b[38;5;28;01mNone\u001b[39;00m))\n\u001b[0;32m    438\u001b[0m     \u001b[38;5;28;01mreturn\u001b[39;00m response\n",
      "File \u001b[1;32md:\\portfolio\\engineer\\computer science\\machine_learning_git\\clasification\\google art and culture\\env\\lib\\site-packages\\selenium\\webdriver\\remote\\errorhandler.py:247\u001b[0m, in \u001b[0;36mErrorHandler.check_response\u001b[1;34m(self, response)\u001b[0m\n\u001b[0;32m    245\u001b[0m         alert_text \u001b[38;5;241m=\u001b[39m value[\u001b[38;5;124m'\u001b[39m\u001b[38;5;124malert\u001b[39m\u001b[38;5;124m'\u001b[39m]\u001b[38;5;241m.\u001b[39mget(\u001b[38;5;124m'\u001b[39m\u001b[38;5;124mtext\u001b[39m\u001b[38;5;124m'\u001b[39m)\n\u001b[0;32m    246\u001b[0m     \u001b[38;5;28;01mraise\u001b[39;00m exception_class(message, screen, stacktrace, alert_text)  \u001b[38;5;66;03m# type: ignore[call-arg]  # mypy is not smart enough here\u001b[39;00m\n\u001b[1;32m--> 247\u001b[0m \u001b[38;5;28;01mraise\u001b[39;00m exception_class(message, screen, stacktrace)\n",
      "\u001b[1;31mNoSuchWindowException\u001b[0m: Message: no such window: target window already closed\nfrom unknown error: web view not found\n  (Session info: chrome=103.0.5060.134)\nStacktrace:\nBacktrace:\n\tOrdinal0 [0x004C5FD3+2187219]\n\tOrdinal0 [0x0045E6D1+1763025]\n\tOrdinal0 [0x00373E78+802424]\n\tOrdinal0 [0x0035C680+706176]\n\tOrdinal0 [0x003BF519+1111321]\n\tOrdinal0 [0x003CC762+1165154]\n\tOrdinal0 [0x003BC9A6+1100198]\n\tOrdinal0 [0x00396F80+946048]\n\tOrdinal0 [0x00397E76+949878]\n\tGetHandleVerifier [0x007690C2+2721218]\n\tGetHandleVerifier [0x0075AAF0+2662384]\n\tGetHandleVerifier [0x0055137A+526458]\n\tGetHandleVerifier [0x00550416+522518]\n\tOrdinal0 [0x00464EAB+1789611]\n\tOrdinal0 [0x004697A8+1808296]\n\tOrdinal0 [0x00469895+1808533]\n\tOrdinal0 [0x004726C1+1844929]\n\tBaseThreadInitThunk [0x7611FA29+25]\n\tRtlGetAppContainerNamedObjectPath [0x77A07A9E+286]\n\tRtlGetAppContainerNamedObjectPath [0x77A07A6E+238]\n"
     ]
    }
   ],
   "source": [
    "path = r'chromedriver.exe'\n",
    "driver = webdriver.Chrome(executable_path = path)\n",
    "manager = Manager()\n",
    "\n",
    "for color in COLORS[0:2]:\n",
    "    time.sleep(1)\n",
    "    target_page = f'https://artsandculture.google.com/color?col={color}'\n",
    "    driver.get(target_page)\n",
    "    \n",
    "    manager\n",
    "    \n",
    "    \n",
    "\n"
   ]
  },
  {
   "cell_type": "code",
   "execution_count": null,
   "id": "c2cb9f6e",
   "metadata": {},
   "outputs": [],
   "source": []
  }
 ],
 "metadata": {
  "kernelspec": {
   "display_name": "google-art",
   "language": "python",
   "name": "google-art"
  },
  "language_info": {
   "codemirror_mode": {
    "name": "ipython",
    "version": 3
   },
   "file_extension": ".py",
   "mimetype": "text/x-python",
   "name": "python",
   "nbconvert_exporter": "python",
   "pygments_lexer": "ipython3",
   "version": "3.9.7"
  }
 },
 "nbformat": 4,
 "nbformat_minor": 5
}
