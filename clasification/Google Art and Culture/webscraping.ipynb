{
 "cells": [
  {
   "cell_type": "markdown",
   "id": "451dace1",
   "metadata": {},
   "source": [
    "# Google Art & Culture - Case study using CRISPS-DM\n",
    "\n",
    "#### Autors: Manuel Alejandro Aponte, Cristian Beltran, Maria Paula Peña\n",
    "\n",
    "In this notebook it will webscraping of the page Google Art & Culture\n",
    "\n",
    "## Objectives\n",
    "The objective of this notebooks is:\n",
    "\n",
    "* Download images using webscraping.\n",
    "* Download images metadata.\n",
    "* Store all information in a datasheet.\n",
    "\n",
    "## Prerequisites\n",
    "\n",
    "* Familiarity with python \n",
    "* Lastest version of Google WebDriver\n",
    "* Install python packages.\n",
    "\n",
    "## Background \n",
    "This notebook belongs to Google Art & Culture Case Study using CRIPS-DM, where would be include process such as webscraping, exploratory data analysis, ML classificators and dashboards. "
   ]
  },
  {
   "cell_type": "code",
   "execution_count": null,
   "id": "b279ddb7",
   "metadata": {},
   "outputs": [],
   "source": []
  }
 ],
 "metadata": {
  "kernelspec": {
   "display_name": "Python 3 (ipykernel)",
   "language": "python",
   "name": "python3"
  },
  "language_info": {
   "codemirror_mode": {
    "name": "ipython",
    "version": 3
   },
   "file_extension": ".py",
   "mimetype": "text/x-python",
   "name": "python",
   "nbconvert_exporter": "python",
   "pygments_lexer": "ipython3",
   "version": "3.9.7"
  }
 },
 "nbformat": 4,
 "nbformat_minor": 5
}
